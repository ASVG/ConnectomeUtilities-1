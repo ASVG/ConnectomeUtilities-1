{
 "cells": [
  {
   "cell_type": "code",
   "execution_count": 1,
   "id": "d8d302c1",
   "metadata": {},
   "outputs": [],
   "source": [
    "import numpy\n",
    "import numpy as np\n",
    "import pandas\n",
    "import conntility\n",
    "\n",
    "from scipy import sparse\n",
    "from matplotlib import pyplot as plt"
   ]
  },
  {
   "cell_type": "markdown",
   "id": "cd5ac287",
   "metadata": {},
   "source": [
    "StructurallyPlasticMatrix can be initialized in two ways:\n",
    "1. like a regular ConnectivityMatrix, additionally specifying dicts of points in time when individual edges are switched on or off\n",
    "2. By explicitly specifying a list of sparse matrices\n",
    "\n",
    "Here, we demonstrate (1)"
   ]
  },
  {
   "cell_type": "code",
   "execution_count": 2,
   "id": "2cb78972",
   "metadata": {},
   "outputs": [],
   "source": [
    "base_matrix = sparse.coo_matrix(numpy.random.rand(25, 25) < 0.5)\n",
    "ncon = base_matrix.nnz\n",
    "\n",
    "switch_off = {0: numpy.random.choice(ncon, 10, replace=False)} # 10 random connections initially switched off\n",
    "switch_on = {1: switch_off[0][:5]} # Half of them switched back on in the next time step\n",
    "\n",
    "M = conntility.StructurallyPlasticMatrix(numpy.random.rand(25, 25) < 0.5, edge_off=switch_off, edge_on=switch_on)"
   ]
  },
  {
   "cell_type": "markdown",
   "id": "0e9c85ff",
   "metadata": {},
   "source": [
    "The object can be used just like a ConnectivityMatrix object with all functionality.\n",
    "It represents the union of all edges.\n",
    "Indexing it returns the ConnectivityMatrix at the specified point in time, i.e. with certain edges switched off or on"
   ]
  },
  {
   "cell_type": "code",
   "execution_count": 3,
   "id": "546d7719",
   "metadata": {},
   "outputs": [
    {
     "name": "stdout",
     "output_type": "stream",
     "text": [
      "\n",
      "Overall number of edges: 301\n",
      "At time=0: 292\n",
      "At time=1: 297\n",
      "\n"
     ]
    }
   ],
   "source": [
    "print(\"\"\"\n",
    "Overall number of edges: {0}\n",
    "At time=0: {1}\n",
    "At time=1: {2}\n",
    "\"\"\".format(M.matrix.nnz, M[0].matrix.nnz, M[1].matrix.nnz))"
   ]
  },
  {
   "cell_type": "markdown",
   "id": "bf78ec15",
   "metadata": {},
   "source": [
    "Initialization option (2)"
   ]
  },
  {
   "cell_type": "code",
   "execution_count": 4,
   "id": "1bc259a0",
   "metadata": {},
   "outputs": [
    {
     "data": {
      "text/plain": [
       "<matplotlib.image.AxesImage at 0x7f551e742580>"
      ]
     },
     "execution_count": 4,
     "metadata": {},
     "output_type": "execute_result"
    },
    {
     "data": {
      "image/png": "[encoded data removed]",
      "text/plain": [
       "<Figure size 432x288 with 1 Axes>"
      ]
     },
     "metadata": {
      "needs_background": "light"
     },
     "output_type": "display_data"
    }
   ],
   "source": [
    "ms = [sparse.coo_matrix(numpy.random.rand(25, 25) < 0.1) for _ in range(10)]\n",
    "M = conntility.StructurallyPlasticMatrix.from_matrix_stack(ms)\n",
    "\n",
    "plt.imshow(M[5].array)"
   ]
  },
  {
   "cell_type": "markdown",
   "id": "d9062746",
   "metadata": {},
   "source": [
    "Reminder that the base object without indexing represents the union of all edges:"
   ]
  },
  {
   "cell_type": "code",
   "execution_count": 5,
   "id": "a7188da0",
   "metadata": {},
   "outputs": [
    {
     "data": {
      "text/plain": [
       "<matplotlib.image.AxesImage at 0x7f551c62e4f0>"
      ]
     },
     "execution_count": 5,
     "metadata": {},
     "output_type": "execute_result"
    },
    {
     "data": {
      "image/png": "[encoded data removed]",
      "text/plain": [
       "<Figure size 432x288 with 1 Axes>"
      ]
     },
     "metadata": {
      "needs_background": "light"
     },
     "output_type": "display_data"
    }
   ],
   "source": [
    "plt.imshow(M.array)"
   ]
  },
  {
   "cell_type": "markdown",
   "id": "1137c3f8",
   "metadata": {},
   "source": [
    "Compared to explicitly storing just a list of ConnectivityMatrices, this object is more efficient in some contexts, because it only stores the change in edges from one point to another.\n",
    "\n",
    "It offers some utility, such as easy access to the \"delta\", i.e. the net change from one point to another.\n",
    "\n",
    "All utility demonstrated below is more efficient than implementations using lists of ConnectivityMatrices if the amount of change is small compared to the overall size of the matrix."
   ]
  },
  {
   "cell_type": "code",
   "execution_count": 6,
   "id": "21beb4a4",
   "metadata": {},
   "outputs": [
    {
     "data": {
      "text/plain": [
       "<matplotlib.image.AxesImage at 0x7f551c5a7100>"
      ]
     },
     "execution_count": 6,
     "metadata": {},
     "output_type": "execute_result"
    },
    {
     "data": {
      "image/png": "[encoded data removed]",
      "text/plain": [
       "<Figure size 432x288 with 1 Axes>"
      ]
     },
     "metadata": {
      "needs_background": "light"
     },
     "output_type": "display_data"
    }
   ],
   "source": [
    "idx_fr = 3; idx_to = 7\n",
    "a = M[idx_fr]; b = M[idx_to]\n",
    "delta = M.delta(idx_fr, idx_to)\n",
    "\n",
    "assert numpy.all((b.array.astype(int) - a.array) == delta.array)\n",
    "\n",
    "plt.imshow(delta.array)"
   ]
  },
  {
   "cell_type": "markdown",
   "id": "6c933725",
   "metadata": {},
   "source": [
    "The change between the union of all edges and the first matrix is accessed by using \"-1\" as the base"
   ]
  },
  {
   "cell_type": "code",
   "execution_count": 7,
   "id": "8296062d",
   "metadata": {},
   "outputs": [
    {
     "data": {
      "text/plain": [
       "<matplotlib.image.AxesImage at 0x7f551c58c250>"
      ]
     },
     "execution_count": 7,
     "metadata": {},
     "output_type": "execute_result"
    },
    {
     "data": {
      "image/png": "[encoded data removed]",
      "text/plain": [
       "<Figure size 432x288 with 1 Axes>"
      ]
     },
     "metadata": {
      "needs_background": "light"
     },
     "output_type": "display_data"
    }
   ],
   "source": [
    "delta = M.delta(-1, 0)\n",
    "\n",
    "assert numpy.all(M.array + delta.array == M[0].array)\n",
    "plt.imshow(delta.array)"
   ]
  },
  {
   "cell_type": "markdown",
   "id": "46d00935",
   "metadata": {},
   "source": [
    "The number of changes per edge, i.e. how often it is switched on or off:"
   ]
  },
  {
   "cell_type": "code",
   "execution_count": 8,
   "id": "9599c82f",
   "metadata": {},
   "outputs": [
    {
     "data": {
      "text/plain": [
       "<matplotlib.image.AxesImage at 0x7f551c4f47c0>"
      ]
     },
     "execution_count": 8,
     "metadata": {},
     "output_type": "execute_result"
    },
    {
     "data": {
      "image/png": "[encoded data removed]",
      "text/plain": [
       "<Figure size 432x288 with 1 Axes>"
      ]
     },
     "metadata": {
      "needs_background": "light"
     },
     "output_type": "display_data"
    }
   ],
   "source": [
    "c_total = M.count_changes()\n",
    "c_on = M.count_changes(count_off=False)\n",
    "c_off = M.count_changes(count_on=False)\n",
    "\n",
    "assert numpy.all(c_total.array == (c_on.array + c_off.array))\n",
    "\n",
    "plt.imshow(c_total.array)"
   ]
  },
  {
   "cell_type": "markdown",
   "id": "a745a883",
   "metadata": {},
   "source": [
    "The total number of time steps a given edge is switched on for (i.e. the sum of stack of matrices)"
   ]
  },
  {
   "cell_type": "code",
   "execution_count": 9,
   "id": "78917f25",
   "metadata": {},
   "outputs": [
    {
     "data": {
      "text/plain": [
       "<matplotlib.image.AxesImage at 0x7f551c4d2ee0>"
      ]
     },
     "execution_count": 9,
     "metadata": {},
     "output_type": "execute_result"
    },
    {
     "data": {
      "image/png": "[encoded data removed]",
      "text/plain": [
       "<Figure size 432x288 with 1 Axes>"
      ]
     },
     "metadata": {
      "needs_background": "light"
     },
     "output_type": "display_data"
    }
   ],
   "source": [
    "c_count = M.amount_active().array\n",
    "\n",
    "cmp_count = numpy.dstack([numpy.array(_m.todense()) for _m in ms]).sum(axis=2)\n",
    "\n",
    "assert numpy.all(c_count == cmp_count)\n",
    "plt.imshow(c_count)"
   ]
  },
  {
   "cell_type": "markdown",
   "id": "e08f9b7c",
   "metadata": {},
   "source": [
    "Something that would be trickier when representing the data as a list of ConnectivityMatrices:\n",
    "We skip the change ocurring in a given time step."
   ]
  },
  {
   "cell_type": "code",
   "execution_count": 10,
   "id": "011c81f2",
   "metadata": {},
   "outputs": [],
   "source": [
    "Mskip = M.skip(4)\n",
    "\n",
    "A = M[3]\n",
    "B = Mskip[4] # should be the same, as change happening in step 4 is ignored.\n",
    "assert numpy.all(A.array == B.array)"
   ]
  }
 ],
 "metadata": {
  "kernelspec": {
   "display_name": "Python 3 (ipykernel)",
   "language": "python",
   "name": "python3"
  },
  "language_info": {
   "codemirror_mode": {
    "name": "ipython",
    "version": 3
   },
   "file_extension": ".py",
   "mimetype": "text/x-python",
   "name": "python",
   "nbconvert_exporter": "python",
   "pygments_lexer": "ipython3",
   "version": "3.8.10"
  }
 },
 "nbformat": 4,
 "nbformat_minor": 5
}
