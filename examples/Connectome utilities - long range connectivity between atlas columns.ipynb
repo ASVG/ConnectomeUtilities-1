{
 "cells": [
  {
   "cell_type": "markdown",
   "id": "96ed837e",
   "metadata": {},
   "source": [
    "### If you have any suggestions, or find bugs, create a jira ticket:\n",
    "https://bbpteam.epfl.ch/project/issues/projects/ACCS/issues/?filter=allopenissues"
   ]
  },
  {
   "cell_type": "markdown",
   "id": "3f08ce7d",
   "metadata": {},
   "source": [
    "We begin by loading a circuit"
   ]
  },
  {
   "cell_type": "code",
   "execution_count": 8,
   "id": "21ed2159",
   "metadata": {},
   "outputs": [],
   "source": [
    "import pandas\n",
    "import numpy\n",
    "import bluepy\n",
    "\n",
    "circ_fn = \"/gpfs/bbp.cscs.ch/project/proj83/circuits/Bio_M/20200805/CircuitConfig_TC_WM\"\n",
    "column_prop_fn = \"/gpfs/bbp.cscs.ch/project/proj83/home/reimann/subvolumes/voxel-based-hex-grid-info-with-conicality.h5\"\n",
    "\n",
    "circ = bluepy.Circuit(circ_fn)\n",
    "col_props = pandas.read_hdf(column_prop_fn, \"grid-info\")"
   ]
  },
  {
   "cell_type": "markdown",
   "id": "2cd50822",
   "metadata": {},
   "source": [
    "New we load basic information about neurons into a DataFrame.\n",
    "To that end, we first write a \"loader_config\". It specifies the following:\n",
    " - Which neurons to load and which of their properties\n",
    " - Which filter to apply. In this example, we focus on layer 4 connectivity only\n",
    " - How to group the neurons into different classes. Here, we group the neurons together into 400 um \"columns\", i.e. according to a hexagonal grid\n",
    " \n",
    " Feel free to adjust any of the specifics, for example using smaller columns"
   ]
  },
  {
   "cell_type": "code",
   "execution_count": 9,
   "id": "3fadd474",
   "metadata": {},
   "outputs": [
    {
     "data": {
      "text/html": [
       "<div>\n",
       "<style scoped>\n",
       "    .dataframe tbody tr th:only-of-type {\n",
       "        vertical-align: middle;\n",
       "    }\n",
       "\n",
       "    .dataframe tbody tr th {\n",
       "        vertical-align: top;\n",
       "    }\n",
       "\n",
       "    .dataframe thead th {\n",
       "        text-align: right;\n",
       "    }\n",
       "</style>\n",
       "<table border=\"1\" class=\"dataframe\">\n",
       "  <thead>\n",
       "    <tr style=\"text-align: right;\">\n",
       "      <th></th>\n",
       "      <th>etype</th>\n",
       "      <th>layer</th>\n",
       "      <th>mtype</th>\n",
       "      <th>synapse_class</th>\n",
       "      <th>x</th>\n",
       "      <th>y</th>\n",
       "      <th>z</th>\n",
       "      <th>gid</th>\n",
       "      <th>column_id</th>\n",
       "    </tr>\n",
       "    <tr>\n",
       "      <th>idx-column_id</th>\n",
       "      <th></th>\n",
       "      <th></th>\n",
       "      <th></th>\n",
       "      <th></th>\n",
       "      <th></th>\n",
       "      <th></th>\n",
       "      <th></th>\n",
       "      <th></th>\n",
       "      <th></th>\n",
       "    </tr>\n",
       "  </thead>\n",
       "  <tbody>\n",
       "    <tr>\n",
       "      <th>0</th>\n",
       "      <td>cADpyr</td>\n",
       "      <td>4</td>\n",
       "      <td>L4_TPC</td>\n",
       "      <td>EXC</td>\n",
       "      <td>3268.886432</td>\n",
       "      <td>-2218.224359</td>\n",
       "      <td>-1737.954129</td>\n",
       "      <td>2527282</td>\n",
       "      <td>0</td>\n",
       "    </tr>\n",
       "    <tr>\n",
       "      <th>0</th>\n",
       "      <td>cADpyr</td>\n",
       "      <td>4</td>\n",
       "      <td>L4_TPC</td>\n",
       "      <td>EXC</td>\n",
       "      <td>3849.881414</td>\n",
       "      <td>-3466.198107</td>\n",
       "      <td>-2750.492024</td>\n",
       "      <td>2527316</td>\n",
       "      <td>0</td>\n",
       "    </tr>\n",
       "    <tr>\n",
       "      <th>0</th>\n",
       "      <td>cADpyr</td>\n",
       "      <td>4</td>\n",
       "      <td>L4_TPC</td>\n",
       "      <td>EXC</td>\n",
       "      <td>3239.995047</td>\n",
       "      <td>-2220.746300</td>\n",
       "      <td>-1719.661074</td>\n",
       "      <td>2527331</td>\n",
       "      <td>0</td>\n",
       "    </tr>\n",
       "    <tr>\n",
       "      <th>0</th>\n",
       "      <td>cADpyr</td>\n",
       "      <td>4</td>\n",
       "      <td>L4_TPC</td>\n",
       "      <td>EXC</td>\n",
       "      <td>3243.908223</td>\n",
       "      <td>-2168.676812</td>\n",
       "      <td>-1732.133370</td>\n",
       "      <td>2527365</td>\n",
       "      <td>0</td>\n",
       "    </tr>\n",
       "    <tr>\n",
       "      <th>0</th>\n",
       "      <td>cADpyr</td>\n",
       "      <td>4</td>\n",
       "      <td>L4_TPC</td>\n",
       "      <td>EXC</td>\n",
       "      <td>4087.109544</td>\n",
       "      <td>-3359.881557</td>\n",
       "      <td>-3791.233055</td>\n",
       "      <td>2527382</td>\n",
       "      <td>0</td>\n",
       "    </tr>\n",
       "    <tr>\n",
       "      <th>...</th>\n",
       "      <td>...</td>\n",
       "      <td>...</td>\n",
       "      <td>...</td>\n",
       "      <td>...</td>\n",
       "      <td>...</td>\n",
       "      <td>...</td>\n",
       "      <td>...</td>\n",
       "      <td>...</td>\n",
       "      <td>...</td>\n",
       "    </tr>\n",
       "    <tr>\n",
       "      <th>237</th>\n",
       "      <td>cADpyr</td>\n",
       "      <td>4</td>\n",
       "      <td>L4_TPC</td>\n",
       "      <td>EXC</td>\n",
       "      <td>6260.139475</td>\n",
       "      <td>1894.998384</td>\n",
       "      <td>-4680.608800</td>\n",
       "      <td>2615239</td>\n",
       "      <td>237</td>\n",
       "    </tr>\n",
       "    <tr>\n",
       "      <th>237</th>\n",
       "      <td>cNAC</td>\n",
       "      <td>4</td>\n",
       "      <td>L4_NBC</td>\n",
       "      <td>INH</td>\n",
       "      <td>6168.881613</td>\n",
       "      <td>1895.761837</td>\n",
       "      <td>-4738.744205</td>\n",
       "      <td>2793529</td>\n",
       "      <td>237</td>\n",
       "    </tr>\n",
       "    <tr>\n",
       "      <th>237</th>\n",
       "      <td>cADpyr</td>\n",
       "      <td>4</td>\n",
       "      <td>L4_TPC</td>\n",
       "      <td>EXC</td>\n",
       "      <td>6170.364446</td>\n",
       "      <td>1890.751772</td>\n",
       "      <td>-4743.937984</td>\n",
       "      <td>2520607</td>\n",
       "      <td>237</td>\n",
       "    </tr>\n",
       "    <tr>\n",
       "      <th>237</th>\n",
       "      <td>cADpyr</td>\n",
       "      <td>4</td>\n",
       "      <td>L4_TPC</td>\n",
       "      <td>EXC</td>\n",
       "      <td>6175.350047</td>\n",
       "      <td>1900.542689</td>\n",
       "      <td>-4737.529260</td>\n",
       "      <td>2771735</td>\n",
       "      <td>237</td>\n",
       "    </tr>\n",
       "    <tr>\n",
       "      <th>237</th>\n",
       "      <td>cADpyr</td>\n",
       "      <td>4</td>\n",
       "      <td>L4_UPC</td>\n",
       "      <td>EXC</td>\n",
       "      <td>6279.876679</td>\n",
       "      <td>1887.099517</td>\n",
       "      <td>-4697.767808</td>\n",
       "      <td>2215581</td>\n",
       "      <td>237</td>\n",
       "    </tr>\n",
       "  </tbody>\n",
       "</table>\n",
       "<p>679421 rows × 9 columns</p>\n",
       "</div>"
      ],
      "text/plain": [
       "                etype  layer   mtype synapse_class            x            y  \\\n",
       "idx-column_id                                                                  \n",
       "0              cADpyr      4  L4_TPC           EXC  3268.886432 -2218.224359   \n",
       "0              cADpyr      4  L4_TPC           EXC  3849.881414 -3466.198107   \n",
       "0              cADpyr      4  L4_TPC           EXC  3239.995047 -2220.746300   \n",
       "0              cADpyr      4  L4_TPC           EXC  3243.908223 -2168.676812   \n",
       "0              cADpyr      4  L4_TPC           EXC  4087.109544 -3359.881557   \n",
       "...               ...    ...     ...           ...          ...          ...   \n",
       "237            cADpyr      4  L4_TPC           EXC  6260.139475  1894.998384   \n",
       "237              cNAC      4  L4_NBC           INH  6168.881613  1895.761837   \n",
       "237            cADpyr      4  L4_TPC           EXC  6170.364446  1890.751772   \n",
       "237            cADpyr      4  L4_TPC           EXC  6175.350047  1900.542689   \n",
       "237            cADpyr      4  L4_UPC           EXC  6279.876679  1887.099517   \n",
       "\n",
       "                         z      gid  column_id  \n",
       "idx-column_id                                   \n",
       "0             -1737.954129  2527282          0  \n",
       "0             -2750.492024  2527316          0  \n",
       "0             -1719.661074  2527331          0  \n",
       "0             -1732.133370  2527365          0  \n",
       "0             -3791.233055  2527382          0  \n",
       "...                    ...      ...        ...  \n",
       "237           -4680.608800  2615239        237  \n",
       "237           -4738.744205  2793529        237  \n",
       "237           -4743.937984  2520607        237  \n",
       "237           -4737.529260  2771735        237  \n",
       "237           -4697.767808  2215581        237  \n",
       "\n",
       "[679421 rows x 9 columns]"
      ]
     },
     "metadata": {},
     "output_type": "display_data"
    }
   ],
   "source": [
    "# install the following repo from: bbpgitlab.epfl.ch:conn/structural/Connectome-utilities.git\n",
    "# Note: There is more documentation in that repo!\n",
    "from conntility.circuit_models import neuron_groups\n",
    "\n",
    "loader_config = {\n",
    "    \"loading\": {\n",
    "        \"base_target\": \"Mosaic\", \n",
    "        \"properties\": [\"x\", \"y\", \"z\", \"etype\", \"mtype\", \"layer\", \"synapse_class\"],\n",
    "        \"atlas\": [\n",
    "            {\"data\": \"/gpfs/bbp.cscs.ch/project/proj83/home/reimann/subvolumes/column_identities.nrrd\",\n",
    "             \"properties\": [\"column_id\"]}\n",
    "        ]\n",
    "    },\n",
    "    \"filtering\":[\n",
    "        {\n",
    "            \"column\": \"layer\",\n",
    "            \"value\": 4\n",
    "        }\n",
    "    ],\n",
    "    \"grouping\": [\n",
    "        {\n",
    "            \"method\": \"group_by_properties\",\n",
    "            \"columns\": [\"column_id\"]\n",
    "        }\n",
    "    ]\n",
    "}\n",
    "\n",
    "\n",
    "base_grp = neuron_groups.load_group_filter(circ, loader_config)\n",
    "\n",
    "display(base_grp)\n",
    "# NOTE: column_id 0 indicates a neuron is NOT MEMBER OF ANY COLUMN!"
   ]
  },
  {
   "cell_type": "markdown",
   "id": "95f71b8e",
   "metadata": {},
   "source": [
    "Quick check: How many neurons of each type are we considering?\n",
    "\n",
    "As expected: Only layer 4 neurons, but all of them."
   ]
  },
  {
   "cell_type": "code",
   "execution_count": 7,
   "id": "7c5216c9",
   "metadata": {
    "scrolled": true
   },
   "outputs": [
    {
     "data": {
      "text/plain": [
       "L4_TPC       408232\n",
       "L4_UPC       169797\n",
       "L4_SSC        57803\n",
       "L4_LBC        12943\n",
       "L4_MC          9831\n",
       "L4_NBC         8817\n",
       "L4_BTC         5195\n",
       "L4_BP          1870\n",
       "L4_SBC         1749\n",
       "L4_DBC         1746\n",
       "L4_NGC         1052\n",
       "L4_CHC          386\n",
       "L5_TPC:B          0\n",
       "L5_SBC            0\n",
       "L5_NGC            0\n",
       "L5_NBC            0\n",
       "L5_TPC:A          0\n",
       "L5_TPC:C          0\n",
       "L5_LBC            0\n",
       "L6_LBC            0\n",
       "L6_TPC:C          0\n",
       "L6_TPC:A          0\n",
       "L6_SBC            0\n",
       "L6_NGC            0\n",
       "L6_NBC            0\n",
       "L6_MC             0\n",
       "L6_IPC            0\n",
       "L5_UPC            0\n",
       "L6_HPC            0\n",
       "L6_DBC            0\n",
       "L6_CHC            0\n",
       "L6_BTC            0\n",
       "L6_BPC            0\n",
       "L6_BP             0\n",
       "L5_MC             0\n",
       "L1_DAC            0\n",
       "L5_DBC            0\n",
       "L5_CHC            0\n",
       "L1_LAC            0\n",
       "L1_NGC-DA         0\n",
       "L1_NGC-SA         0\n",
       "L1_SAC            0\n",
       "L23_BP            0\n",
       "L23_BTC           0\n",
       "L23_CHC           0\n",
       "L23_DBC           0\n",
       "L23_LBC           0\n",
       "L23_MC            0\n",
       "L23_NBC           0\n",
       "L23_NGC           0\n",
       "L23_SBC           0\n",
       "L2_IPC            0\n",
       "L2_TPC:A          0\n",
       "L2_TPC:B          0\n",
       "L3_TPC:A          0\n",
       "L3_TPC:C          0\n",
       "L1_HAC            0\n",
       "L5_BP             0\n",
       "L5_BTC            0\n",
       "L6_UPC            0\n",
       "Name: mtype, dtype: int64"
      ]
     },
     "execution_count": 7,
     "metadata": {},
     "output_type": "execute_result"
    }
   ],
   "source": [
    "base_grp[\"mtype\"].value_counts()"
   ]
  },
  {
   "cell_type": "markdown",
   "id": "99199da4",
   "metadata": {},
   "source": [
    "We use the following to load the matrix of connections _between_ the defined groups.\n",
    "(Note: There are different functions available for loading connections within groups).\n",
    "\n",
    "Here, we load the midrange connection count. Use instead \"local\" for location connectivity."
   ]
  },
  {
   "cell_type": "code",
   "execution_count": 20,
   "id": "1979d749",
   "metadata": {},
   "outputs": [
    {
     "name": "stderr",
     "output_type": "stream",
     "text": [
      "Counting...: 100%|██████████| 82/82 [11:04<00:00,  8.10s/it]\n"
     ]
    }
   ],
   "source": [
    "from conntility import circuit_models\n",
    "\n",
    "M = circuit_models.circuit_matrix_between_groups(circ, base_grp, connectome=\"intra_SSCX_midrange_wm\",\n",
    "                                                 extract_full=True)"
   ]
  },
  {
   "cell_type": "markdown",
   "id": "80553cec",
   "metadata": {},
   "source": [
    "The result is a pandas.Series with connection counts between groups. Indexed by the name of the source / target groups."
   ]
  },
  {
   "cell_type": "code",
   "execution_count": 40,
   "id": "924ff5d3",
   "metadata": {},
   "outputs": [
    {
     "data": {
      "text/plain": [
       "Source node  Target node\n",
       "1            15                20.0\n",
       "             19                 1.0\n",
       "             2                 22.0\n",
       "             3                102.0\n",
       "             4               5389.0\n",
       "                             ...   \n",
       "99           90              5608.0\n",
       "             96                 1.0\n",
       "             97             45790.0\n",
       "             98                 8.0\n",
       "             99                31.0\n",
       "Length: 10595, dtype: float64"
      ]
     },
     "metadata": {},
     "output_type": "display_data"
    }
   ],
   "source": [
    "valid = M.index.to_frame().applymap(lambda x: int(x) > 0).all(axis=1) # remove entries not associated with a column (0)\n",
    "M = M.loc[valid]\n",
    "display(M)"
   ]
  },
  {
   "cell_type": "markdown",
   "id": "eef82b81",
   "metadata": {},
   "source": [
    "Let plot the connectivity matrix"
   ]
  },
  {
   "cell_type": "code",
   "execution_count": 41,
   "id": "fb351961",
   "metadata": {},
   "outputs": [
    {
     "data": {
      "text/plain": [
       "<matplotlib.image.AxesImage at 0x2aab8d349fd0>"
      ]
     },
     "execution_count": 41,
     "metadata": {},
     "output_type": "execute_result"
    },
    {
     "data": {
      "image/png": "[encoded data removed]",
      "text/plain": [
       "<Figure size 432x288 with 1 Axes>"
      ]
     },
     "metadata": {
      "needs_background": "light"
     },
     "output_type": "display_data"
    }
   ],
   "source": [
    "from matplotlib import pyplot as plt\n",
    "\n",
    "plt.imshow(M.unstack(\"Target node\", fill_value=0), interpolation=\"nearest\")"
   ]
  },
  {
   "cell_type": "markdown",
   "id": "8ba565f9",
   "metadata": {},
   "source": [
    "For further analysis, we need to know the locations of each of the groups. So we quickly assembly a frame of the flat x and y locations of each group, index by the same strings as \"M\"."
   ]
  },
  {
   "cell_type": "code",
   "execution_count": 42,
   "id": "ec6ce0c6",
   "metadata": {},
   "outputs": [
    {
     "data": {
      "text/html": [
       "<div>\n",
       "<style scoped>\n",
       "    .dataframe tbody tr th:only-of-type {\n",
       "        vertical-align: middle;\n",
       "    }\n",
       "\n",
       "    .dataframe tbody tr th {\n",
       "        vertical-align: top;\n",
       "    }\n",
       "\n",
       "    .dataframe thead th {\n",
       "        text-align: right;\n",
       "    }\n",
       "</style>\n",
       "<table border=\"1\" class=\"dataframe\">\n",
       "  <thead>\n",
       "    <tr style=\"text-align: right;\">\n",
       "      <th></th>\n",
       "      <th>grid-x</th>\n",
       "      <th>grid-y</th>\n",
       "    </tr>\n",
       "  </thead>\n",
       "  <tbody>\n",
       "    <tr>\n",
       "      <th>0</th>\n",
       "      <td>3.802528e-13</td>\n",
       "      <td>6210.0</td>\n",
       "    </tr>\n",
       "    <tr>\n",
       "      <th>1</th>\n",
       "      <td>1.991858e+02</td>\n",
       "      <td>6555.0</td>\n",
       "    </tr>\n",
       "    <tr>\n",
       "      <th>2</th>\n",
       "      <td>3.983717e+02</td>\n",
       "      <td>6210.0</td>\n",
       "    </tr>\n",
       "    <tr>\n",
       "      <th>3</th>\n",
       "      <td>5.975575e+02</td>\n",
       "      <td>6555.0</td>\n",
       "    </tr>\n",
       "    <tr>\n",
       "      <th>4</th>\n",
       "      <td>3.380025e-13</td>\n",
       "      <td>5520.0</td>\n",
       "    </tr>\n",
       "    <tr>\n",
       "      <th>...</th>\n",
       "      <td>...</td>\n",
       "      <td>...</td>\n",
       "    </tr>\n",
       "    <tr>\n",
       "      <th>235</th>\n",
       "      <td>4.780460e+03</td>\n",
       "      <td>1380.0</td>\n",
       "    </tr>\n",
       "    <tr>\n",
       "      <th>236</th>\n",
       "      <td>6.174761e+03</td>\n",
       "      <td>3105.0</td>\n",
       "    </tr>\n",
       "    <tr>\n",
       "      <th>237</th>\n",
       "      <td>5.378018e+03</td>\n",
       "      <td>5175.0</td>\n",
       "    </tr>\n",
       "    <tr>\n",
       "      <th>238</th>\n",
       "      <td>4.581274e+03</td>\n",
       "      <td>1035.0</td>\n",
       "    </tr>\n",
       "    <tr>\n",
       "      <th>239</th>\n",
       "      <td>6.174761e+03</td>\n",
       "      <td>5175.0</td>\n",
       "    </tr>\n",
       "  </tbody>\n",
       "</table>\n",
       "<p>240 rows × 2 columns</p>\n",
       "</div>"
      ],
      "text/plain": [
       "           grid-x  grid-y\n",
       "0    3.802528e-13  6210.0\n",
       "1    1.991858e+02  6555.0\n",
       "2    3.983717e+02  6210.0\n",
       "3    5.975575e+02  6555.0\n",
       "4    3.380025e-13  5520.0\n",
       "..            ...     ...\n",
       "235  4.780460e+03  1380.0\n",
       "236  6.174761e+03  3105.0\n",
       "237  5.378018e+03  5175.0\n",
       "238  4.581274e+03  1035.0\n",
       "239  6.174761e+03  5175.0\n",
       "\n",
       "[240 rows x 2 columns]"
      ]
     },
     "metadata": {},
     "output_type": "display_data"
    }
   ],
   "source": [
    "hex_locations = col_props[[\"grid-x\", \"grid-y\"]]\n",
    "\n",
    "display(hex_locations)"
   ]
  },
  {
   "cell_type": "markdown",
   "id": "0e10e886",
   "metadata": {},
   "source": [
    "Unstacking and re-stacking the data leads to filling in \"0\" values for all combinations that are unlisted "
   ]
  },
  {
   "cell_type": "code",
   "execution_count": 43,
   "id": "a3186b15",
   "metadata": {},
   "outputs": [],
   "source": [
    "M = M.unstack(\"Target node\", fill_value=0).stack()"
   ]
  },
  {
   "cell_type": "markdown",
   "id": "0b981d3b",
   "metadata": {},
   "source": [
    "Now we can plot for example the strengths of connections from an exemplary location\n",
    "NOTE: This is long-range connectivity only, so we do not expect it to peak around the source location"
   ]
  },
  {
   "cell_type": "code",
   "execution_count": 60,
   "id": "82ff093c",
   "metadata": {},
   "outputs": [
    {
     "name": "stderr",
     "output_type": "stream",
     "text": [
      "<ipython-input-60-4727c33f94d2>:15: FutureWarning: iteritems is deprecated and will be removed in a future version. Use .items instead.\n",
      "  for loc, value in m.iteritems():\n"
     ]
    },
    {
     "data": {
      "text/plain": [
       "Text(0, 0.5, 'um')"
      ]
     },
     "execution_count": 60,
     "metadata": {},
     "output_type": "execute_result"
    },
    {
     "data": {
      "image/png": "[encoded data removed]",
      "text/plain": [
       "<Figure size 288x288 with 1 Axes>"
      ]
     },
     "metadata": {
      "needs_background": "light"
     },
     "output_type": "display_data"
    }
   ],
   "source": [
    "exemplary_col = \"10\"\n",
    "exemplary_loc = hex_locations.loc[int(exemplary_col)]\n",
    "plot_divider = 5\n",
    "\n",
    "# Submatrix\n",
    "m = M.loc[exemplary_col]\n",
    "m.name = \"C\"\n",
    "m.index = m.index.to_frame().astype(int)[\"Target node\"] # BEcause one is indexed by int, the other by str :(\n",
    "# Concatenate the connectivity data with the x, y corresponding locations of target groups.\n",
    "# Than set the index to the locations\n",
    "m = pandas.concat([m, hex_locations.loc[m.index]], axis=1).set_index([\"grid-x\", \"grid-y\"], drop=True)[\"C\"]\n",
    "\n",
    "# Plot log-scale\n",
    "ax = plt.figure(figsize=(4, 4)).gca()\n",
    "for loc, value in m.iteritems():\n",
    "    col = [numpy.minimum(numpy.log10(value + 1) / plot_divider, 1), 0, 0]\n",
    "    ax.plot(loc[0], loc[1], marker=\"h\", color=col, ms=12)\n",
    "\n",
    "ax.plot(exemplary_loc[\"grid-x\"], exemplary_loc[\"grid-y\"], marker='o', color=\"green\")\n",
    "ax.set_frame_on(False)\n",
    "ax.set_xlabel(\"um\"); ax.set_ylabel(\"um\")"
   ]
  },
  {
   "cell_type": "markdown",
   "id": "0318eca5",
   "metadata": {},
   "source": [
    "Neat! Even cooler: Both outgoing and incoming connectivity.\n",
    "We encode outgoing strength in the \"red\" channel, incoming in the \"blue\" channel."
   ]
  },
  {
   "cell_type": "code",
   "execution_count": 65,
   "id": "f7a7537b",
   "metadata": {},
   "outputs": [
    {
     "data": {
      "text/plain": [
       "Text(0, 0.5, 'um')"
      ]
     },
     "execution_count": 65,
     "metadata": {},
     "output_type": "execute_result"
    },
    {
     "data": {
      "image/png": "[encoded data removed]",
      "text/plain": [
       "<Figure size 288x288 with 1 Axes>"
      ]
     },
     "metadata": {
      "needs_background": "light"
     },
     "output_type": "display_data"
    }
   ],
   "source": [
    "exemplary_col = \"20\"\n",
    "exemplary_loc = hex_locations.loc[int(exemplary_col)]\n",
    "plot_divider = 5\n",
    "\n",
    "# Submatrices\n",
    "m_outgoing = M.loc[exemplary_col]\n",
    "m_outgoing.name = \"OUT\"\n",
    "m_outgoing.index = m_outgoing.index.to_frame().astype(int)[\"Target node\"]\n",
    "\n",
    "m_incoming = M.loc[:, exemplary_col]\n",
    "m_incoming.name = \"IN\"\n",
    "m_incoming.index = m_incoming.index.to_frame().astype(int)[\"Source node\"]\n",
    "\n",
    "# Concatenate the connectivity data with the x, y corresponding locations of target groups.\n",
    "# Than set the index to the locations\n",
    "m = pandas.concat([m_outgoing, m_incoming], axis=1)               \n",
    "m = pandas.concat([m, hex_locations.loc[m_outgoing.index]], axis=1).set_index([\"grid-x\", \"grid-y\"], drop=True)\n",
    "\n",
    "# Plot log-scale\n",
    "ax = plt.figure(figsize=(4, 4)).gca()\n",
    "for loc, values in m.iterrows():\n",
    "    col = [numpy.minimum(numpy.log10(values[\"OUT\"] + 1) / plot_divider, 1),\n",
    "           0,\n",
    "           numpy.minimum(numpy.log10(values[\"IN\"] + 1) / plot_divider, 1)]\n",
    "    ax.plot(loc[0], loc[1], marker=\"h\", color=col, ms=12)\n",
    "\n",
    "ax.plot(exemplary_loc[\"grid-x\"], exemplary_loc[\"grid-y\"], marker='o', color=\"green\")\n",
    "ax.set_frame_on(False)\n",
    "ax.set_xlabel(\"um\"); ax.set_ylabel(\"um\")"
   ]
  },
  {
   "cell_type": "markdown",
   "id": "85d8b80f",
   "metadata": {},
   "source": [
    "Another example: Total incoming strength.\n",
    "\n",
    "Note: Not using logarithmic color scale, unlike above"
   ]
  },
  {
   "cell_type": "code",
   "execution_count": 69,
   "id": "d3b92995",
   "metadata": {},
   "outputs": [
    {
     "name": "stderr",
     "output_type": "stream",
     "text": [
      "<ipython-input-69-c91d995b9cc4>:13: FutureWarning: iteritems is deprecated and will be removed in a future version. Use .items instead.\n",
      "  for loc, value in m.iteritems():\n"
     ]
    },
    {
     "data": {
      "text/plain": [
       "Text(0, 0.5, 'um')"
      ]
     },
     "execution_count": 69,
     "metadata": {},
     "output_type": "execute_result"
    },
    {
     "data": {
      "image/png": "[encoded data removed]",
      "text/plain": [
       "<Figure size 288x288 with 1 Axes>"
      ]
     },
     "metadata": {
      "needs_background": "light"
     },
     "output_type": "display_data"
    }
   ],
   "source": [
    "plot_divider = 2E6\n",
    "# Matrix of sum of incoming connections\n",
    "m = M.groupby(\"Target node\").agg(\"sum\")\n",
    "m.name = \"C\"\n",
    "m.index = m.index.to_frame().astype(int)[\"Target node\"]\n",
    "\n",
    "# Concatenate the connectivity data with the x, y corresponding locations of target groups.\n",
    "# Than set the index to the locations\n",
    "m = pandas.concat([m, hex_locations.loc[m.index]], axis=1).set_index([\"grid-x\", \"grid-y\"], drop=True)[\"C\"]\n",
    "\n",
    "# Plot log-scale\n",
    "ax = plt.figure(figsize=(4, 4)).gca()\n",
    "for loc, value in m.iteritems():\n",
    "    col = [numpy.minimum(value / plot_divider, 1), 0, 0]\n",
    "    ax.plot(loc[0], loc[1], marker=\"h\", color=col, ms=12)\n",
    "\n",
    "ax.set_frame_on(False)\n",
    "ax.set_xlabel(\"um\"); ax.set_ylabel(\"um\")"
   ]
  },
  {
   "cell_type": "markdown",
   "id": "f44471a7",
   "metadata": {},
   "source": [
    "Or outgoing"
   ]
  },
  {
   "cell_type": "code",
   "execution_count": 73,
   "id": "63bfb7d7",
   "metadata": {},
   "outputs": [
    {
     "name": "stderr",
     "output_type": "stream",
     "text": [
      "<ipython-input-73-068a03216e08>:13: FutureWarning: iteritems is deprecated and will be removed in a future version. Use .items instead.\n",
      "  for loc, value in m.iteritems():\n"
     ]
    },
    {
     "data": {
      "text/plain": [
       "Text(0, 0.5, 'um')"
      ]
     },
     "execution_count": 73,
     "metadata": {},
     "output_type": "execute_result"
    },
    {
     "data": {
      "image/png": "[encoded data removed]",
      "text/plain": [
       "<Figure size 288x288 with 1 Axes>"
      ]
     },
     "metadata": {
      "needs_background": "light"
     },
     "output_type": "display_data"
    }
   ],
   "source": [
    "plot_divider = 2E6\n",
    "# Matrix of sum of outgoing connections\n",
    "m = M.groupby(\"Source node\").agg(\"sum\")\n",
    "m.name = \"C\"\n",
    "m.index = m.index.to_frame().astype(int)[\"Source node\"]\n",
    "\n",
    "# Concatenate the connectivity data with the x, y corresponding locations of target groups.\n",
    "# Than set the index to the locations\n",
    "m = pandas.concat([m, hex_locations.loc[m.index]], axis=1).set_index([\"grid-x\", \"grid-y\"], drop=True)[\"C\"]\n",
    "\n",
    "# Plot log-scale\n",
    "ax = plt.figure(figsize=(4, 4)).gca()\n",
    "for loc, value in m.iteritems():\n",
    "    col = [numpy.minimum(value / plot_divider, 1.0), 0, 0]\n",
    "    ax.plot(loc[0], loc[1], marker=\"h\", color=col, ms=12)\n",
    "\n",
    "ax.set_frame_on(False)\n",
    "ax.set_xlabel(\"um\"); ax.set_ylabel(\"um\")"
   ]
  }
 ],
 "metadata": {
  "kernelspec": {
   "display_name": "Python 3",
   "language": "python",
   "name": "python3"
  },
  "language_info": {
   "codemirror_mode": {
    "name": "ipython",
    "version": 3
   },
   "file_extension": ".py",
   "mimetype": "text/x-python",
   "name": "python",
   "nbconvert_exporter": "python",
   "pygments_lexer": "ipython3",
   "version": "3.8.3"
  }
 },
 "nbformat": 4,
 "nbformat_minor": 5
}
