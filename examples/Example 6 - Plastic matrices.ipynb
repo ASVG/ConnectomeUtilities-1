{
 "cells": [
  {
   "cell_type": "markdown",
   "id": "063bd4f1",
   "metadata": {},
   "source": [
    "# Plastic matrices\n",
    "This example explores the ability of Connectome Utilities to represent connectivity that is changing over time.\n",
    "\n",
    "## Structural changes\n",
    "We begin with structural changes, i.e. the presence or absence of connections between nodes changes."
   ]
  },
  {
   "cell_type": "code",
   "execution_count": 1,
   "id": "d8d302c1",
   "metadata": {},
   "outputs": [],
   "source": [
    "import numpy\n",
    "import numpy as np\n",
    "import pandas\n",
    "import conntility\n",
    "\n",
    "from scipy import sparse\n",
    "from matplotlib import pyplot as plt"
   ]
  },
  {
   "cell_type": "markdown",
   "id": "cd5ac287",
   "metadata": {},
   "source": [
    "StructurallyPlasticMatrix can be initialized in two ways:\n",
    "1. like a regular ConnectivityMatrix, additionally specifying dicts of points in time when individual edges are switched on or off\n",
    "2. By explicitly specifying a list of sparse matrices\n",
    "\n",
    "Here, we demonstrate (1)"
   ]
  },
  {
   "cell_type": "code",
   "execution_count": 2,
   "id": "2cb78972",
   "metadata": {},
   "outputs": [],
   "source": [
    "base_matrix = sparse.coo_matrix(numpy.random.rand(25, 25) < 0.5)\n",
    "ncon = base_matrix.nnz\n",
    "\n",
    "switch_off = {0: numpy.random.choice(ncon, 10, replace=False)} # 10 random connections initially switched off\n",
    "switch_on = {1: switch_off[0][:5]} # Half of them switched back on in the next time step\n",
    "\n",
    "M = conntility.StructurallyPlasticMatrix(numpy.random.rand(25, 25) < 0.5, edge_off=switch_off, edge_on=switch_on)"
   ]
  },
  {
   "cell_type": "markdown",
   "id": "0e9c85ff",
   "metadata": {},
   "source": [
    "The object can be used just like a ConnectivityMatrix object with all functionality.\n",
    "It represents the union of all edges.\n",
    "Indexing it returns the ConnectivityMatrix at the specified point in time, i.e. with certain edges switched off or on"
   ]
  },
  {
   "cell_type": "code",
   "execution_count": 3,
   "id": "546d7719",
   "metadata": {},
   "outputs": [
    {
     "name": "stdout",
     "output_type": "stream",
     "text": [
      "\n",
      "Overall number of edges: 328\n",
      "At time=0: 318\n",
      "At time=1: 323\n",
      "\n"
     ]
    }
   ],
   "source": [
    "print(\"\"\"\n",
    "Overall number of edges: {0}\n",
    "At time=0: {1}\n",
    "At time=1: {2}\n",
    "\"\"\".format(M.matrix.nnz, M[0].matrix.nnz, M[1].matrix.nnz))"
   ]
  },
  {
   "cell_type": "markdown",
   "id": "bf78ec15",
   "metadata": {},
   "source": [
    "Initialization option (2)"
   ]
  },
  {
   "cell_type": "code",
   "execution_count": 4,
   "id": "1bc259a0",
   "metadata": {},
   "outputs": [
    {
     "data": {
      "text/plain": [
       "<matplotlib.image.AxesImage at 0x2aaaf5a3c700>"
      ]
     },
     "execution_count": 4,
     "metadata": {},
     "output_type": "execute_result"
    },
    {
     "data": {
      "image/png": "[encoded data removed]",
      "text/plain": [
       "<Figure size 432x288 with 1 Axes>"
      ]
     },
     "metadata": {
      "needs_background": "light"
     },
     "output_type": "display_data"
    }
   ],
   "source": [
    "ms = [sparse.coo_matrix(numpy.random.rand(25, 25) < 0.1) for _ in range(10)]\n",
    "M = conntility.StructurallyPlasticMatrix.from_matrix_stack(ms)\n",
    "\n",
    "plt.imshow(M[5].array)"
   ]
  },
  {
   "cell_type": "markdown",
   "id": "d9062746",
   "metadata": {},
   "source": [
    "Reminder that the base object without indexing represents the union of all edges:"
   ]
  },
  {
   "cell_type": "code",
   "execution_count": 5,
   "id": "a7188da0",
   "metadata": {},
   "outputs": [
    {
     "data": {
      "text/plain": [
       "<matplotlib.image.AxesImage at 0x2aaaf7b2eb80>"
      ]
     },
     "execution_count": 5,
     "metadata": {},
     "output_type": "execute_result"
    },
    {
     "data": {
      "image/png": "[encoded data removed]",
      "text/plain": [
       "<Figure size 432x288 with 1 Axes>"
      ]
     },
     "metadata": {
      "needs_background": "light"
     },
     "output_type": "display_data"
    }
   ],
   "source": [
    "plt.imshow(M.array)"
   ]
  },
  {
   "cell_type": "markdown",
   "id": "1137c3f8",
   "metadata": {},
   "source": [
    "Compared to explicitly storing just a list of ConnectivityMatrices, this object is more efficient in some contexts, because it only stores the change in edges from one point to another.\n",
    "\n",
    "It offers some utility, such as easy access to the \"delta\", i.e. the net change from one point to another.\n",
    "\n",
    "All utility demonstrated below is more efficient than implementations using lists of ConnectivityMatrices if the amount of change is small compared to the overall size of the matrix."
   ]
  },
  {
   "cell_type": "code",
   "execution_count": 6,
   "id": "21beb4a4",
   "metadata": {},
   "outputs": [
    {
     "data": {
      "text/plain": [
       "<matplotlib.image.AxesImage at 0x2aaaf7bbd340>"
      ]
     },
     "execution_count": 6,
     "metadata": {},
     "output_type": "execute_result"
    },
    {
     "data": {
      "image/png": "[encoded data removed]",
      "text/plain": [
       "<Figure size 432x288 with 1 Axes>"
      ]
     },
     "metadata": {
      "needs_background": "light"
     },
     "output_type": "display_data"
    }
   ],
   "source": [
    "idx_fr = 3; idx_to = 7\n",
    "a = M[idx_fr]; b = M[idx_to]\n",
    "delta = M.delta(idx_fr, idx_to)\n",
    "\n",
    "assert numpy.all((b.array.astype(int) - a.array) == delta.array)\n",
    "\n",
    "plt.imshow(delta.array)"
   ]
  },
  {
   "cell_type": "markdown",
   "id": "6c933725",
   "metadata": {},
   "source": [
    "The change between the union of all edges and the first matrix is accessed by using \"-1\" as the base"
   ]
  },
  {
   "cell_type": "code",
   "execution_count": 7,
   "id": "8296062d",
   "metadata": {},
   "outputs": [
    {
     "data": {
      "text/plain": [
       "<matplotlib.image.AxesImage at 0x2aaaf7c32910>"
      ]
     },
     "execution_count": 7,
     "metadata": {},
     "output_type": "execute_result"
    },
    {
     "data": {
      "image/png": "[encoded data removed]",
      "text/plain": [
       "<Figure size 432x288 with 1 Axes>"
      ]
     },
     "metadata": {
      "needs_background": "light"
     },
     "output_type": "display_data"
    }
   ],
   "source": [
    "delta = M.delta(-1, 0)\n",
    "\n",
    "assert numpy.all(M.array + delta.array == M[0].array)\n",
    "plt.imshow(delta.array)"
   ]
  },
  {
   "cell_type": "markdown",
   "id": "46d00935",
   "metadata": {},
   "source": [
    "The number of changes per edge, i.e. how often it is switched on or off:"
   ]
  },
  {
   "cell_type": "code",
   "execution_count": 8,
   "id": "9599c82f",
   "metadata": {},
   "outputs": [
    {
     "data": {
      "text/plain": [
       "<matplotlib.image.AxesImage at 0x2aaaf7caedc0>"
      ]
     },
     "execution_count": 8,
     "metadata": {},
     "output_type": "execute_result"
    },
    {
     "data": {
      "image/png": "[encoded data removed]",
      "text/plain": [
       "<Figure size 432x288 with 1 Axes>"
      ]
     },
     "metadata": {
      "needs_background": "light"
     },
     "output_type": "display_data"
    }
   ],
   "source": [
    "c_total = M.count_changes()\n",
    "c_on = M.count_changes(count_off=False)\n",
    "c_off = M.count_changes(count_on=False)\n",
    "\n",
    "assert numpy.all(c_total.array == (c_on.array + c_off.array))\n",
    "\n",
    "plt.imshow(c_total.array)"
   ]
  },
  {
   "cell_type": "markdown",
   "id": "a745a883",
   "metadata": {},
   "source": [
    "The total number of time steps a given edge is switched on for (i.e. the sum of stack of matrices)"
   ]
  },
  {
   "cell_type": "code",
   "execution_count": 9,
   "id": "78917f25",
   "metadata": {},
   "outputs": [
    {
     "data": {
      "text/plain": [
       "<matplotlib.image.AxesImage at 0x2aaaf7d2e0a0>"
      ]
     },
     "execution_count": 9,
     "metadata": {},
     "output_type": "execute_result"
    },
    {
     "data": {
      "image/png": "[encoded data removed]",
      "text/plain": [
       "<Figure size 432x288 with 1 Axes>"
      ]
     },
     "metadata": {
      "needs_background": "light"
     },
     "output_type": "display_data"
    }
   ],
   "source": [
    "c_count = M.amount_active().array\n",
    "\n",
    "cmp_count = numpy.dstack([numpy.array(_m.todense()) for _m in ms]).sum(axis=2)\n",
    "\n",
    "assert numpy.all(c_count == cmp_count)\n",
    "plt.imshow(c_count)"
   ]
  },
  {
   "cell_type": "markdown",
   "id": "e08f9b7c",
   "metadata": {},
   "source": [
    "Something that would be trickier when representing the data as a list of ConnectivityMatrices:\n",
    "We skip the change ocurring in a given time step."
   ]
  },
  {
   "cell_type": "code",
   "execution_count": 10,
   "id": "011c81f2",
   "metadata": {},
   "outputs": [],
   "source": [
    "Mskip = M.skip(4)\n",
    "\n",
    "A = M[3]\n",
    "B = Mskip[4] # should be the same, as change happening in step 4 is ignored.\n",
    "assert numpy.all(A.array == B.array)"
   ]
  },
  {
   "cell_type": "markdown",
   "id": "70d60348",
   "metadata": {},
   "source": [
    "## Weight changes\n",
    "\n",
    "The \"TimeDependentMatrix\" class represent a connectivity matrix where the locations of edges are fixed, but their weights, or other properties change over time.\n",
    "\n",
    "To initialize it, we determine the (fixed) row and columns indices. Here, just randomly generated.\n",
    "Then we build the list of time steps at which the properties are to be sampled as a pandas.Float64Index.\n",
    "\n",
    "Finally, we build any number of pandas.DataFrame that hold the changing edge properties. One DataFrame per property. The number of columns must be the number of sampled time steps and use the generated index. The length must be equal to the number of connections (and be in the same order as the list of row and column indices). Here, we just randomly generate values."
   ]
  },
  {
   "cell_type": "code",
   "execution_count": 48,
   "id": "ddd98743",
   "metadata": {},
   "outputs": [
    {
     "name": "stderr",
     "output_type": "stream",
     "text": [
      "<ipython-input-48-65068de988a3>:4: FutureWarning: pandas.Float64Index is deprecated and will be removed from pandas in a future version. Use pandas.Index with the appropriate dtype instead.\n",
      "  t = pandas.Float64Index(10.0 * numpy.arange(n_steps))\n",
      "/gpfs/bbp.cscs.ch/home/reimann/venvs/py38/lib/python3.8/site-packages/conntility/connectivity.py:968: FutureWarning: pandas.Float64Index is deprecated and will be removed from pandas in a future version. Use pandas.Index with the appropriate dtype instead.\n",
      "  assert np.all([isinstance(x.columns, pd.Float64Index) for x in edge_properties.values()]),\\\n"
     ]
    }
   ],
   "source": [
    "sz = 100\n",
    "n_steps = 50\n",
    "\n",
    "t = pandas.Float64Index(10.0 * numpy.arange(n_steps))\n",
    "row, col = numpy.nonzero(numpy.random.rand(sz, sz) < 0.1)\n",
    "rnd_weights_1 = pandas.DataFrame(numpy.random.rand(len(row), n_steps),\n",
    "                                 columns=t)\n",
    "rnd_weights_2 = pandas.DataFrame(numpy.random.rand(len(row), n_steps),\n",
    "                                 columns=t)\n",
    "\n",
    "\n",
    "Tm = conntility.TimeDependentMatrix(row, col, edge_properties={\"rnd1\": rnd_weights_1,\n",
    "                                                               \"rnd2\": rnd_weights_2}, shape=(sz, sz))"
   ]
  },
  {
   "cell_type": "markdown",
   "id": "853e4113",
   "metadata": {},
   "source": [
    "We can then access the status of the matrix at any of the sampled time points and use the result like any ConnectivityMatrix.\n",
    "In principle, the entire functionality demonstrated in the other examples is available."
   ]
  },
  {
   "cell_type": "code",
   "execution_count": 50,
   "id": "f64771de",
   "metadata": {},
   "outputs": [
    {
     "name": "stdout",
     "output_type": "stream",
     "text": [
      "500.3866556883874\n",
      "504.0400299957947\n"
     ]
    }
   ],
   "source": [
    "print(Tm.at_time(400).matrix.sum())\n",
    "print(Tm.at_time(200).matrix.sum()) # Different values."
   ]
  },
  {
   "cell_type": "markdown",
   "id": "50250f58",
   "metadata": {},
   "source": [
    "But which of the two random properties we provided is used in this case? By default it is the one that is provided first. \n",
    "But we can change that with the .default operation."
   ]
  },
  {
   "cell_type": "code",
   "execution_count": 53,
   "id": "3554d116",
   "metadata": {},
   "outputs": [
    {
     "name": "stdout",
     "output_type": "stream",
     "text": [
      "500.3866556883874\n",
      "508.6806270865665\n",
      "508.6806270865665\n"
     ]
    }
   ],
   "source": [
    "print(Tm.at_time(400).matrix.sum())\n",
    "print(Tm.default(\"rnd2\").at_time(400).matrix.sum()) # Same time, different property\n",
    "print(Tm.at_time(400).default(\"rnd2\").matrix.sum()) # Does the same"
   ]
  }
 ],
 "metadata": {
  "kernelspec": {
   "display_name": "Python 3 (ipykernel)",
   "language": "python",
   "name": "python3"
  },
  "language_info": {
   "codemirror_mode": {
    "name": "ipython",
    "version": 3
   },
   "file_extension": ".py",
   "mimetype": "text/x-python",
   "name": "python",
   "nbconvert_exporter": "python",
   "pygments_lexer": "ipython3",
   "version": "3.8.10"
  }
 },
 "nbformat": 4,
 "nbformat_minor": 5
}
