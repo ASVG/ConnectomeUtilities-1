{
 "cells": [
  {
   "cell_type": "markdown",
   "id": "b512ebce",
   "metadata": {},
   "source": [
    "## Creating a ConnectivityMatrix object of the C elegans connectome\n",
    "\n",
    "In this example we use available data for the worm to create a ConnectivityMatrix object of its connectome at eight developmental points. This is based on Witvliet et al: https://www.ncbi.nlm.nih.gov/pmc/articles/PMC8756380/\n",
    "Annotations and properties for the individual neurons are taken from wormatlas.org.\n",
    "\n",
    "To begin, please download the excel file of neuron types from the following url and place it under \"data\":\n",
    "https://www.wormatlas.org/images/NeuronType.xls\n",
    "\n",
    "Next, download the wiring diagrams at each developmental stage listed at the following url:\n",
    "https://wormwiring.org/pages/witvliet.html\n",
    "Place all of them under \"data\" as well. Each file corresponds to a different age, as presented in the orginal publication listed above. In the final product, these will be listed simply as stage=1, stage=2, etc.\n",
    "\n",
    "Instead of building the object from the raw Excel files, you can also simply load the connectome from the included hdf5 file. In that case, simply skip ahead to the heading \"Loading the data from hdf5\".\n",
    "\n",
    "\n",
    "Otherwise, we begin by loading the data from the downloaded files using pandas"
   ]
  },
  {
   "cell_type": "code",
   "execution_count": 1,
   "id": "7c2fa916",
   "metadata": {},
   "outputs": [],
   "source": [
    "import pandas\n",
    "import numpy\n",
    "import glob\n",
    "import conntility\n",
    "\n",
    "fns = glob.glob(\"data/witvliet_2020*.xlsx\")\n",
    "stage = [int(_fn[19]) for _fn in fns]\n",
    "idx = numpy.argsort(stage)\n",
    "\n",
    "fns = [fns[_i] for _i in idx]\n",
    "stage = [stage[_i] for _i in idx]\n",
    "rn_dict = {\"pre\": \"row\", \"post\": \"col\"}\n",
    "\n",
    "syns = [pandas.read_excel(_fn).set_index(\"type\")\n",
    "       for _fn in fns]\n",
    "neurons = pandas.read_excel(\"data/NeuronType.xls\")\n",
    "\n",
    "syns_chem = pandas.concat([syn.loc[\"chemical\"] for syn in syns],\n",
    "                          axis=0, names=[\"stage\"], keys=stage).reset_index().rename(columns=rn_dict)\n",
    "\n",
    "syns_elec = pandas.concat([syn.loc[\"electrical\"] for syn in syns],\n",
    "                          axis=0, names=[\"stage\"], keys=stage).reset_index().rename(columns=rn_dict)"
   ]
  },
  {
   "cell_type": "markdown",
   "id": "e999f29f",
   "metadata": {},
   "source": [
    "We separate the chemical and gap junction connectome and do some minor reformatting."
   ]
  },
  {
   "cell_type": "code",
   "execution_count": 2,
   "id": "93e8ea3e",
   "metadata": {},
   "outputs": [
    {
     "data": {
      "text/html": [
       "<div>\n",
       "<style scoped>\n",
       "    .dataframe tbody tr th:only-of-type {\n",
       "        vertical-align: middle;\n",
       "    }\n",
       "\n",
       "    .dataframe tbody tr th {\n",
       "        vertical-align: top;\n",
       "    }\n",
       "\n",
       "    .dataframe thead th {\n",
       "        text-align: right;\n",
       "    }\n",
       "</style>\n",
       "<table border=\"1\" class=\"dataframe\">\n",
       "  <thead>\n",
       "    <tr style=\"text-align: right;\">\n",
       "      <th></th>\n",
       "      <th>stage</th>\n",
       "      <th>1</th>\n",
       "      <th>2</th>\n",
       "      <th>3</th>\n",
       "      <th>4</th>\n",
       "      <th>5</th>\n",
       "      <th>6</th>\n",
       "      <th>7</th>\n",
       "      <th>8</th>\n",
       "    </tr>\n",
       "    <tr>\n",
       "      <th>row</th>\n",
       "      <th>col</th>\n",
       "      <th></th>\n",
       "      <th></th>\n",
       "      <th></th>\n",
       "      <th></th>\n",
       "      <th></th>\n",
       "      <th></th>\n",
       "      <th></th>\n",
       "      <th></th>\n",
       "    </tr>\n",
       "  </thead>\n",
       "  <tbody>\n",
       "    <tr>\n",
       "      <th rowspan=\"5\" valign=\"top\">ADAL</th>\n",
       "      <th>AIAL</th>\n",
       "      <td>0</td>\n",
       "      <td>0</td>\n",
       "      <td>0</td>\n",
       "      <td>0</td>\n",
       "      <td>0</td>\n",
       "      <td>1</td>\n",
       "      <td>2</td>\n",
       "      <td>0</td>\n",
       "    </tr>\n",
       "    <tr>\n",
       "      <th>AIBL</th>\n",
       "      <td>0</td>\n",
       "      <td>0</td>\n",
       "      <td>0</td>\n",
       "      <td>0</td>\n",
       "      <td>0</td>\n",
       "      <td>1</td>\n",
       "      <td>2</td>\n",
       "      <td>0</td>\n",
       "    </tr>\n",
       "    <tr>\n",
       "      <th>AIBR</th>\n",
       "      <td>1</td>\n",
       "      <td>1</td>\n",
       "      <td>0</td>\n",
       "      <td>1</td>\n",
       "      <td>0</td>\n",
       "      <td>0</td>\n",
       "      <td>1</td>\n",
       "      <td>0</td>\n",
       "    </tr>\n",
       "    <tr>\n",
       "      <th>AIZL</th>\n",
       "      <td>0</td>\n",
       "      <td>0</td>\n",
       "      <td>0</td>\n",
       "      <td>1</td>\n",
       "      <td>0</td>\n",
       "      <td>0</td>\n",
       "      <td>0</td>\n",
       "      <td>0</td>\n",
       "    </tr>\n",
       "    <tr>\n",
       "      <th>ASHL</th>\n",
       "      <td>0</td>\n",
       "      <td>0</td>\n",
       "      <td>0</td>\n",
       "      <td>0</td>\n",
       "      <td>1</td>\n",
       "      <td>0</td>\n",
       "      <td>0</td>\n",
       "      <td>0</td>\n",
       "    </tr>\n",
       "    <tr>\n",
       "      <th>...</th>\n",
       "      <th>...</th>\n",
       "      <td>...</td>\n",
       "      <td>...</td>\n",
       "      <td>...</td>\n",
       "      <td>...</td>\n",
       "      <td>...</td>\n",
       "      <td>...</td>\n",
       "      <td>...</td>\n",
       "      <td>...</td>\n",
       "    </tr>\n",
       "    <tr>\n",
       "      <th rowspan=\"5\" valign=\"top\">URYVR</th>\n",
       "      <th>RMDVL</th>\n",
       "      <td>1</td>\n",
       "      <td>1</td>\n",
       "      <td>1</td>\n",
       "      <td>2</td>\n",
       "      <td>3</td>\n",
       "      <td>3</td>\n",
       "      <td>5</td>\n",
       "      <td>8</td>\n",
       "    </tr>\n",
       "    <tr>\n",
       "      <th>SIBDR</th>\n",
       "      <td>0</td>\n",
       "      <td>0</td>\n",
       "      <td>0</td>\n",
       "      <td>0</td>\n",
       "      <td>0</td>\n",
       "      <td>0</td>\n",
       "      <td>1</td>\n",
       "      <td>1</td>\n",
       "    </tr>\n",
       "    <tr>\n",
       "      <th>SIBVL</th>\n",
       "      <td>0</td>\n",
       "      <td>0</td>\n",
       "      <td>0</td>\n",
       "      <td>0</td>\n",
       "      <td>0</td>\n",
       "      <td>0</td>\n",
       "      <td>1</td>\n",
       "      <td>2</td>\n",
       "    </tr>\n",
       "    <tr>\n",
       "      <th>SIBVR</th>\n",
       "      <td>0</td>\n",
       "      <td>0</td>\n",
       "      <td>0</td>\n",
       "      <td>0</td>\n",
       "      <td>0</td>\n",
       "      <td>0</td>\n",
       "      <td>0</td>\n",
       "      <td>1</td>\n",
       "    </tr>\n",
       "    <tr>\n",
       "      <th>SMDVL</th>\n",
       "      <td>1</td>\n",
       "      <td>4</td>\n",
       "      <td>2</td>\n",
       "      <td>2</td>\n",
       "      <td>5</td>\n",
       "      <td>2</td>\n",
       "      <td>2</td>\n",
       "      <td>4</td>\n",
       "    </tr>\n",
       "  </tbody>\n",
       "</table>\n",
       "<p>3676 rows × 8 columns</p>\n",
       "</div>"
      ],
      "text/plain": [
       "stage        1  2  3  4  5  6  7  8\n",
       "row   col                          \n",
       "ADAL  AIAL   0  0  0  0  0  1  2  0\n",
       "      AIBL   0  0  0  0  0  1  2  0\n",
       "      AIBR   1  1  0  1  0  0  1  0\n",
       "      AIZL   0  0  0  1  0  0  0  0\n",
       "      ASHL   0  0  0  0  1  0  0  0\n",
       "...         .. .. .. .. .. .. .. ..\n",
       "URYVR RMDVL  1  1  1  2  3  3  5  8\n",
       "      SIBDR  0  0  0  0  0  0  1  1\n",
       "      SIBVL  0  0  0  0  0  0  1  2\n",
       "      SIBVR  0  0  0  0  0  0  0  1\n",
       "      SMDVL  1  4  2  2  5  2  2  4\n",
       "\n",
       "[3676 rows x 8 columns]"
      ]
     },
     "metadata": {},
     "output_type": "display_data"
    }
   ],
   "source": [
    "syns_chem = syns_chem.pivot(index=[\"row\", \"col\"], columns=\"stage\", values=\"synapses\").fillna(0).astype(int)\n",
    "syns_elec = syns_elec.pivot(index=[\"row\", \"col\"], columns=\"stage\", values=\"synapses\").fillna(0).astype(int)\n",
    "\n",
    "display(syns_chem)"
   ]
  },
  {
   "cell_type": "markdown",
   "id": "cdea647a",
   "metadata": {},
   "source": [
    "Now the index lists pre- and post-synaptic neuron (renamed \"row\" and \"col\" as that it what the code expects), while the columns list the number of synapses at the various stages.\n",
    "\n",
    "Next, we need to convert the names of the neurons (and muscles?) to indices into a table of nodes. As that table, we want to use the DataFrame of neuron properties we loaded earlier. Unfortunately, some entries of the connectivity data are not represented in that DataFrame. (I think these are innervated muscles, but I am frankly not a worm expert).\n",
    "\n",
    "Thus, we have to create additional rows for the missing entries. We will fill them with mostly \"NaN\", but a worm expert is invited to contribute something better here."
   ]
  },
  {
   "cell_type": "code",
   "execution_count": 3,
   "id": "a1b7eb6e",
   "metadata": {},
   "outputs": [],
   "source": [
    "syns_all = pandas.concat([syns_chem, syns_elec], axis=0)\n",
    "idxx = syns_all.index.to_frame()\n",
    "\n",
    "used_neurons = idxx.reset_index(drop=True).unstack().drop_duplicates().values\n",
    "missing = numpy.setdiff1d(used_neurons, neurons[\"Neuron\"].values)\n",
    "\n",
    "missing_df = pandas.DataFrame.from_records([\n",
    "    dict([(k, {\"Neuron\": name,\n",
    "               \"Soma Region\": \"-\",  # Placeholders for string-type properties\n",
    "               \"Span\": \"-\",\n",
    "               \"AY Ganglion Designation\": \"-\"}.get(k, numpy.NaN)) for k in neurons.columns])\n",
    "    for name in missing\n",
    "])\n",
    "neurons = pandas.concat([neurons, missing_df], axis=0).reset_index(drop=True)"
   ]
  },
  {
   "cell_type": "markdown",
   "id": "835edd59",
   "metadata": {},
   "source": [
    "With that being done, we can now simply look up for each connection the indices of participating nodes in the table. The result is put into a separate DataFrame."
   ]
  },
  {
   "cell_type": "code",
   "execution_count": 4,
   "id": "311311c4",
   "metadata": {},
   "outputs": [
    {
     "data": {
      "text/html": [
       "<div>\n",
       "<style scoped>\n",
       "    .dataframe tbody tr th:only-of-type {\n",
       "        vertical-align: middle;\n",
       "    }\n",
       "\n",
       "    .dataframe tbody tr th {\n",
       "        vertical-align: top;\n",
       "    }\n",
       "\n",
       "    .dataframe thead th {\n",
       "        text-align: right;\n",
       "    }\n",
       "</style>\n",
       "<table border=\"1\" class=\"dataframe\">\n",
       "  <thead>\n",
       "    <tr style=\"text-align: right;\">\n",
       "      <th></th>\n",
       "      <th>row</th>\n",
       "      <th>col</th>\n",
       "    </tr>\n",
       "  </thead>\n",
       "  <tbody>\n",
       "    <tr>\n",
       "      <th>0</th>\n",
       "      <td>0</td>\n",
       "      <td>10</td>\n",
       "    </tr>\n",
       "    <tr>\n",
       "      <th>1</th>\n",
       "      <td>0</td>\n",
       "      <td>12</td>\n",
       "    </tr>\n",
       "    <tr>\n",
       "      <th>2</th>\n",
       "      <td>0</td>\n",
       "      <td>13</td>\n",
       "    </tr>\n",
       "    <tr>\n",
       "      <th>3</th>\n",
       "      <td>0</td>\n",
       "      <td>20</td>\n",
       "    </tr>\n",
       "    <tr>\n",
       "      <th>4</th>\n",
       "      <td>0</td>\n",
       "      <td>43</td>\n",
       "    </tr>\n",
       "    <tr>\n",
       "      <th>...</th>\n",
       "      <td>...</td>\n",
       "      <td>...</td>\n",
       "    </tr>\n",
       "    <tr>\n",
       "      <th>3671</th>\n",
       "      <td>237</td>\n",
       "      <td>189</td>\n",
       "    </tr>\n",
       "    <tr>\n",
       "      <th>3672</th>\n",
       "      <td>237</td>\n",
       "      <td>215</td>\n",
       "    </tr>\n",
       "    <tr>\n",
       "      <th>3673</th>\n",
       "      <td>237</td>\n",
       "      <td>216</td>\n",
       "    </tr>\n",
       "    <tr>\n",
       "      <th>3674</th>\n",
       "      <td>237</td>\n",
       "      <td>217</td>\n",
       "    </tr>\n",
       "    <tr>\n",
       "      <th>3675</th>\n",
       "      <td>237</td>\n",
       "      <td>224</td>\n",
       "    </tr>\n",
       "  </tbody>\n",
       "</table>\n",
       "<p>3676 rows × 2 columns</p>\n",
       "</div>"
      ],
      "text/plain": [
       "      row  col\n",
       "0       0   10\n",
       "1       0   12\n",
       "2       0   13\n",
       "3       0   20\n",
       "4       0   43\n",
       "...   ...  ...\n",
       "3671  237  189\n",
       "3672  237  215\n",
       "3673  237  216\n",
       "3674  237  217\n",
       "3675  237  224\n",
       "\n",
       "[3676 rows x 2 columns]"
      ]
     },
     "metadata": {},
     "output_type": "display_data"
    }
   ],
   "source": [
    "nrn_idxx = neurons[\"Neuron\"].reset_index().set_index(\"Neuron\")[\"index\"]\n",
    "edges_chem = syns_chem.index.to_frame().applymap(lambda x: nrn_idxx[x]).reset_index(drop=True)\n",
    "edges_elec = syns_elec.index.to_frame().applymap(lambda x: nrn_idxx[x]).reset_index(drop=True)\n",
    "\n",
    "display(edges_chem)"
   ]
  },
  {
   "cell_type": "markdown",
   "id": "fc378fea",
   "metadata": {},
   "source": [
    "We can now create ConnectivityMatrices. Inputs are three DataFrames:\n",
    "1. The indices of the edges\n",
    "2. The table of synapse counts at different stages for each edge (in the same order as input 1)\n",
    "3. The table of vertex properties\n"
   ]
  },
  {
   "cell_type": "code",
   "execution_count": 5,
   "id": "d8f94e07",
   "metadata": {},
   "outputs": [],
   "source": [
    "M_chem = conntility.ConnectivityMatrix(edges_chem, edge_properties=syns_chem.reset_index(drop=True),\n",
    "                                       vertex_properties=neurons, shape=(len(neurons), len(neurons)))\n",
    "M_elec = conntility.ConnectivityMatrix(edges_elec, edge_properties=syns_elec.reset_index(drop=True),\n",
    "                                       vertex_properties=neurons, shape=(len(neurons), len(neurons)))"
   ]
  },
  {
   "cell_type": "markdown",
   "id": "5e623bd9",
   "metadata": {},
   "source": [
    "We can also create an object that combines the representation of the chemical and electrical connectomes. To that end, we simply concatenate the tables of edge indices and properties. Additionally, we add a new edge property called \"type\", that is either \"electrical\" or \"chemical\".\n",
    "\n",
    "In the future we hope to simplify this by implementing this functionality in an .add operator."
   ]
  },
  {
   "cell_type": "code",
   "execution_count": 6,
   "id": "4acba407",
   "metadata": {},
   "outputs": [],
   "source": [
    "edge_indices = pandas.concat([\n",
    "    M_chem._edge_indices,\n",
    "    M_elec._edge_indices\n",
    "], axis=0).reset_index(drop=True)\n",
    "\n",
    "_edge_prop_c = M_chem._edges.copy()\n",
    "_edge_prop_c[\"type\"] = \"chemical\"\n",
    "_edge_prop_e = M_elec._edges.copy()\n",
    "_edge_prop_e[\"type\"] = \"electrical\"\n",
    "_edge_prop = pandas.concat([_edge_prop_c, _edge_prop_e], axis=0).reset_index(drop=True)\n",
    "\n",
    "M_all = conntility.ConnectivityMatrix(edge_indices, edge_properties=_edge_prop,\n",
    "                                     vertex_properties=neurons, shape=(len(neurons), len(neurons)))"
   ]
  },
  {
   "cell_type": "markdown",
   "id": "a29d6cbc",
   "metadata": {},
   "source": [
    "We can save the objects to hdf5 files for future use.\n",
    "This will overwrite a file included in this release, but the contents should be identical!"
   ]
  },
  {
   "cell_type": "code",
   "execution_count": 7,
   "id": "d173d23b",
   "metadata": {},
   "outputs": [
    {
     "name": "stderr",
     "output_type": "stream",
     "text": [
      "/home/reimann/venvs/py38/lib/python3.8/site-packages/conntility/connectivity.py:1237: PerformanceWarning: \n",
      "your performance may suffer as PyTables will pickle object types that it cannot\n",
      "map directly to c-types [inferred_type->mixed-integer,key->axis0] [items->None]\n",
      "\n",
      "  self._edges.to_hdf(fn, key=full_prefix + \"/edges\")\n",
      "/home/reimann/venvs/py38/lib/python3.8/site-packages/conntility/connectivity.py:1237: PerformanceWarning: \n",
      "your performance may suffer as PyTables will pickle object types that it cannot\n",
      "map directly to c-types [inferred_type->integer,key->block0_items] [items->None]\n",
      "\n",
      "  self._edges.to_hdf(fn, key=full_prefix + \"/edges\")\n"
     ]
    }
   ],
   "source": [
    "M_chem.to_h5(\"data/C_elegans_witvliet.h5\", prefix=\"chemical\")\n",
    "M_elec.to_h5(\"data/C_elegans_witvliet.h5\", prefix=\"electrical\")\n",
    "M_all.to_h5(\"data/C_elegans_witvliet.h5\", prefix=\"combined\")"
   ]
  },
  {
   "cell_type": "markdown",
   "id": "a5950541",
   "metadata": {},
   "source": [
    "## Loading the data from hdf5\n",
    "\n",
    "The next line loads the connectome data from an included hdf5 file. Use this if you do not want to (or cannot) download the use the raw Excel files."
   ]
  },
  {
   "cell_type": "code",
   "execution_count": 8,
   "id": "08419e31",
   "metadata": {},
   "outputs": [],
   "source": [
    "M_chem = conntility.ConnectivityMatrix.from_h5(\"data/C_elegans_witvliet.h5\", prefix=\"chemical\")\n",
    "M_elec = conntility.ConnectivityMatrix.from_h5(\"data/C_elegans_witvliet.h5\", prefix=\"electrical\")\n",
    "M_all = conntility.ConnectivityMatrix.from_h5(\"data/C_elegans_witvliet.h5\", prefix=\"combined\")"
   ]
  },
  {
   "cell_type": "markdown",
   "id": "8e401fd5",
   "metadata": {},
   "source": [
    "We can now access the connectivity at different stages using the .default function.\n",
    "As a basic validation, we confirm that the total synapse counts match expectation"
   ]
  },
  {
   "cell_type": "code",
   "execution_count": 9,
   "id": "e0809524",
   "metadata": {},
   "outputs": [],
   "source": [
    "total_counts_chem = syns_chem.sum(axis=0)\n",
    "\n",
    "for stage, counts in total_counts_chem.items():\n",
    "    assert M_chem.default(stage).array.sum() == counts\n",
    "    assert M_chem.array_(stage).sum() == counts  # This is equivalent to the line above"
   ]
  },
  {
   "cell_type": "markdown",
   "id": "81fcc8c7",
   "metadata": {},
   "source": [
    "Some notes about the \"combined\" connectome (M_all):\n",
    "\n",
    "Some pairs of neurons have both chemical and electrical synapses between them. That is, M_all represents a graph with potentially multiple edges between nodes. The .array() (and .dense_matrix()) functions will return the sum of the number of chemical and electrical synapses."
   ]
  },
  {
   "cell_type": "code",
   "execution_count": 10,
   "id": "f4c8bcaf",
   "metadata": {},
   "outputs": [],
   "source": [
    "for stage in total_counts_chem.keys():\n",
    "    assert M_all.array_(stage).sum() == M_chem.array_(stage).sum() + M_elec.array_(stage).sum()"
   ]
  },
  {
   "cell_type": "markdown",
   "id": "180a4033",
   "metadata": {},
   "source": [
    "Since we attached the \"type\" property to the edges of M_all, we can get only the chemical or only the electrical connectome by using the .filter function on that property:"
   ]
  },
  {
   "cell_type": "code",
   "execution_count": 11,
   "id": "11e9d0f2",
   "metadata": {},
   "outputs": [],
   "source": [
    "for stage in total_counts_chem.keys():\n",
    "    # \"filter\" edges to keep only the ones where \"type\" is (eq)ual to \"chemical\"\n",
    "    M_tmp = M_all.filter(\"type\").eq(\"chemical\")\n",
    "    assert M_tmp.array_(stage).sum() == M_chem.array_(stage).sum()\n",
    "    \n",
    "for stage in total_counts_chem.keys():\n",
    "    # \"filter\" edges to keep only the ones where \"type\" is (eq)ual to \"chemical\"\n",
    "    M_tmp = M_all.filter(\"type\").eq(\"electrical\")\n",
    "    assert M_tmp.array_(stage).sum() == M_elec.array_(stage).sum()"
   ]
  },
  {
   "cell_type": "markdown",
   "id": "60eae7a3",
   "metadata": {},
   "source": [
    "One caveat when accessing the adjacency as a sparse matrix using the .matrix property:\n",
    "Connections that are not present at a given stage, but at other stages will be represented as edges, but with a value of \"0\" synapses associated with them. \n",
    "\n",
    "I will illustrate what that means below."
   ]
  },
  {
   "cell_type": "code",
   "execution_count": 12,
   "id": "32c10e1c",
   "metadata": {},
   "outputs": [
    {
     "name": "stdout",
     "output_type": "stream",
     "text": [
      "This matrix lists 4297 edges. But only 849 of them are non-zero\n"
     ]
    }
   ],
   "source": [
    "sparse_m = M_all.default(1).matrix\n",
    "\n",
    "print(\"This matrix lists {0} edges. But only {1} of them are non-zero\".format(\n",
    "    sparse_m.nnz, (sparse_m > 0).nnz\n",
    "))"
   ]
  },
  {
   "cell_type": "markdown",
   "id": "6868de55",
   "metadata": {},
   "source": [
    "There are three ways of dealing with it. \n",
    "\n",
    "The first is simply being aware of the issue in your analyses. For example, as it is only relevant in the sparse representation, it does not affect the results of the .array and .dense_matrix functions!\n",
    "\n",
    "The second is to use the .filter function to only consider edges with a weight > 0. \n",
    "\n",
    "The third is to represent the data as a \"StructurallyPlasticMatrix\" instead. \n",
    "\n",
    "I illustrate the second option below, and the third one further down."
   ]
  },
  {
   "cell_type": "code",
   "execution_count": 13,
   "id": "b03341fd",
   "metadata": {},
   "outputs": [
    {
     "name": "stdout",
     "output_type": "stream",
     "text": [
      "This matrix lists 775 edges. And all 775 of them are non-zero\n"
     ]
    }
   ],
   "source": [
    "# Filter edges keeping only the ones with a weight (g)reater (t)han 0\n",
    "sparse_m_filtered = M_chem.default(1).filter().gt(0)\n",
    "sparse_m_filtered = sparse_m_filtered.matrix\n",
    "\n",
    "print(\"This matrix lists {0} edges. And all {1} of them are non-zero\".format(\n",
    "    sparse_m_filtered.nnz, (sparse_m_filtered > 0).nnz\n",
    "))"
   ]
  },
  {
   "cell_type": "markdown",
   "id": "69a3300b",
   "metadata": {},
   "source": [
    "Some stuff we can do now: Split up into subnetworks based on \"Soma region\" for stage 8.\n",
    "That is, split into subgraphs on the nodes where the value of \"Soma region\" is a given string, and the edges between them."
   ]
  },
  {
   "cell_type": "code",
   "execution_count": 14,
   "id": "98323580",
   "metadata": {},
   "outputs": [
    {
     "name": "stdout",
     "output_type": "stream",
     "text": [
      "Subnetwork ('-',) has 0 synapses\n",
      "Subnetwork ('H',) has 6482 synapses\n",
      "Subnetwork ('M',) has 43 synapses\n",
      "Subnetwork ('T',) has 33 synapses\n"
     ]
    }
   ],
   "source": [
    "M8 = M_all.default(8).filter().gt(0)\n",
    "subnetworks = M8.partition(\"Soma Region\")\n",
    "\n",
    "for nw_name in subnetworks.index:\n",
    "    print(\"Subnetwork {0} has {1} synapses\".format(nw_name, subnetworks[nw_name].array.sum()))"
   ]
  },
  {
   "cell_type": "markdown",
   "id": "fd4203fe",
   "metadata": {},
   "source": [
    "Number of connections between nodes associated with different soma regions.\n",
    "\n",
    "Note: .condense returns the number of edges, ignoring their weight (synapse count). In the future, we might change this to return the sum of weights instead. "
   ]
  },
  {
   "cell_type": "code",
   "execution_count": 15,
   "id": "501d4401",
   "metadata": {},
   "outputs": [
    {
     "name": "stdout",
     "output_type": "stream",
     "text": [
      "[[   0    6    0    0]\n",
      " [ 245 1820   30   80]\n",
      " [   1   70   19   20]\n",
      " [   7  180    8   10]]\n"
     ]
    }
   ],
   "source": [
    "print(M8.condense(\"Soma Region\").array)\n",
    "\n",
    "# Check consistency with the \"subnetworks\". condense is to count the number of edges, \n",
    "# i.e. the .nnz of the sparse representation\n",
    "for i, nw_name in enumerate(subnetworks.index):\n",
    "    assert subnetworks[nw_name].matrix.nnz == M8.condense(\"Soma Region\").array[i, i]"
   ]
  },
  {
   "cell_type": "markdown",
   "id": "f401b8fd",
   "metadata": {},
   "source": [
    "What numbers of synapses are contained in subnetworks based on soma position? We cumulatively increase the size of the network from head to tail.\n",
    "\n",
    "Note: We filled in for the missing vertices a \"Soma Position\" value of NaN. These will be ignored in this analysis. "
   ]
  },
  {
   "cell_type": "code",
   "execution_count": 16,
   "id": "683d7007",
   "metadata": {},
   "outputs": [
    {
     "data": {
      "text/plain": [
       "<matplotlib.legend.Legend at 0x7fa073119dc0>"
      ]
     },
     "execution_count": 16,
     "metadata": {},
     "output_type": "execute_result"
    },
    {
     "data": {
      "image/png": "[encoded data removed]",
      "text/plain": [
       "<Figure size 432x288 with 1 Axes>"
      ]
     },
     "metadata": {
      "needs_background": "light"
     },
     "output_type": "display_data"
    },
    {
     "data": {
      "image/png": "[encoded data removed]",
      "text/plain": [
       "<Figure size 432x288 with 1 Axes>"
      ]
     },
     "metadata": {
      "needs_background": "light"
     },
     "output_type": "display_data"
    }
   ],
   "source": [
    "from matplotlib import pyplot as plt\n",
    "import numpy\n",
    "\n",
    "x = numpy.linspace(0, 1, 100)\n",
    "\n",
    "ax = plt.figure().gca()\n",
    "for stage in range(1, 9):\n",
    "    M = M_chem.default(stage)\n",
    "    y = [M.index(\"Soma Position\").le(_x).array.sum()\n",
    "         for _x in x]\n",
    "    ax.plot(x, y, label=\"Stage {0}\".format(stage))\n",
    "ax.set_xlabel(\"Cumulative worm length\")\n",
    "ax.set_ylabel(\"Number of synapses\")\n",
    "ax.set_title(\"Chemical synapses\")\n",
    "plt.legend()\n",
    "\n",
    "ax = plt.figure().gca()\n",
    "for stage in range(1, 9):\n",
    "    M = M_elec.default(stage)\n",
    "    y = [M.index(\"Soma Position\").le(_x).array.sum()\n",
    "         for _x in x]\n",
    "    ax.plot(x, y, label=\"Stage {0}\".format(stage))\n",
    "ax.set_xlabel(\"Cumulative worm length\")\n",
    "ax.set_ylabel(\"Number of synapses\")\n",
    "ax.set_title(\"Electrical synapses\")\n",
    "plt.legend()"
   ]
  },
  {
   "cell_type": "markdown",
   "id": "5cb394cb",
   "metadata": {},
   "source": [
    "Along the length of the worm: What is the fraction of electrical synapses at that position?"
   ]
  },
  {
   "cell_type": "code",
   "execution_count": 17,
   "id": "3dc3d327",
   "metadata": {},
   "outputs": [
    {
     "data": {
      "text/plain": [
       "<matplotlib.legend.Legend at 0x7fa070d254c0>"
      ]
     },
     "execution_count": 17,
     "metadata": {},
     "output_type": "execute_result"
    },
    {
     "data": {
      "image/png": "[encoded data removed]",
      "text/plain": [
       "<Figure size 432x288 with 1 Axes>"
      ]
     },
     "metadata": {
      "needs_background": "light"
     },
     "output_type": "display_data"
    }
   ],
   "source": [
    "x = numpy.linspace(0, 1, 11)\n",
    "plt_x = 0.5 * (x[:-1] + x[1:])\n",
    "\n",
    "ax = plt.figure().gca()\n",
    "for stage in range(1, 9):\n",
    "    M = M_all.filter(stage).gt(0)\n",
    "    # Filter position between _from and _to. Then fraction \"electrical\"\n",
    "    y = [(M.index(\"Soma Position\").ge(_from).index(\"Soma Position\").lt(_to).edges[\"type\"] == \"electrical\").mean()\n",
    "         for _from, _to in zip(x[:-1], x[1:])]\n",
    "    ax.plot(plt_x, y, label=\"Stage {0}\".format(stage), marker=\"o\")\n",
    "ax.set_xlabel(\"Worm lengthwise position\")\n",
    "ax.set_ylabel(\"Fraction electrical\")\n",
    "plt.legend()"
   ]
  },
  {
   "cell_type": "markdown",
   "id": "cd29d658",
   "metadata": {},
   "source": [
    "The data used to populate the \"vertex properties\" includes the number of synapses each neuron sends / receives from neurons in the head. This is from a very different connectivity data source than the Witvliet et al. data we loaded. We can compare synapse counts to this reference.\n",
    "\n",
    "To that end, we use the .edge_associated_vertex_properties function to to get for each edge the region of the neuron sending / receiving the connection. Then we use .subedges to filter the connectivity, including only edges where the source or target are in the head."
   ]
  },
  {
   "cell_type": "code",
   "execution_count": 18,
   "id": "2f3ad2b0",
   "metadata": {},
   "outputs": [
    {
     "data": {
      "text/html": [
       "<div>\n",
       "<style scoped>\n",
       "    .dataframe tbody tr th:only-of-type {\n",
       "        vertical-align: middle;\n",
       "    }\n",
       "\n",
       "    .dataframe tbody tr th {\n",
       "        vertical-align: top;\n",
       "    }\n",
       "\n",
       "    .dataframe thead th {\n",
       "        text-align: right;\n",
       "    }\n",
       "</style>\n",
       "<table border=\"1\" class=\"dataframe\">\n",
       "  <thead>\n",
       "    <tr style=\"text-align: right;\">\n",
       "      <th></th>\n",
       "      <th>row</th>\n",
       "      <th>col</th>\n",
       "    </tr>\n",
       "  </thead>\n",
       "  <tbody>\n",
       "    <tr>\n",
       "      <th>0</th>\n",
       "      <td>H</td>\n",
       "      <td>H</td>\n",
       "    </tr>\n",
       "    <tr>\n",
       "      <th>1</th>\n",
       "      <td>H</td>\n",
       "      <td>H</td>\n",
       "    </tr>\n",
       "    <tr>\n",
       "      <th>2</th>\n",
       "      <td>H</td>\n",
       "      <td>H</td>\n",
       "    </tr>\n",
       "    <tr>\n",
       "      <th>3</th>\n",
       "      <td>H</td>\n",
       "      <td>H</td>\n",
       "    </tr>\n",
       "    <tr>\n",
       "      <th>4</th>\n",
       "      <td>H</td>\n",
       "      <td>H</td>\n",
       "    </tr>\n",
       "    <tr>\n",
       "      <th>...</th>\n",
       "      <td>...</td>\n",
       "      <td>...</td>\n",
       "    </tr>\n",
       "    <tr>\n",
       "      <th>3671</th>\n",
       "      <td>H</td>\n",
       "      <td>H</td>\n",
       "    </tr>\n",
       "    <tr>\n",
       "      <th>3672</th>\n",
       "      <td>H</td>\n",
       "      <td>H</td>\n",
       "    </tr>\n",
       "    <tr>\n",
       "      <th>3673</th>\n",
       "      <td>H</td>\n",
       "      <td>H</td>\n",
       "    </tr>\n",
       "    <tr>\n",
       "      <th>3674</th>\n",
       "      <td>H</td>\n",
       "      <td>H</td>\n",
       "    </tr>\n",
       "    <tr>\n",
       "      <th>3675</th>\n",
       "      <td>H</td>\n",
       "      <td>H</td>\n",
       "    </tr>\n",
       "  </tbody>\n",
       "</table>\n",
       "<p>3676 rows × 2 columns</p>\n",
       "</div>"
      ],
      "text/plain": [
       "     row col\n",
       "0      H   H\n",
       "1      H   H\n",
       "2      H   H\n",
       "3      H   H\n",
       "4      H   H\n",
       "...   ..  ..\n",
       "3671   H   H\n",
       "3672   H   H\n",
       "3673   H   H\n",
       "3674   H   H\n",
       "3675   H   H\n",
       "\n",
       "[3676 rows x 2 columns]"
      ]
     },
     "metadata": {},
     "output_type": "display_data"
    },
    {
     "data": {
      "text/plain": [
       "[<matplotlib.lines.Line2D at 0x7fa070ceac40>]"
      ]
     },
     "execution_count": 18,
     "metadata": {},
     "output_type": "execute_result"
    },
    {
     "data": {
      "image/png": "[encoded data removed]",
      "text/plain": [
       "<Figure size 432x288 with 1 Axes>"
      ]
     },
     "metadata": {
      "needs_background": "light"
     },
     "output_type": "display_data"
    }
   ],
   "source": [
    "stage = 8\n",
    "Mc = M_chem.default(8)\n",
    "Me = M_elec.default(8)\n",
    "\n",
    "# For each edge: region of the source (row) and target (col) neuron\n",
    "src_tgt_region_c = Mc.edge_associated_vertex_properties(\"Soma Region\") \n",
    "display(src_tgt_region_c)\n",
    "src_tgt_region_e = Me.edge_associated_vertex_properties(\"Soma Region\")\n",
    "\n",
    "# Filter edges based on source and target regions\n",
    "count_from_head = Mc.subedges(src_tgt_region_c[\"row\"] == \"H\").array.sum(axis=0) + \\\n",
    "                  Me.subedges(src_tgt_region_e[\"row\"] == \"H\").array.sum(axis=0)\n",
    "count_to_head = Mc.subedges(src_tgt_region_c[\"col\"] == \"H\").array.sum(axis=1) + \\\n",
    "                Me.subedges(src_tgt_region_e[\"col\"] == \"H\").array.sum(axis=1)\n",
    "\n",
    "\n",
    "plt.plot(count_from_head, M_chem.vertices[\"R_Head\"].fillna(0).values, '.')\n",
    "plt.plot(count_to_head, M_chem.vertices[\"S_Head\"].fillna(0).values, '.')"
   ]
  },
  {
   "cell_type": "markdown",
   "id": "72cf25b1",
   "metadata": {},
   "source": [
    "### Using a StructurallyPlastixMatrix\n",
    "\n",
    "As mentioned above, the data is arguably better represented as a StructurallyPlasticMatrix, as the changes in the data include appearance and disappearance of connections. (On the other hand, the data is eight individual snap shots of connectomes at different times and not a single connectome studied over time. Hence, a connection disappearing could be a genuine developmental step or just the two worms following different trajectories).\n",
    "\n",
    "We can fairly easily create a StructurallyPlasticMatrix from one of the connectomes. A StructurallyPlasticMatrix needs in addition to the edge indices, edge properties and vertex properties two pandas Series describing at what points edges are switched on or off. We can easily determine that by finding changes in the columns of the edge properties. If an entry is zero for column i and nonzero for i+1, then it is gained at i+1; in the inverse case it is lost.\n",
    "\n",
    "It is assumed that initially all edges are _on_, so we also need to determine which edges are off in the first step."
   ]
  },
  {
   "cell_type": "code",
   "execution_count": 19,
   "id": "ba823ca3",
   "metadata": {},
   "outputs": [
    {
     "data": {
      "text/html": [
       "<div>\n",
       "<style scoped>\n",
       "    .dataframe tbody tr th:only-of-type {\n",
       "        vertical-align: middle;\n",
       "    }\n",
       "\n",
       "    .dataframe tbody tr th {\n",
       "        vertical-align: top;\n",
       "    }\n",
       "\n",
       "    .dataframe thead th {\n",
       "        text-align: right;\n",
       "    }\n",
       "</style>\n",
       "<table border=\"1\" class=\"dataframe\">\n",
       "  <thead>\n",
       "    <tr style=\"text-align: right;\">\n",
       "      <th>stage</th>\n",
       "      <th>1</th>\n",
       "      <th>2</th>\n",
       "      <th>3</th>\n",
       "      <th>4</th>\n",
       "      <th>5</th>\n",
       "      <th>6</th>\n",
       "      <th>7</th>\n",
       "      <th>8</th>\n",
       "    </tr>\n",
       "  </thead>\n",
       "  <tbody>\n",
       "    <tr>\n",
       "      <th>5</th>\n",
       "      <td>1</td>\n",
       "      <td>0</td>\n",
       "      <td>1</td>\n",
       "      <td>1</td>\n",
       "      <td>1</td>\n",
       "      <td>3</td>\n",
       "      <td>1</td>\n",
       "      <td>2</td>\n",
       "    </tr>\n",
       "    <tr>\n",
       "      <th>6</th>\n",
       "      <td>1</td>\n",
       "      <td>2</td>\n",
       "      <td>2</td>\n",
       "      <td>0</td>\n",
       "      <td>0</td>\n",
       "      <td>1</td>\n",
       "      <td>0</td>\n",
       "      <td>1</td>\n",
       "    </tr>\n",
       "    <tr>\n",
       "      <th>7</th>\n",
       "      <td>3</td>\n",
       "      <td>1</td>\n",
       "      <td>3</td>\n",
       "      <td>3</td>\n",
       "      <td>8</td>\n",
       "      <td>9</td>\n",
       "      <td>7</td>\n",
       "      <td>16</td>\n",
       "    </tr>\n",
       "    <tr>\n",
       "      <th>8</th>\n",
       "      <td>0</td>\n",
       "      <td>2</td>\n",
       "      <td>1</td>\n",
       "      <td>2</td>\n",
       "      <td>3</td>\n",
       "      <td>2</td>\n",
       "      <td>7</td>\n",
       "      <td>6</td>\n",
       "    </tr>\n",
       "    <tr>\n",
       "      <th>9</th>\n",
       "      <td>1</td>\n",
       "      <td>1</td>\n",
       "      <td>0</td>\n",
       "      <td>2</td>\n",
       "      <td>0</td>\n",
       "      <td>0</td>\n",
       "      <td>0</td>\n",
       "      <td>1</td>\n",
       "    </tr>\n",
       "    <tr>\n",
       "      <th>...</th>\n",
       "      <td>...</td>\n",
       "      <td>...</td>\n",
       "      <td>...</td>\n",
       "      <td>...</td>\n",
       "      <td>...</td>\n",
       "      <td>...</td>\n",
       "      <td>...</td>\n",
       "      <td>...</td>\n",
       "    </tr>\n",
       "    <tr>\n",
       "      <th>4276</th>\n",
       "      <td>0</td>\n",
       "      <td>1</td>\n",
       "      <td>0</td>\n",
       "      <td>1</td>\n",
       "      <td>4</td>\n",
       "      <td>1</td>\n",
       "      <td>1</td>\n",
       "      <td>1</td>\n",
       "    </tr>\n",
       "    <tr>\n",
       "      <th>4288</th>\n",
       "      <td>0</td>\n",
       "      <td>0</td>\n",
       "      <td>0</td>\n",
       "      <td>0</td>\n",
       "      <td>0</td>\n",
       "      <td>0</td>\n",
       "      <td>0</td>\n",
       "      <td>1</td>\n",
       "    </tr>\n",
       "    <tr>\n",
       "      <th>4289</th>\n",
       "      <td>0</td>\n",
       "      <td>0</td>\n",
       "      <td>0</td>\n",
       "      <td>0</td>\n",
       "      <td>0</td>\n",
       "      <td>0</td>\n",
       "      <td>2</td>\n",
       "      <td>1</td>\n",
       "    </tr>\n",
       "    <tr>\n",
       "      <th>4292</th>\n",
       "      <td>1</td>\n",
       "      <td>1</td>\n",
       "      <td>1</td>\n",
       "      <td>1</td>\n",
       "      <td>2</td>\n",
       "      <td>1</td>\n",
       "      <td>1</td>\n",
       "      <td>1</td>\n",
       "    </tr>\n",
       "    <tr>\n",
       "      <th>4296</th>\n",
       "      <td>0</td>\n",
       "      <td>0</td>\n",
       "      <td>0</td>\n",
       "      <td>0</td>\n",
       "      <td>0</td>\n",
       "      <td>1</td>\n",
       "      <td>0</td>\n",
       "      <td>1</td>\n",
       "    </tr>\n",
       "  </tbody>\n",
       "</table>\n",
       "<p>2496 rows × 8 columns</p>\n",
       "</div>"
      ],
      "text/plain": [
       "stage  1  2  3  4  5  6  7   8\n",
       "5      1  0  1  1  1  3  1   2\n",
       "6      1  2  2  0  0  1  0   1\n",
       "7      3  1  3  3  8  9  7  16\n",
       "8      0  2  1  2  3  2  7   6\n",
       "9      1  1  0  2  0  0  0   1\n",
       "...   .. .. .. .. .. .. ..  ..\n",
       "4276   0  1  0  1  4  1  1   1\n",
       "4288   0  0  0  0  0  0  0   1\n",
       "4289   0  0  0  0  0  0  2   1\n",
       "4292   1  1  1  1  2  1  1   1\n",
       "4296   0  0  0  0  0  1  0   1\n",
       "\n",
       "[2496 rows x 8 columns]"
      ]
     },
     "execution_count": 19,
     "metadata": {},
     "output_type": "execute_result"
    }
   ],
   "source": [
    "stage_cols = [_x for _x in M.edges.columns if isinstance(_x, int)]\n",
    "M.edges[stage_cols]"
   ]
  },
  {
   "cell_type": "code",
   "execution_count": 20,
   "id": "2ee8130d",
   "metadata": {},
   "outputs": [],
   "source": [
    "def to_structurally_plastic(M):\n",
    "    stage_cols = [_x for _x in M.edges.columns if isinstance(_x, int)]\n",
    "    edges = M.edges[stage_cols]\n",
    "    start_off = (edges == 0)[1]\n",
    "    start_off = pandas.Series(start_off.index[start_off].values,\n",
    "                              index=[edges.columns[0]] * start_off.sum())  # List of edges that start being off\n",
    "    switch_on = numpy.diff((edges > 0).astype(int), axis=1) > 0  # edges gained\n",
    "    switch_off = numpy.diff((edges > 0).astype(int), axis=1) < 0  # edges lost\n",
    "\n",
    "    idx_on = numpy.nonzero(switch_on)  # Get indices of changes\n",
    "    idx_on = pandas.Series(idx_on[0], index=edges.columns[idx_on[1] + 1])\n",
    "\n",
    "    idx_off = numpy.nonzero(switch_off)  # Same...\n",
    "    idx_off = pandas.Series(idx_off[0], index=edges.columns[idx_off[1] + 1])\n",
    "    idx_off = pandas.concat([start_off, idx_off], axis=0)  # Include the ones starting off\n",
    "\n",
    "    M_plast = conntility.StructurallyPlasticMatrix(M._edge_indices, edge_properties=M._edges,\n",
    "                                                  vertex_properties=M._vertex_properties, shape=M._shape,\n",
    "                                                  edge_on=idx_on, edge_off=idx_off)\n",
    "    return M_plast\n",
    "\n",
    "M_chem_plast = to_structurally_plastic(M_chem)\n",
    "M_elec_plast = to_structurally_plastic(M_elec)\n",
    "\n",
    "# NOTE: For \"StructurallyPlastic\" matrices with multiple edges between nodes the behavior\n",
    "# of some functionality is untested. Use at own risk and file a ticket if you encounter an error!\n",
    "M_all_plast  = to_structurally_plastic(M_all)"
   ]
  },
  {
   "cell_type": "markdown",
   "id": "baffc6e4",
   "metadata": {},
   "source": [
    "The result can be indexed by developmental stage. Stage \"0\" is an artificial one where all edges are assumed active, hence it is equivalent to the non-structurally-plastic version:"
   ]
  },
  {
   "cell_type": "code",
   "execution_count": 21,
   "id": "f464a31d",
   "metadata": {},
   "outputs": [
    {
     "data": {
      "text/plain": [
       "True"
      ]
     },
     "execution_count": 21,
     "metadata": {},
     "output_type": "execute_result"
    }
   ],
   "source": [
    "numpy.all(M_chem_plast[0].array == M_chem.array)"
   ]
  },
  {
   "cell_type": "markdown",
   "id": "7a999101",
   "metadata": {},
   "source": [
    "We can then access the matrix at a given stage and it will not contain edges with zero weights. \n",
    "\n",
    "As a caveat, we manually have to use the .default function to make sure the correct weights for the selected stage are considered. Otherwise you might gain a matrix that is _structurally_ at the selected stage, but _functionally_ (in terms of weights) at a different one. We hope to simplify this in future releases."
   ]
  },
  {
   "cell_type": "code",
   "execution_count": 22,
   "id": "51628e63",
   "metadata": {
    "scrolled": true
   },
   "outputs": [
    {
     "name": "stdout",
     "output_type": "stream",
     "text": [
      "[1 1 3 ... 9 3 2]\n",
      "[3 1 9 2 0 0 3 0 4 1]\n"
     ]
    }
   ],
   "source": [
    "M_at_6 = M_chem_plast[6].default(6)\n",
    "\n",
    "print(M_at_6.matrix.data)  # No zeros\n",
    "print(M.default(6).matrix.data[:10])  # This one has zeros\n",
    "\n",
    "# Testing that M_at_6 is identical to the non-plastic version after an edge filter is applied as above\n",
    "M_nonplast = M_chem.default(6).filter().gt(0)\n",
    "\n",
    "assert numpy.all(M_nonplast.matrix.data == M_at_6.matrix.data)"
   ]
  },
  {
   "cell_type": "markdown",
   "id": "53e68c1b",
   "metadata": {},
   "source": [
    "The StructurallyPlasticMatrix object offers a number of extra functionality. For example, we can easily count the number of time steps an edge is active in"
   ]
  },
  {
   "cell_type": "code",
   "execution_count": 23,
   "id": "ebb2dc41",
   "metadata": {},
   "outputs": [
    {
     "data": {
      "text/plain": [
       "<matplotlib.colorbar.Colorbar at 0x7fa070ca8370>"
      ]
     },
     "execution_count": 23,
     "metadata": {},
     "output_type": "execute_result"
    },
    {
     "data": {
      "image/png": "[encoded data removed]",
      "text/plain": [
       "<Figure size 432x288 with 2 Axes>"
      ]
     },
     "metadata": {
      "needs_background": "light"
     },
     "output_type": "display_data"
    }
   ],
   "source": [
    "plt.colorbar(plt.imshow(M_chem_plast.amount_active().array, interpolation=\"nearest\"))"
   ]
  },
  {
   "cell_type": "markdown",
   "id": "a236e173",
   "metadata": {},
   "source": [
    "Or we can get versions that ignore (i.e. skip) the structural changes happen between specified stages."
   ]
  },
  {
   "cell_type": "code",
   "execution_count": 24,
   "id": "9501df46",
   "metadata": {},
   "outputs": [
    {
     "data": {
      "text/plain": [
       "2    1440\n",
       "3     700\n",
       "9     442\n",
       "4     379\n",
       "5     231\n",
       "6     171\n",
       "8     167\n",
       "7     146\n",
       "Name: count, dtype: int64"
      ]
     },
     "metadata": {},
     "output_type": "display_data"
    },
    {
     "data": {
      "text/plain": [
       "2    1384\n",
       "3     661\n",
       "9     530\n",
       "4     343\n",
       "5     235\n",
       "1     178\n",
       "6     144\n",
       "8     102\n",
       "7      99\n",
       "Name: count, dtype: int64"
      ]
     },
     "metadata": {},
     "output_type": "display_data"
    }
   ],
   "source": [
    "M_skip = M_chem_plast.skip(2, 5)\n",
    "\n",
    "# Distribution of the number of active steps in the default data\n",
    "display(pandas.Series(M_chem_plast.amount_active().matrix.data).value_counts())\n",
    "\n",
    "# And if we ignore the changes between stages 2 and 5\n",
    "display(pandas.Series(M_skip.amount_active().matrix.data).value_counts())"
   ]
  },
  {
   "cell_type": "markdown",
   "id": "bab7eb14",
   "metadata": {},
   "source": [
    "There is much more functionality. Explore and play around with it!"
   ]
  }
 ],
 "metadata": {
  "kernelspec": {
   "display_name": "Python 3 (ipykernel)",
   "language": "python",
   "name": "python3"
  },
  "language_info": {
   "codemirror_mode": {
    "name": "ipython",
    "version": 3
   },
   "file_extension": ".py",
   "mimetype": "text/x-python",
   "name": "python",
   "nbconvert_exporter": "python",
   "pygments_lexer": "ipython3",
   "version": "3.8.10"
  }
 },
 "nbformat": 4,
 "nbformat_minor": 5
}
