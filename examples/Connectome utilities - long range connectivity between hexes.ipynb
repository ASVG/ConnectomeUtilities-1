{
 "cells": [
  {
   "cell_type": "markdown",
   "id": "96ed837e",
   "metadata": {},
   "source": [
    "### If you have any suggestions, or find bugs, create a jira ticket:\n",
    "https://bbpteam.epfl.ch/project/issues/projects/ACCS/issues/?filter=allopenissues"
   ]
  },
  {
   "cell_type": "markdown",
   "id": "3f08ce7d",
   "metadata": {},
   "source": [
    "We begin by loading a circuit"
   ]
  },
  {
   "cell_type": "code",
   "execution_count": 1,
   "id": "21ed2159",
   "metadata": {},
   "outputs": [],
   "source": [
    "import pandas\n",
    "import numpy\n",
    "import bluepy\n",
    "\n",
    "circ_fn = \"/gpfs/bbp.cscs.ch/project/proj83/circuits/Bio_M/20200805/CircuitConfig_TC_WM\"\n",
    "circ = bluepy.Circuit(circ_fn)"
   ]
  },
  {
   "cell_type": "markdown",
   "id": "2cd50822",
   "metadata": {},
   "source": [
    "New we load basic information about neurons into a DataFrame.\n",
    "To that end, we first write a \"loader_config\". It specifies the following:\n",
    " - Which neurons to load and which of their properties\n",
    " - Which filter to apply. In this example, we focus on layer 4 connectivity only\n",
    " - How to group the neurons into different classes. Here, we group the neurons together into 400 um \"columns\", i.e. according to a hexagonal grid\n",
    " \n",
    " Feel free to adjust any of the specifics, for example using smaller columns"
   ]
  },
  {
   "cell_type": "code",
   "execution_count": 2,
   "id": "3fadd474",
   "metadata": {},
   "outputs": [
    {
     "name": "stderr",
     "output_type": "stream",
     "text": [
      "/gpfs/bbp.cscs.ch/home/reimann/venvs/py38/lib/python3.8/site-packages/conntility/flatmapping/_supersample_utility.py:136: UserWarning: Optimal rotation is not uniquely or poorly defined for the given sets of vectors.\n",
      "  res = Rotation.align_vectors(vtgt, vv)\n"
     ]
    },
    {
     "name": "stdout",
     "output_type": "stream",
     "text": [
      "Rotation errors: min: 0.0, median: 0.09387602600937471, mean: 0.136282418448154, std: 0.15664142313801505, max: 2.0\n"
     ]
    },
    {
     "data": {
      "text/html": [
       "<div>\n",
       "<style scoped>\n",
       "    .dataframe tbody tr th:only-of-type {\n",
       "        vertical-align: middle;\n",
       "    }\n",
       "\n",
       "    .dataframe tbody tr th {\n",
       "        vertical-align: top;\n",
       "    }\n",
       "\n",
       "    .dataframe thead th {\n",
       "        text-align: right;\n",
       "    }\n",
       "</style>\n",
       "<table border=\"1\" class=\"dataframe\">\n",
       "  <thead>\n",
       "    <tr style=\"text-align: right;\">\n",
       "      <th></th>\n",
       "      <th></th>\n",
       "      <th>etype</th>\n",
       "      <th>layer</th>\n",
       "      <th>mtype</th>\n",
       "      <th>synapse_class</th>\n",
       "      <th>x</th>\n",
       "      <th>y</th>\n",
       "      <th>z</th>\n",
       "      <th>gid</th>\n",
       "      <th>ss_flat_x</th>\n",
       "      <th>ss_flat_y</th>\n",
       "      <th>hex400-x</th>\n",
       "      <th>hex400-y</th>\n",
       "      <th>hex400-subtarget</th>\n",
       "    </tr>\n",
       "    <tr>\n",
       "      <th>hex400-i</th>\n",
       "      <th>hex400-j</th>\n",
       "      <th></th>\n",
       "      <th></th>\n",
       "      <th></th>\n",
       "      <th></th>\n",
       "      <th></th>\n",
       "      <th></th>\n",
       "      <th></th>\n",
       "      <th></th>\n",
       "      <th></th>\n",
       "      <th></th>\n",
       "      <th></th>\n",
       "      <th></th>\n",
       "      <th></th>\n",
       "    </tr>\n",
       "  </thead>\n",
       "  <tbody>\n",
       "    <tr>\n",
       "      <th>-3</th>\n",
       "      <th>6</th>\n",
       "      <td>cNAC</td>\n",
       "      <td>4</td>\n",
       "      <td>L4_BP</td>\n",
       "      <td>INH</td>\n",
       "      <td>3935.875808</td>\n",
       "      <td>-2120.645544</td>\n",
       "      <td>-2156.657847</td>\n",
       "      <td>2206292</td>\n",
       "      <td>723.002011</td>\n",
       "      <td>1920.459284</td>\n",
       "      <td>1.039230e+03</td>\n",
       "      <td>1800.0</td>\n",
       "      <td>R3;C1</td>\n",
       "    </tr>\n",
       "    <tr>\n",
       "      <th>4</th>\n",
       "      <th>7</th>\n",
       "      <td>cACint</td>\n",
       "      <td>4</td>\n",
       "      <td>L4_BP</td>\n",
       "      <td>INH</td>\n",
       "      <td>5429.642871</td>\n",
       "      <td>-1262.427607</td>\n",
       "      <td>-4874.859457</td>\n",
       "      <td>2206293</td>\n",
       "      <td>4087.381313</td>\n",
       "      <td>705.720657</td>\n",
       "      <td>3.810512e+03</td>\n",
       "      <td>600.0</td>\n",
       "      <td>R1;C5</td>\n",
       "    </tr>\n",
       "    <tr>\n",
       "      <th>-15</th>\n",
       "      <th>15</th>\n",
       "      <td>bNAC</td>\n",
       "      <td>4</td>\n",
       "      <td>L4_BP</td>\n",
       "      <td>INH</td>\n",
       "      <td>1964.702652</td>\n",
       "      <td>1091.962301</td>\n",
       "      <td>-1301.027629</td>\n",
       "      <td>2206294</td>\n",
       "      <td>183.262735</td>\n",
       "      <td>5823.590582</td>\n",
       "      <td>3.673940e-13</td>\n",
       "      <td>6000.0</td>\n",
       "      <td>R10;C0</td>\n",
       "    </tr>\n",
       "    <tr>\n",
       "      <th>-13</th>\n",
       "      <th>17</th>\n",
       "      <td>cNAC</td>\n",
       "      <td>4</td>\n",
       "      <td>L4_BP</td>\n",
       "      <td>INH</td>\n",
       "      <td>2625.043789</td>\n",
       "      <td>2167.404245</td>\n",
       "      <td>-1035.677347</td>\n",
       "      <td>2206295</td>\n",
       "      <td>1467.736632</td>\n",
       "      <td>6209.748800</td>\n",
       "      <td>1.385641e+03</td>\n",
       "      <td>6000.0</td>\n",
       "      <td>R10;C2</td>\n",
       "    </tr>\n",
       "    <tr>\n",
       "      <th>6</th>\n",
       "      <th>6</th>\n",
       "      <td>cNAC</td>\n",
       "      <td>4</td>\n",
       "      <td>L4_BP</td>\n",
       "      <td>INH</td>\n",
       "      <td>5243.143890</td>\n",
       "      <td>-1681.832926</td>\n",
       "      <td>-5378.442266</td>\n",
       "      <td>2206296</td>\n",
       "      <td>4109.221373</td>\n",
       "      <td>191.553310</td>\n",
       "      <td>4.156922e+03</td>\n",
       "      <td>0.0</td>\n",
       "      <td>R0;C6</td>\n",
       "    </tr>\n",
       "    <tr>\n",
       "      <th>...</th>\n",
       "      <th>...</th>\n",
       "      <td>...</td>\n",
       "      <td>...</td>\n",
       "      <td>...</td>\n",
       "      <td>...</td>\n",
       "      <td>...</td>\n",
       "      <td>...</td>\n",
       "      <td>...</td>\n",
       "      <td>...</td>\n",
       "      <td>...</td>\n",
       "      <td>...</td>\n",
       "      <td>...</td>\n",
       "      <td>...</td>\n",
       "      <td>...</td>\n",
       "    </tr>\n",
       "    <tr>\n",
       "      <th>1</th>\n",
       "      <th>10</th>\n",
       "      <td>cSTUT</td>\n",
       "      <td>4</td>\n",
       "      <td>L4_LBC</td>\n",
       "      <td>INH</td>\n",
       "      <td>5454.385788</td>\n",
       "      <td>-859.306284</td>\n",
       "      <td>-4217.743437</td>\n",
       "      <td>2885708</td>\n",
       "      <td>3813.424272</td>\n",
       "      <td>1406.395811</td>\n",
       "      <td>3.810512e+03</td>\n",
       "      <td>1800.0</td>\n",
       "      <td>R3;C5</td>\n",
       "    </tr>\n",
       "    <tr>\n",
       "      <th>3</th>\n",
       "      <th>6</th>\n",
       "      <td>dNAC</td>\n",
       "      <td>4</td>\n",
       "      <td>L4_LBC</td>\n",
       "      <td>INH</td>\n",
       "      <td>4803.351240</td>\n",
       "      <td>-2302.172723</td>\n",
       "      <td>-4608.297791</td>\n",
       "      <td>2885709</td>\n",
       "      <td>2882.768952</td>\n",
       "      <td>405.078887</td>\n",
       "      <td>3.117691e+03</td>\n",
       "      <td>600.0</td>\n",
       "      <td>R1;C4</td>\n",
       "    </tr>\n",
       "    <tr>\n",
       "      <th>-4</th>\n",
       "      <th>8</th>\n",
       "      <td>dNAC</td>\n",
       "      <td>4</td>\n",
       "      <td>L4_LBC</td>\n",
       "      <td>INH</td>\n",
       "      <td>3967.728001</td>\n",
       "      <td>-1128.846627</td>\n",
       "      <td>-2056.902446</td>\n",
       "      <td>2885710</td>\n",
       "      <td>1319.944360</td>\n",
       "      <td>2724.312314</td>\n",
       "      <td>1.385641e+03</td>\n",
       "      <td>2400.0</td>\n",
       "      <td>R4;C2</td>\n",
       "    </tr>\n",
       "    <tr>\n",
       "      <th>0</th>\n",
       "      <th>15</th>\n",
       "      <td>cNAC</td>\n",
       "      <td>4</td>\n",
       "      <td>L4_LBC</td>\n",
       "      <td>INH</td>\n",
       "      <td>5921.843550</td>\n",
       "      <td>1415.952912</td>\n",
       "      <td>-4478.548625</td>\n",
       "      <td>2885711</td>\n",
       "      <td>5476.205274</td>\n",
       "      <td>2917.727638</td>\n",
       "      <td>5.196152e+03</td>\n",
       "      <td>3000.0</td>\n",
       "      <td>R5;C7</td>\n",
       "    </tr>\n",
       "    <tr>\n",
       "      <th>-1</th>\n",
       "      <th>2</th>\n",
       "      <td>dNAC</td>\n",
       "      <td>4</td>\n",
       "      <td>L4_LBC</td>\n",
       "      <td>INH</td>\n",
       "      <td>3839.505128</td>\n",
       "      <td>-3086.204151</td>\n",
       "      <td>-2490.231175</td>\n",
       "      <td>2885712</td>\n",
       "      <td>256.305188</td>\n",
       "      <td>946.839179</td>\n",
       "      <td>3.464102e+02</td>\n",
       "      <td>600.0</td>\n",
       "      <td>R1;C0</td>\n",
       "    </tr>\n",
       "  </tbody>\n",
       "</table>\n",
       "<p>639422 rows × 13 columns</p>\n",
       "</div>"
      ],
      "text/plain": [
       "                    etype  layer   mtype synapse_class            x  \\\n",
       "hex400-i hex400-j                                                     \n",
       "-3       6           cNAC      4   L4_BP           INH  3935.875808   \n",
       " 4       7         cACint      4   L4_BP           INH  5429.642871   \n",
       "-15      15          bNAC      4   L4_BP           INH  1964.702652   \n",
       "-13      17          cNAC      4   L4_BP           INH  2625.043789   \n",
       " 6       6           cNAC      4   L4_BP           INH  5243.143890   \n",
       "...                   ...    ...     ...           ...          ...   \n",
       " 1       10         cSTUT      4  L4_LBC           INH  5454.385788   \n",
       " 3       6           dNAC      4  L4_LBC           INH  4803.351240   \n",
       "-4       8           dNAC      4  L4_LBC           INH  3967.728001   \n",
       " 0       15          cNAC      4  L4_LBC           INH  5921.843550   \n",
       "-1       2           dNAC      4  L4_LBC           INH  3839.505128   \n",
       "\n",
       "                             y            z      gid    ss_flat_x  \\\n",
       "hex400-i hex400-j                                                   \n",
       "-3       6        -2120.645544 -2156.657847  2206292   723.002011   \n",
       " 4       7        -1262.427607 -4874.859457  2206293  4087.381313   \n",
       "-15      15        1091.962301 -1301.027629  2206294   183.262735   \n",
       "-13      17        2167.404245 -1035.677347  2206295  1467.736632   \n",
       " 6       6        -1681.832926 -5378.442266  2206296  4109.221373   \n",
       "...                        ...          ...      ...          ...   \n",
       " 1       10        -859.306284 -4217.743437  2885708  3813.424272   \n",
       " 3       6        -2302.172723 -4608.297791  2885709  2882.768952   \n",
       "-4       8        -1128.846627 -2056.902446  2885710  1319.944360   \n",
       " 0       15        1415.952912 -4478.548625  2885711  5476.205274   \n",
       "-1       2        -3086.204151 -2490.231175  2885712   256.305188   \n",
       "\n",
       "                     ss_flat_y      hex400-x  hex400-y hex400-subtarget  \n",
       "hex400-i hex400-j                                                        \n",
       "-3       6         1920.459284  1.039230e+03    1800.0            R3;C1  \n",
       " 4       7          705.720657  3.810512e+03     600.0            R1;C5  \n",
       "-15      15        5823.590582  3.673940e-13    6000.0           R10;C0  \n",
       "-13      17        6209.748800  1.385641e+03    6000.0           R10;C2  \n",
       " 6       6          191.553310  4.156922e+03       0.0            R0;C6  \n",
       "...                        ...           ...       ...              ...  \n",
       " 1       10        1406.395811  3.810512e+03    1800.0            R3;C5  \n",
       " 3       6          405.078887  3.117691e+03     600.0            R1;C4  \n",
       "-4       8         2724.312314  1.385641e+03    2400.0            R4;C2  \n",
       " 0       15        2917.727638  5.196152e+03    3000.0            R5;C7  \n",
       "-1       2          946.839179  3.464102e+02     600.0            R1;C0  \n",
       "\n",
       "[639422 rows x 13 columns]"
      ]
     },
     "metadata": {},
     "output_type": "display_data"
    }
   ],
   "source": [
    "# install the following repo from: bbpgitlab.epfl.ch:conn/structural/Connectome-utilities.git\n",
    "# Note: There is more documentation in that repo!\n",
    "from conntility.circuit_models import neuron_groups\n",
    "\n",
    "loader_config = {\n",
    "    \"loading\": {\n",
    "        \"base_target\": \"Mosaic\", \n",
    "        \"properties\": [\"x\", \"y\", \"z\", \"etype\", \"mtype\", \"layer\", \"synapse_class\", \"ss_flat_x\", \"ss_flat_y\"]\n",
    "    },\n",
    "    \"filtering\":[\n",
    "        {\n",
    "            \"column\": \"layer\",\n",
    "            \"value\": 4\n",
    "        }\n",
    "    ],\n",
    "    \"grouping\": [\n",
    "        {\n",
    "            \"method\": \"group_by_grid\",\n",
    "            \"columns\": [\"ss_flat_x\", \"ss_flat_y\"],\n",
    "            \"args\": [400.0],\n",
    "            \"kwargs\":{\n",
    "                \"prefix\": \"hex400-\"                \n",
    "            }\n",
    "        }\n",
    "    ]\n",
    "}\n",
    "\n",
    "\n",
    "base_grp = neuron_groups.load_group_filter(circ, loader_config)\n",
    "base_grp = base_grp.loc[base_grp[\"hex400-x\"] > -1E6]\n",
    "\n",
    "display(base_grp)"
   ]
  },
  {
   "cell_type": "markdown",
   "id": "95f71b8e",
   "metadata": {},
   "source": [
    "Quick check: How many neurons of each type are we considering?\n",
    "\n",
    "As expected: Only layer 4 neurons, but all of them."
   ]
  },
  {
   "cell_type": "code",
   "execution_count": 3,
   "id": "7c5216c9",
   "metadata": {
    "scrolled": true
   },
   "outputs": [
    {
     "data": {
      "text/plain": [
       "L4_TPC       384186\n",
       "L4_UPC       159798\n",
       "L4_SSC        54468\n",
       "L4_LBC        12192\n",
       "L4_MC          9209\n",
       "L4_NBC         8262\n",
       "L4_BTC         4895\n",
       "L4_BP          1743\n",
       "L4_SBC         1658\n",
       "L4_DBC         1641\n",
       "L4_NGC         1006\n",
       "L4_CHC          364\n",
       "L5_TPC:B          0\n",
       "L5_SBC            0\n",
       "L5_NGC            0\n",
       "L5_NBC            0\n",
       "L5_TPC:A          0\n",
       "L5_TPC:C          0\n",
       "L5_LBC            0\n",
       "L6_LBC            0\n",
       "L6_TPC:C          0\n",
       "L6_TPC:A          0\n",
       "L6_SBC            0\n",
       "L6_NGC            0\n",
       "L6_NBC            0\n",
       "L6_MC             0\n",
       "L6_IPC            0\n",
       "L5_UPC            0\n",
       "L6_HPC            0\n",
       "L6_DBC            0\n",
       "L6_CHC            0\n",
       "L6_BTC            0\n",
       "L6_BPC            0\n",
       "L6_BP             0\n",
       "L5_MC             0\n",
       "L1_DAC            0\n",
       "L5_DBC            0\n",
       "L5_CHC            0\n",
       "L1_LAC            0\n",
       "L1_NGC-DA         0\n",
       "L1_NGC-SA         0\n",
       "L1_SAC            0\n",
       "L23_BP            0\n",
       "L23_BTC           0\n",
       "L23_CHC           0\n",
       "L23_DBC           0\n",
       "L23_LBC           0\n",
       "L23_MC            0\n",
       "L23_NBC           0\n",
       "L23_NGC           0\n",
       "L23_SBC           0\n",
       "L2_IPC            0\n",
       "L2_TPC:A          0\n",
       "L2_TPC:B          0\n",
       "L3_TPC:A          0\n",
       "L3_TPC:C          0\n",
       "L1_HAC            0\n",
       "L5_BP             0\n",
       "L5_BTC            0\n",
       "L6_UPC            0\n",
       "Name: mtype, dtype: int64"
      ]
     },
     "execution_count": 3,
     "metadata": {},
     "output_type": "execute_result"
    }
   ],
   "source": [
    "base_grp[\"mtype\"].value_counts()"
   ]
  },
  {
   "cell_type": "markdown",
   "id": "99199da4",
   "metadata": {},
   "source": [
    "We use the following to load the matrix of connections _between_ the defined groups.\n",
    "(Note: There are different functions available for loading connections within groups).\n",
    "\n",
    "Here, we load the midrange connection count. Use instead \"local\" for location connectivity."
   ]
  },
  {
   "cell_type": "code",
   "execution_count": null,
   "id": "1979d749",
   "metadata": {},
   "outputs": [],
   "source": [
    "from conntility import circuit_models\n",
    "\n",
    "M = circuit_models.circuit_matrix_between_groups(circ, base_grp, connectome=\"intra_SSCX_midrange_wm\",\n",
    "                                                 extract_full=True)"
   ]
  },
  {
   "cell_type": "markdown",
   "id": "80553cec",
   "metadata": {},
   "source": [
    "The result is a pandas.Series with connection counts between groups. Indexed by the name of the source / target groups.\n",
    "\n",
    "Note that for this purpose the names of the source / target groups are slightly altered. In \"base_grp\" above the groups are given by a \"i\" and a \"j\" index. The i and j are condensed into a single string, separated by an underscore."
   ]
  },
  {
   "cell_type": "code",
   "execution_count": 7,
   "id": "924ff5d3",
   "metadata": {},
   "outputs": [
    {
     "data": {
      "text/plain": [
       "Source node  Target node\n",
       "-10_11       -10_14           3372.0\n",
       "             -10_17         255834.0\n",
       "             -10_20             16.0\n",
       "             -11_13              4.0\n",
       "             -11_16          91396.0\n",
       "                              ...   \n",
       "6_6          -8_13               2.0\n",
       "             -8_16            1103.0\n",
       "             -9_15           11686.0\n",
       "             -9_18            2837.0\n",
       "             0_6                 1.0\n",
       "Length: 2618, dtype: float64"
      ]
     },
     "metadata": {},
     "output_type": "display_data"
    }
   ],
   "source": [
    "display(M)"
   ]
  },
  {
   "cell_type": "markdown",
   "id": "eef82b81",
   "metadata": {},
   "source": [
    "Let plot the connectivity matrix"
   ]
  },
  {
   "cell_type": "code",
   "execution_count": 10,
   "id": "fb351961",
   "metadata": {},
   "outputs": [
    {
     "data": {
      "text/plain": [
       "<matplotlib.image.AxesImage at 0x2aab795b0f10>"
      ]
     },
     "execution_count": 10,
     "metadata": {},
     "output_type": "execute_result"
    },
    {
     "data": {
      "image/png": "[encoded data removed]",
      "text/plain": [
       "<Figure size 432x288 with 1 Axes>"
      ]
     },
     "metadata": {
      "needs_background": "light"
     },
     "output_type": "display_data"
    }
   ],
   "source": [
    "from matplotlib import pyplot as plt\n",
    "\n",
    "plt.imshow(M.unstack(\"Target node\", fill_value=0), interpolation=\"nearest\")"
   ]
  },
  {
   "cell_type": "markdown",
   "id": "8ba565f9",
   "metadata": {},
   "source": [
    "For further analysis, we need to know the locations of each of the groups. So we quickly assembly a frame of the flat x and y locations of each group, index by the same strings as \"M\"."
   ]
  },
  {
   "cell_type": "code",
   "execution_count": 11,
   "id": "ec6ce0c6",
   "metadata": {},
   "outputs": [
    {
     "data": {
      "text/html": [
       "<div>\n",
       "<style scoped>\n",
       "    .dataframe tbody tr th:only-of-type {\n",
       "        vertical-align: middle;\n",
       "    }\n",
       "\n",
       "    .dataframe tbody tr th {\n",
       "        vertical-align: top;\n",
       "    }\n",
       "\n",
       "    .dataframe thead th {\n",
       "        text-align: right;\n",
       "    }\n",
       "</style>\n",
       "<table border=\"1\" class=\"dataframe\">\n",
       "  <thead>\n",
       "    <tr style=\"text-align: right;\">\n",
       "      <th></th>\n",
       "      <th>hex400-x</th>\n",
       "      <th>hex400-y</th>\n",
       "    </tr>\n",
       "  </thead>\n",
       "  <tbody>\n",
       "    <tr>\n",
       "      <th>-16_17</th>\n",
       "      <td>3.464102e+02</td>\n",
       "      <td>6600.0</td>\n",
       "    </tr>\n",
       "    <tr>\n",
       "      <th>-15_15</th>\n",
       "      <td>3.673940e-13</td>\n",
       "      <td>6000.0</td>\n",
       "    </tr>\n",
       "    <tr>\n",
       "      <th>-15_18</th>\n",
       "      <td>1.039230e+03</td>\n",
       "      <td>6600.0</td>\n",
       "    </tr>\n",
       "    <tr>\n",
       "      <th>-14_13</th>\n",
       "      <td>-3.464102e+02</td>\n",
       "      <td>5400.0</td>\n",
       "    </tr>\n",
       "    <tr>\n",
       "      <th>-14_16</th>\n",
       "      <td>6.928203e+02</td>\n",
       "      <td>6000.0</td>\n",
       "    </tr>\n",
       "    <tr>\n",
       "      <th>...</th>\n",
       "      <td>...</td>\n",
       "      <td>...</td>\n",
       "    </tr>\n",
       "    <tr>\n",
       "      <th>4_10</th>\n",
       "      <td>4.849742e+03</td>\n",
       "      <td>1200.0</td>\n",
       "    </tr>\n",
       "    <tr>\n",
       "      <th>5_5</th>\n",
       "      <td>3.464102e+03</td>\n",
       "      <td>0.0</td>\n",
       "    </tr>\n",
       "    <tr>\n",
       "      <th>5_8</th>\n",
       "      <td>4.503332e+03</td>\n",
       "      <td>600.0</td>\n",
       "    </tr>\n",
       "    <tr>\n",
       "      <th>6_6</th>\n",
       "      <td>4.156922e+03</td>\n",
       "      <td>0.0</td>\n",
       "    </tr>\n",
       "    <tr>\n",
       "      <th>7_7</th>\n",
       "      <td>4.849742e+03</td>\n",
       "      <td>0.0</td>\n",
       "    </tr>\n",
       "  </tbody>\n",
       "</table>\n",
       "<p>91 rows × 2 columns</p>\n",
       "</div>"
      ],
      "text/plain": [
       "            hex400-x  hex400-y\n",
       "-16_17  3.464102e+02    6600.0\n",
       "-15_15  3.673940e-13    6000.0\n",
       "-15_18  1.039230e+03    6600.0\n",
       "-14_13 -3.464102e+02    5400.0\n",
       "-14_16  6.928203e+02    6000.0\n",
       "...              ...       ...\n",
       "4_10    4.849742e+03    1200.0\n",
       "5_5     3.464102e+03       0.0\n",
       "5_8     4.503332e+03     600.0\n",
       "6_6     4.156922e+03       0.0\n",
       "7_7     4.849742e+03       0.0\n",
       "\n",
       "[91 rows x 2 columns]"
      ]
     },
     "metadata": {},
     "output_type": "display_data"
    }
   ],
   "source": [
    "hex_locations = base_grp.groupby(base_grp.index.names)[[\"hex400-x\", \"hex400-y\"]].agg(\"mean\")\n",
    "idxx = hex_locations.index.to_frame().apply(lambda row: \"{0}_{1}\".format(*row.values), axis=1)\n",
    "hex_locations.index = idxx\n",
    "\n",
    "display(hex_locations)"
   ]
  },
  {
   "cell_type": "markdown",
   "id": "0e10e886",
   "metadata": {},
   "source": [
    "Unstacking and re-stacking the data leads to filling in \"0\" values for all combinations that are unlisted "
   ]
  },
  {
   "cell_type": "code",
   "execution_count": 35,
   "id": "a3186b15",
   "metadata": {},
   "outputs": [],
   "source": [
    "M = M.unstack(\"Target node\", fill_value=0).stack()"
   ]
  },
  {
   "cell_type": "markdown",
   "id": "0b981d3b",
   "metadata": {},
   "source": [
    "Now we can plot for example the strengths of connections from an exemplary location\n",
    "NOTE: This is long-range connectivity only, so we do not expect it to peak around the source location"
   ]
  },
  {
   "cell_type": "code",
   "execution_count": 69,
   "id": "82ff093c",
   "metadata": {},
   "outputs": [
    {
     "name": "stderr",
     "output_type": "stream",
     "text": [
      "<ipython-input-69-bf6454f1a6d7>:14: FutureWarning: iteritems is deprecated and will be removed in a future version. Use .items instead.\n",
      "  for loc, value in m.iteritems():\n"
     ]
    },
    {
     "data": {
      "text/plain": [
       "Text(0, 0.5, 'um')"
      ]
     },
     "execution_count": 69,
     "metadata": {},
     "output_type": "execute_result"
    },
    {
     "data": {
      "image/png": "[encoded data removed]",
      "text/plain": [
       "<Figure size 288x288 with 1 Axes>"
      ]
     },
     "metadata": {
      "needs_background": "light"
     },
     "output_type": "display_data"
    }
   ],
   "source": [
    "exemplary_ij = \"-5_13\"\n",
    "exemplary_loc = hex_locations.loc[exemplary_ij]\n",
    "plot_divider = 5\n",
    "\n",
    "# Submatrix\n",
    "m = M.loc[exemplary_ij]\n",
    "m.name = \"C\"\n",
    "# Concatenate the connectivity data with the x, y corresponding locations of target groups.\n",
    "# Than set the index to the locations\n",
    "m = pandas.concat([m, hex_locations.loc[m.index]], axis=1).set_index([\"hex400-x\", \"hex400-y\"], drop=True)[\"C\"]\n",
    "\n",
    "# Plot log-scale\n",
    "ax = plt.figure(figsize=(4, 4)).gca()\n",
    "for loc, value in m.iteritems():\n",
    "    col = [numpy.minimum(numpy.log10(value + 1) / plot_divider, 1), 0, 0]\n",
    "    ax.plot(loc[0], loc[1], marker=\"h\", color=col, ms=20)\n",
    "\n",
    "ax.plot(exemplary_loc[\"hex400-x\"], exemplary_loc[\"hex400-y\"], marker='o', color=\"green\")\n",
    "ax.set_frame_on(False)\n",
    "ax.set_xlabel(\"um\"); ax.set_ylabel(\"um\")"
   ]
  },
  {
   "cell_type": "markdown",
   "id": "0318eca5",
   "metadata": {},
   "source": [
    "Neat! Even cooler: Both outgoing and incoming connectivity.\n",
    "We encode outgoing strength in the \"red\" channel, incoming in the \"blue\" channel."
   ]
  },
  {
   "cell_type": "code",
   "execution_count": 79,
   "id": "f7a7537b",
   "metadata": {},
   "outputs": [
    {
     "data": {
      "text/plain": [
       "Text(0, 0.5, 'um')"
      ]
     },
     "execution_count": 79,
     "metadata": {},
     "output_type": "execute_result"
    },
    {
     "data": {
      "image/png": "[encoded data removed]",
      "text/plain": [
       "<Figure size 288x288 with 1 Axes>"
      ]
     },
     "metadata": {
      "needs_background": "light"
     },
     "output_type": "display_data"
    }
   ],
   "source": [
    "M.loc[:, exemplary_ij]\n",
    "\n",
    "exemplary_ij = \"-5_13\"\n",
    "exemplary_loc = hex_locations.loc[exemplary_ij]\n",
    "plot_divider = 5\n",
    "\n",
    "# Submatrices\n",
    "m_outgoing = M.loc[exemplary_ij]\n",
    "m_outgoing.name = \"OUT\"\n",
    "\n",
    "m_incoming = M.loc[:, exemplary_ij]\n",
    "m_incoming.name = \"IN\"\n",
    "\n",
    "# Concatenate the connectivity data with the x, y corresponding locations of target groups.\n",
    "# Than set the index to the locations\n",
    "m = pandas.concat([m_outgoing, m_incoming], axis=1)               \n",
    "m = pandas.concat([m, hex_locations.loc[m.index]], axis=1).set_index([\"hex400-x\", \"hex400-y\"], drop=True)\n",
    "\n",
    "# Plot log-scale\n",
    "ax = plt.figure(figsize=(4, 4)).gca()\n",
    "for loc, values in m.iterrows():\n",
    "    col = [numpy.minimum(numpy.log10(values[\"OUT\"] + 1) / plot_divider, 1),\n",
    "           0,\n",
    "           numpy.minimum(numpy.log10(values[\"IN\"] + 1) / plot_divider, 1)]\n",
    "    ax.plot(loc[0], loc[1], marker=\"h\", color=col, ms=20)\n",
    "\n",
    "ax.plot(exemplary_loc[\"hex400-x\"], exemplary_loc[\"hex400-y\"], marker='o', color=\"green\")\n",
    "ax.set_frame_on(False)\n",
    "ax.set_xlabel(\"um\"); ax.set_ylabel(\"um\")"
   ]
  },
  {
   "cell_type": "markdown",
   "id": "85d8b80f",
   "metadata": {},
   "source": [
    "Another example: Total incoming strength.\n",
    "\n",
    "Note: Not using logarithmic color scale, unlike above"
   ]
  },
  {
   "cell_type": "code",
   "execution_count": 60,
   "id": "d3b92995",
   "metadata": {},
   "outputs": [
    {
     "name": "stderr",
     "output_type": "stream",
     "text": [
      "<ipython-input-60-2482922af0d6>:12: FutureWarning: iteritems is deprecated and will be removed in a future version. Use .items instead.\n",
      "  for loc, value in m.iteritems():\n"
     ]
    },
    {
     "data": {
      "text/plain": [
       "Text(0, 0.5, 'um')"
      ]
     },
     "execution_count": 60,
     "metadata": {},
     "output_type": "execute_result"
    },
    {
     "data": {
      "image/png": "[encoded data removed]",
      "text/plain": [
       "<Figure size 288x288 with 1 Axes>"
      ]
     },
     "metadata": {
      "needs_background": "light"
     },
     "output_type": "display_data"
    }
   ],
   "source": [
    "plot_divider = 5E6\n",
    "# Matrix of sum of incoming connections\n",
    "m = M.groupby(\"Target node\").agg(\"sum\")\n",
    "m.name = \"C\"\n",
    "\n",
    "# Concatenate the connectivity data with the x, y corresponding locations of target groups.\n",
    "# Than set the index to the locations\n",
    "m = pandas.concat([m, hex_locations.loc[m.index]], axis=1).set_index([\"hex400-x\", \"hex400-y\"], drop=True)[\"C\"]\n",
    "\n",
    "# Plot log-scale\n",
    "ax = plt.figure(figsize=(4, 4)).gca()\n",
    "for loc, value in m.iteritems():\n",
    "    col = [numpy.minimum(value / plot_divider, 1), 0, 0]\n",
    "    ax.plot(loc[0], loc[1], marker=\"h\", color=col, ms=20)\n",
    "\n",
    "ax.set_frame_on(False)\n",
    "ax.set_xlabel(\"um\"); ax.set_ylabel(\"um\")"
   ]
  },
  {
   "cell_type": "markdown",
   "id": "f44471a7",
   "metadata": {},
   "source": [
    "Or outgoing"
   ]
  },
  {
   "cell_type": "code",
   "execution_count": 61,
   "id": "63bfb7d7",
   "metadata": {},
   "outputs": [
    {
     "name": "stderr",
     "output_type": "stream",
     "text": [
      "<ipython-input-61-f7faebf577ac>:12: FutureWarning: iteritems is deprecated and will be removed in a future version. Use .items instead.\n",
      "  for loc, value in m.iteritems():\n"
     ]
    },
    {
     "data": {
      "text/plain": [
       "Text(0, 0.5, 'um')"
      ]
     },
     "execution_count": 61,
     "metadata": {},
     "output_type": "execute_result"
    },
    {
     "data": {
      "image/png": "[encoded data removed]",
      "text/plain": [
       "<Figure size 288x288 with 1 Axes>"
      ]
     },
     "metadata": {
      "needs_background": "light"
     },
     "output_type": "display_data"
    }
   ],
   "source": [
    "plot_divider = 5E6\n",
    "# Matrix of sum of outgoing connections\n",
    "m = M.groupby(\"Source node\").agg(\"sum\")\n",
    "m.name = \"C\"\n",
    "\n",
    "# Concatenate the connectivity data with the x, y corresponding locations of target groups.\n",
    "# Than set the index to the locations\n",
    "m = pandas.concat([m, hex_locations.loc[m.index]], axis=1).set_index([\"hex400-x\", \"hex400-y\"], drop=True)[\"C\"]\n",
    "\n",
    "# Plot log-scale\n",
    "ax = plt.figure(figsize=(4, 4)).gca()\n",
    "for loc, value in m.iteritems():\n",
    "    col = [numpy.minimum(value / plot_divider, 1.0), 0, 0]\n",
    "    ax.plot(loc[0], loc[1], marker=\"h\", color=col, ms=20)\n",
    "\n",
    "ax.set_frame_on(False)\n",
    "ax.set_xlabel(\"um\"); ax.set_ylabel(\"um\")"
   ]
  }
 ],
 "metadata": {
  "kernelspec": {
   "display_name": "Python 3",
   "language": "python",
   "name": "python3"
  },
  "language_info": {
   "codemirror_mode": {
    "name": "ipython",
    "version": 3
   },
   "file_extension": ".py",
   "mimetype": "text/x-python",
   "name": "python",
   "nbconvert_exporter": "python",
   "pygments_lexer": "ipython3",
   "version": "3.8.3"
  }
 },
 "nbformat": 4,
 "nbformat_minor": 5
}
