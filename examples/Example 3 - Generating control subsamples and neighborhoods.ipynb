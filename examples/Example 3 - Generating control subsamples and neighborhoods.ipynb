{
 "cells": [
  {
   "cell_type": "markdown",
   "id": "f052fa31",
   "metadata": {},
   "source": [
    "# Subsamples and neighborhoods\n",
    "\n",
    "In this example we go through the ability of Connectome Utilities to generate control subpopulations.\n",
    "That is, imagine you have a large network, and a smaller sub-network of it, based on a subset of the nodes and all connections between them. You may find that the subnetwork appears to be non-random with respect to some analysis.\n",
    "At that point there are two options: The non-random aspect can be explained in terms of a non-random sampling from nodes with a given property, or not.\n",
    "\n",
    "As an example: In cortical neuronal networks we know that there are generally two types of nodes: Excitatory or Inhibitory. The first tends to have a larger in-degree, the second a larger out-degree. If your sample is biased towards one of the two groups, this may already explain your non-random aspect.\n",
    "\n",
    "To test this, we can generate random control subnetworks that match the subnetwork under investigation with respect to a node property. Here, we present an illustrative example.\n",
    "\n",
    "We begin by loading data. In this example, we load neuron-to-neuron connectivity of a few thousand neurons in a biologically detailed model. It also loads a list of \"properties\" associated with the nodes (neurons), such as their locations in two different coordinate systems.\n",
    "\n",
    "We demonstrate how the data would be loaded from a circuit model in Sonata format, but in case you don't have a Sonata circuit available, there is also a serialized version provided with this repository."
   ]
  },
  {
   "cell_type": "code",
   "execution_count": 1,
   "id": "e4866c53",
   "metadata": {},
   "outputs": [
    {
     "name": "stderr",
     "output_type": "stream",
     "text": [
      "100%|██████████| 6439/6439 [00:22<00:00, 281.30it/s]\n"
     ]
    }
   ],
   "source": [
    "import numpy, pandas\n",
    "import bluepysnap as snap\n",
    "import conntility\n",
    "import os\n",
    "\n",
    "from scipy.spatial import distance\n",
    "from matplotlib import pyplot as plt\n",
    "\n",
    "\n",
    "# Describes which node properties to load and filtering based on them\n",
    "# This loads a small subvolume of aorund 6.5k nodes\n",
    "load_cfg = {\n",
    "    \"loading\":{    \n",
    "        \"properties\": [\"x\", \"y\", \"z\", \"mtype\", \"layer\", \"synapse_class\"],\n",
    "        \"atlas\": [\n",
    "            {\n",
    "                \"data\": \"./data/ss_fm.nrrd\", \n",
    "                \"properties\": [\"ss_flat_x\", \"depth\", \"ss_flat_y\"]\n",
    "            }\n",
    "        ],\n",
    "        \"base_target\": \"hex_O1\",\n",
    "        \"node_population\": \"S1nonbarrel_neurons\"\n",
    "    },\n",
    "    \"filtering\":[\n",
    "        {\n",
    "            \"column\": \"synapse_class\",\n",
    "            \"values\": [\"EXC\"]\n",
    "        },\n",
    "        {\n",
    "            \"column\": \"layer\",\n",
    "            \"values\": [2, 3]\n",
    "        },\n",
    "        {\n",
    "            \"column\": \"ss_flat_x\",\n",
    "            \"interval\": [1200, 1600]\n",
    "        },\n",
    "        {\n",
    "            \"column\": \"ss_flat_y\",\n",
    "            \"interval\": [2300, 2700]\n",
    "        }\n",
    "    ]\n",
    "}\n",
    "\n",
    "# Some additional configuration\n",
    "fn_circ = \"./data/circuit_config_multipop.json\"\n",
    "fn_con_mat = \"./data/L23_EXC_sampled_cmat.h5\"\n",
    "population = 'S1nonbarrel_neurons__S1nonbarrel_neurons__chemical'\n",
    "\n",
    "# Since you may not have access to the Sonata circuit this example is based on, we provide the result also in hdf5\n",
    "if os.path.exists(fn_con_mat):\n",
    "    cmat = conntility.ConnectivityMatrix.from_h5(fn_con_mat)\n",
    "else:\n",
    "    circ = snap.Circuit(fn_circ)\n",
    "    cmat = conntility.ConnectivityMatrix.from_bluepy(circ, load_config=load_cfg, population=population,\n",
    "                                                    connectome=\"S1nonbarrel_neurons__S1nonbarrel_neurons__chemical\")\n",
    "    cmat.to_h5(fn_con_mat)"
   ]
  },
  {
   "cell_type": "markdown",
   "id": "1896a84d",
   "metadata": {},
   "source": [
    "Using the .index operator, we first generate a non-random subpopulation. In this example, we first sample all nodes where the value of the \"ss_flat_x\" property (its x-coordinate) is between 1350 and 1400. Then we randomly pick 100 nodes from the result. As in this dataset connectivity is strongly distance-dependent, this will result in a connection probability higher than in the overall network.\n",
    "\n",
    "The first sampling is done by chaining a \"lt\" (less than) indexing operation with a \"gt\" (greater than) operation. The second is done by randomly picking from the \"gid\" node property, then accessing the corresponding .subpopulation"
   ]
  },
  {
   "cell_type": "code",
   "execution_count": 2,
   "id": "d1491a41",
   "metadata": {},
   "outputs": [],
   "source": [
    "subpop = cmat.index(\"ss_flat_x\").lt(1400).index(\"ss_flat_x\").gt(1350)\n",
    "subpop = subpop.subpopulation(numpy.random.choice(subpop.vertices[\"node_ids\"], 100, replace=False))"
   ]
  },
  {
   "cell_type": "markdown",
   "id": "62206691",
   "metadata": {},
   "source": [
    "Confirm that the connection probability is higher than in the base population."
   ]
  },
  {
   "cell_type": "code",
   "execution_count": 3,
   "id": "a6b6bfc9",
   "metadata": {},
   "outputs": [
    {
     "name": "stdout",
     "output_type": "stream",
     "text": [
      "\n",
      "The subpopulation has a connection probability of 3.1900000000000004%,\n",
      "compared to that, the overall network has a connection probability of 1.7219888674873722%\n"
     ]
    }
   ],
   "source": [
    "print(\"\"\"\n",
    "The subpopulation has a connection probability of {0}%,\n",
    "compared to that, the overall network has a connection probability of {1}%\"\"\".format(\n",
    "    100 * subpop.matrix.mean(),\n",
    "    100 * cmat.matrix.mean()))"
   ]
  },
  {
   "cell_type": "markdown",
   "id": "ff67e635",
   "metadata": {},
   "source": [
    "As a test, we generate a control subpopulation with the same distribution of the \"mtype\" property as our subpopulation. We confirm that it matches by considering the difference."
   ]
  },
  {
   "cell_type": "code",
   "execution_count": 4,
   "id": "76b87ba1",
   "metadata": {
    "scrolled": true
   },
   "outputs": [
    {
     "data": {
      "text/plain": [
       "mtype\n",
       "L3_TPC:A     0\n",
       "L2_TPC:B     0\n",
       "L3_TPC:C     0\n",
       "L2_TPC:A     0\n",
       "L2_IPC       0\n",
       "L5_DBC       0\n",
       "L5_LBC       0\n",
       "L5_MC        0\n",
       "L5_NBC       0\n",
       "L5_NGC       0\n",
       "L5_SBC       0\n",
       "L5_TPC:A     0\n",
       "L5_TPC:B     0\n",
       "L5_TPC:C     0\n",
       "L5_UPC       0\n",
       "L6_BP        0\n",
       "L1_DAC       0\n",
       "L5_BTC       0\n",
       "L6_BPC       0\n",
       "L6_BTC       0\n",
       "L6_CHC       0\n",
       "L6_DBC       0\n",
       "L6_HPC       0\n",
       "L6_IPC       0\n",
       "L6_LBC       0\n",
       "L6_MC        0\n",
       "L6_NBC       0\n",
       "L6_NGC       0\n",
       "L6_SBC       0\n",
       "L6_TPC:A     0\n",
       "L6_TPC:C     0\n",
       "L5_CHC       0\n",
       "L4_TPC       0\n",
       "L5_BP        0\n",
       "L23_NGC      0\n",
       "L1_LAC       0\n",
       "L1_NGC-DA    0\n",
       "L1_NGC-SA    0\n",
       "L1_SAC       0\n",
       "L23_BP       0\n",
       "L23_BTC      0\n",
       "L23_CHC      0\n",
       "L23_DBC      0\n",
       "L23_LBC      0\n",
       "L23_MC       0\n",
       "L23_NBC      0\n",
       "L23_SBC      0\n",
       "L4_UPC       0\n",
       "L4_BP        0\n",
       "L4_BTC       0\n",
       "L4_CHC       0\n",
       "L4_DBC       0\n",
       "L4_LBC       0\n",
       "L4_MC        0\n",
       "L4_NBC       0\n",
       "L4_NGC       0\n",
       "L4_SBC       0\n",
       "L4_SSC       0\n",
       "L1_HAC       0\n",
       "L6_UPC       0\n",
       "Name: count, dtype: int64"
      ]
     },
     "metadata": {},
     "output_type": "display_data"
    }
   ],
   "source": [
    "rnd_control_mtype = cmat.index(\"mtype\").random_categorical(subpop.gids)\n",
    "\n",
    "display(subpop.vertices[\"mtype\"].value_counts() - rnd_control_mtype.vertices[\"mtype\"].value_counts())"
   ]
  },
  {
   "cell_type": "markdown",
   "id": "1cec8d01",
   "metadata": {},
   "source": [
    "This random control sample does not explain the increased connection probability, as expected."
   ]
  },
  {
   "cell_type": "code",
   "execution_count": 5,
   "id": "e9df760d",
   "metadata": {},
   "outputs": [
    {
     "name": "stdout",
     "output_type": "stream",
     "text": [
      "\n",
      "The subpopulation has a connection probability of 3.1900000000000004%,\n",
      "compared to that, the random control has a connection probability of 1.8599999999999999%\n"
     ]
    }
   ],
   "source": [
    "print(\"\"\"\n",
    "The subpopulation has a connection probability of {0}%,\n",
    "compared to that, the random control has a connection probability of {1}%\"\"\".format(\n",
    "    100 * subpop.matrix.mean(),\n",
    "    100 * rnd_control_mtype.matrix.mean()))"
   ]
  },
  {
   "cell_type": "markdown",
   "id": "b6f869a9",
   "metadata": {},
   "source": [
    "When generating a random control according to a numerical property, it is first binned. The number of bins used can be provided.\n",
    "We confirm that the control matches the sample when the same number of bins is used.\n",
    "However, with respect to a larger number of bins it does not match, as expected."
   ]
  },
  {
   "cell_type": "code",
   "execution_count": 6,
   "id": "c4dba6ba",
   "metadata": {
    "scrolled": true
   },
   "outputs": [
    {
     "name": "stdout",
     "output_type": "stream",
     "text": [
      "[0 0 0 0 0 0 0 0 0 0 0 0 0 0 0 0 0 0 0 0 0 0 0 0 0]\n",
      "[ 0  0 -2  2  0  0  0  0  0  0 -1  1  0  0  0  0  0  0  0  0  0  0  0  0\n",
      "  0  0  0  0  0  0  0  0  1 -1  0  0  0  0  0  0  0  0  0  0  2 -2  0  0\n",
      "  1 -1]\n"
     ]
    }
   ],
   "source": [
    "rnd_control_depth = cmat.index(\"depth\").random_numerical(subpop.gids, n_bins=25)\n",
    "\n",
    "H_subpop, bins = numpy.histogram(subpop.vertices[\"depth\"], bins=25)\n",
    "H_control_depth = numpy.histogram(rnd_control_depth.vertices[\"depth\"], bins=bins)[0]\n",
    "\n",
    "print(H_subpop - H_control_depth)\n",
    "\n",
    "H_subpop, bins = numpy.histogram(subpop.vertices[\"depth\"], bins=50)\n",
    "H_control_depth = numpy.histogram(rnd_control_depth.vertices[\"depth\"], bins=bins)[0]\n",
    "\n",
    "print(H_subpop - H_control_depth)\n"
   ]
  },
  {
   "cell_type": "markdown",
   "id": "d92bfbb3",
   "metadata": {},
   "source": [
    "Still, no explanation of the increased connection probability."
   ]
  },
  {
   "cell_type": "code",
   "execution_count": 7,
   "id": "0e0b7b11",
   "metadata": {},
   "outputs": [
    {
     "name": "stdout",
     "output_type": "stream",
     "text": [
      "\n",
      "The subpopulation has a connection probability of 3.1900000000000004%,\n",
      "compared to that, the random control has a connection probability of 1.53%\n"
     ]
    }
   ],
   "source": [
    "print(\"\"\"\n",
    "The subpopulation has a connection probability of {0}%,\n",
    "compared to that, the random control has a connection probability of {1}%\"\"\".format(\n",
    "    100 * subpop.matrix.mean(),\n",
    "    100 * rnd_control_depth.matrix.mean()))"
   ]
  },
  {
   "cell_type": "markdown",
   "id": "7c19c054",
   "metadata": {},
   "source": [
    "Now we generate a control with respect to \"ss_flat_x\". As this is the property that first defined the non-random subpopulation, we expect this to have approximately the same connection probability."
   ]
  },
  {
   "cell_type": "code",
   "execution_count": 8,
   "id": "c82ec939",
   "metadata": {},
   "outputs": [
    {
     "name": "stdout",
     "output_type": "stream",
     "text": [
      "\n",
      "The subpopulation has a connection probability of 3.1900000000000004%,\n",
      "compared to that, the random control has a connection probability of 3.020000000000001%\n"
     ]
    }
   ],
   "source": [
    "rnd_control_x = cmat.index(\"ss_flat_x\").random_numerical(subpop.gids, n_bins=25)\n",
    "\n",
    "print(\"\"\"\n",
    "The subpopulation has a connection probability of {0}%,\n",
    "compared to that, the random control has a connection probability of {1}%\"\"\".format(\n",
    "    100 * subpop.matrix.mean(),\n",
    "    100 * rnd_control_x.matrix.mean()))"
   ]
  },
  {
   "cell_type": "markdown",
   "id": "4d53d344",
   "metadata": {},
   "source": [
    "## Neighborhood sampling\n",
    "\n",
    "Another way of generating subpopulations is using the very connectivity of the network: Neighborhood sampling.\n",
    "The neighborhood of a node is the set of nodes connected to it. We can easily sample the neighborhood of a node by providing the \"gids\" property of the node.\n",
    "\n",
    "By default, the \"center\" of the neighborhood, i.e. the node that is connected to all others, is placed first in the resulting subpopulation.\n",
    "We confirm that the first node is connected to all others."
   ]
  },
  {
   "cell_type": "code",
   "execution_count": 9,
   "id": "2b2d217e",
   "metadata": {},
   "outputs": [
    {
     "name": "stdout",
     "output_type": "stream",
     "text": [
      "[False  True  True  True  True  True  True  True  True  True  True  True\n",
      "  True  True  True  True  True  True  True  True  True  True  True  True\n",
      "  True  True  True  True  True  True  True  True  True  True  True  True\n",
      "  True  True  True  True  True  True  True  True  True  True  True  True\n",
      "  True  True  True  True  True  True  True  True  True  True  True  True\n",
      "  True  True  True  True  True  True  True  True  True  True  True  True\n",
      "  True  True  True  True  True  True  True  True  True  True  True  True\n",
      "  True  True  True  True  True  True  True  True  True  True  True  True\n",
      "  True  True  True  True  True  True  True  True  True  True  True  True\n",
      "  True  True  True  True  True  True  True  True  True  True  True  True\n",
      "  True  True  True  True  True  True  True  True  True  True  True  True\n",
      "  True  True  True  True  True  True  True  True  True  True  True  True\n",
      "  True  True  True  True  True  True  True  True  True  True  True  True\n",
      "  True  True  True  True  True  True  True  True  True  True  True  True\n",
      "  True  True  True  True  True  True  True  True  True  True  True  True\n",
      "  True  True  True  True  True  True  True  True  True  True  True  True\n",
      "  True  True  True  True  True  True  True  True  True  True  True  True\n",
      "  True  True  True  True  True  True  True  True  True  True  True  True\n",
      "  True  True  True  True  True  True  True  True  True  True  True  True\n",
      "  True  True  True  True  True  True  True  True  True  True  True  True\n",
      "  True  True  True  True  True  True  True  True  True  True  True  True\n",
      "  True  True  True  True  True  True  True  True  True  True  True  True\n",
      "  True  True  True  True  True  True  True  True  True  True  True  True\n",
      "  True  True  True  True  True  True  True  True  True  True  True  True\n",
      "  True  True  True  True  True  True  True  True  True  True  True  True\n",
      "  True  True  True  True  True  True  True  True  True  True  True  True]\n"
     ]
    }
   ],
   "source": [
    "from matplotlib import pyplot as plt\n",
    "\n",
    "neighborhood = cmat.neighborhood[subpop.gids[0]]\n",
    "print(neighborhood.array[0] | neighborhood.array[:, 0])"
   ]
  },
  {
   "cell_type": "markdown",
   "id": "1469765b",
   "metadata": {},
   "source": [
    "We have more control if we use the .get method instead of indexing. For example, we can set center_first to False, which keeps the order of the nodes in the base population instead of placing the center at index 0.\n",
    "\n",
    "By providing a \"gid\" to the \"pre=\" kwarg, we consider only the _efferently_ connected neighborhood. Similarly, we could use the \"post=\" kwarg for the _afferent_ neighborhood.\n",
    "\n",
    "We confirm that the result has one node with an out-degree equal to the size of the sample minus one."
   ]
  },
  {
   "cell_type": "code",
   "execution_count": 10,
   "id": "6e2fc65e",
   "metadata": {},
   "outputs": [
    {
     "name": "stdout",
     "output_type": "stream",
     "text": [
      "[0.02061856 0.01030928 0.15463918 0.08247423 0.04123711 0.01030928\n",
      " 0.07216495 0.09278351 0.03092784 1.         0.01030928 0.01030928\n",
      " 0.01030928 0.08247423 0.02061856 0.05154639 0.02061856 0.05154639\n",
      " 0.12371134 0.02061856 0.04123711 0.02061856 0.06185567 0.08247423\n",
      " 0.05154639 0.03092784 0.05154639 0.03092784 0.04123711 0.05154639\n",
      " 0.02061856 0.04123711 0.04123711 0.07216495 0.08247423 0.04123711\n",
      " 0.11340206 0.08247423 0.02061856 0.09278351 0.         0.02061856\n",
      " 0.04123711 0.         0.04123711 0.10309278 0.01030928 0.05154639\n",
      " 0.04123711 0.03092784 0.04123711 0.04123711 0.05154639 0.09278351\n",
      " 0.05154639 0.         0.03092784 0.05154639 0.02061856 0.01030928\n",
      " 0.07216495 0.02061856 0.03092784 0.         0.06185567 0.\n",
      " 0.06185567 0.06185567 0.05154639 0.08247423 0.04123711 0.08247423\n",
      " 0.02061856 0.02061856 0.01030928 0.06185567 0.09278351 0.05154639\n",
      " 0.         0.07216495 0.04123711 0.02061856 0.01030928 0.02061856\n",
      " 0.         0.01030928 0.         0.06185567 0.01030928 0.02061856\n",
      " 0.         0.         0.06185567 0.05154639 0.04123711 0.01030928\n",
      " 0.         0.01030928]\n"
     ]
    }
   ],
   "source": [
    "neighborhood = cmat.neighborhood.get(pre=subpop.gids[0], center_first=False)\n",
    "\n",
    "print(neighborhood.array.sum(axis=1) / (len(neighborhood) - 1))"
   ]
  },
  {
   "cell_type": "markdown",
   "id": "59b50c84",
   "metadata": {},
   "source": [
    "If we provide more than one \"gid\" as input, the result will be \"ConnectivityGroup\", i.e. a group of subpopulations. It can be indexed by the \"gids\" in the input. Additionally, it provides an .index property."
   ]
  },
  {
   "cell_type": "code",
   "execution_count": 11,
   "id": "8da5df76",
   "metadata": {},
   "outputs": [
    {
     "name": "stdout",
     "output_type": "stream",
     "text": [
      "[False  True  True  True  True  True  True  True  True  True  True  True\n",
      "  True  True  True  True  True  True  True  True  True  True  True  True\n",
      "  True  True  True  True  True  True  True  True  True  True  True  True\n",
      "  True  True  True  True  True  True  True  True  True  True  True  True\n",
      "  True  True  True  True  True  True  True  True  True  True  True  True\n",
      "  True  True  True  True  True  True  True  True  True  True  True  True\n",
      "  True  True  True  True  True  True  True  True  True  True  True  True\n",
      "  True  True  True  True  True  True  True  True  True  True  True  True\n",
      "  True  True  True  True  True  True  True  True  True  True  True  True\n",
      "  True  True  True  True  True  True  True  True  True  True  True  True\n",
      "  True  True  True  True  True  True  True  True  True  True  True  True\n",
      "  True  True  True  True  True  True  True  True  True  True  True  True\n",
      "  True  True  True  True  True  True  True  True  True  True  True  True\n",
      "  True  True  True  True  True  True  True  True  True  True  True  True\n",
      "  True  True  True  True  True  True  True  True  True  True  True  True\n",
      "  True  True  True  True  True  True  True  True  True  True  True  True\n",
      "  True  True  True  True  True  True  True  True  True  True  True  True\n",
      "  True  True  True  True  True  True  True  True  True  True  True  True\n",
      "  True  True  True  True  True  True  True  True  True  True  True  True\n",
      "  True  True  True  True  True  True  True  True  True  True  True  True\n",
      "  True  True  True  True  True  True  True  True  True  True  True  True\n",
      "  True  True  True  True  True  True  True  True  True  True  True  True\n",
      "  True  True  True  True  True  True  True  True  True  True  True  True\n",
      "  True  True  True  True  True  True  True  True  True  True  True  True\n",
      "  True  True  True  True  True  True  True  True  True  True  True  True\n",
      "  True  True  True  True  True  True  True  True  True  True  True  True]\n",
      "MultiIndex([(  2627,),\n",
      "            (166503,),\n",
      "            (144626,),\n",
      "            (170103,),\n",
      "            (  1105,),\n",
      "            ( 17746,),\n",
      "            (144985,),\n",
      "            (158207,),\n",
      "            (155805,),\n",
      "            ( 33161,)],\n",
      "           names=['center'])\n"
     ]
    }
   ],
   "source": [
    "grp = cmat.neighborhood[subpop.gids[:10]]\n",
    "\n",
    "smpl = grp[subpop.gids[0]]\n",
    "print(smpl.array[0] | smpl.array[:, 0])  # Confirm the \"center\" is connected to all others\n",
    "\n",
    "print(grp.index)"
   ]
  },
  {
   "cell_type": "markdown",
   "id": "e812b7df",
   "metadata": {},
   "source": [
    "Here is something we can do as an example: \n",
    "Is the distribtion of the \"mtype\" property of the sampled afferent neighborhoods non-random with respect to the base population?\n",
    "That is, do the nodes in a sample receive inputs from a non-random populations with respect to the \"mtype\" property? Or do they sample their inputs randomly from the base population?"
   ]
  },
  {
   "cell_type": "code",
   "execution_count": 12,
   "id": "22f10bdd",
   "metadata": {},
   "outputs": [
    {
     "data": {
      "text/plain": [
       "mtype\n",
       "L1_DAC            NaN\n",
       "L1_HAC            NaN\n",
       "L1_LAC            NaN\n",
       "L1_NGC-DA         NaN\n",
       "L1_NGC-SA         NaN\n",
       "L1_SAC            NaN\n",
       "L23_BP            NaN\n",
       "L23_BTC           NaN\n",
       "L23_CHC           NaN\n",
       "L23_DBC           NaN\n",
       "L23_LBC           NaN\n",
       "L23_MC            NaN\n",
       "L23_NBC           NaN\n",
       "L23_NGC           NaN\n",
       "L23_SBC           NaN\n",
       "L2_IPC       0.246065\n",
       "L2_TPC:A    -0.609844\n",
       "L2_TPC:B     0.554598\n",
       "L3_TPC:A    -0.400533\n",
       "L3_TPC:C    -0.346611\n",
       "L4_BP             NaN\n",
       "L4_BTC            NaN\n",
       "L4_CHC            NaN\n",
       "L4_DBC            NaN\n",
       "L4_LBC            NaN\n",
       "L4_MC             NaN\n",
       "L4_NBC            NaN\n",
       "L4_NGC            NaN\n",
       "L4_SBC            NaN\n",
       "L4_SSC            NaN\n",
       "L4_TPC            NaN\n",
       "L4_UPC            NaN\n",
       "L5_BP             NaN\n",
       "L5_BTC            NaN\n",
       "L5_CHC            NaN\n",
       "L5_DBC            NaN\n",
       "L5_LBC            NaN\n",
       "L5_MC             NaN\n",
       "L5_NBC            NaN\n",
       "L5_NGC            NaN\n",
       "L5_SBC            NaN\n",
       "L5_TPC:A          NaN\n",
       "L5_TPC:B          NaN\n",
       "L5_TPC:C          NaN\n",
       "L5_UPC            NaN\n",
       "L6_BP             NaN\n",
       "L6_BPC            NaN\n",
       "L6_BTC            NaN\n",
       "L6_CHC            NaN\n",
       "L6_DBC            NaN\n",
       "L6_HPC            NaN\n",
       "L6_IPC            NaN\n",
       "L6_LBC            NaN\n",
       "L6_MC             NaN\n",
       "L6_NBC            NaN\n",
       "L6_NGC            NaN\n",
       "L6_SBC            NaN\n",
       "L6_TPC:A          NaN\n",
       "L6_TPC:C          NaN\n",
       "L6_UPC            NaN\n",
       "dtype: float64"
      ]
     },
     "metadata": {},
     "output_type": "display_data"
    }
   ],
   "source": [
    "grp = cmat.neighborhood.get(post=subpop.gids[:10])\n",
    "\n",
    "neighborhood_mtypes = pandas.concat([grp[_gid].vertices[\"mtype\"].value_counts(normalize=True)\n",
    "                                     for _gid in grp.index], axis=1)\n",
    "\n",
    "diff_df = neighborhood_mtypes.mean(axis=1) - cmat.vertices[\"mtype\"].value_counts(normalize=True)\n",
    "zscore_df = diff_df.divide(neighborhood_mtypes.std(axis=1))\n",
    "\n",
    "display(zscore_df)"
   ]
  }
 ],
 "metadata": {
  "kernelspec": {
   "display_name": "bluepysnap",
   "language": "python",
   "name": "bluepysnap"
  },
  "language_info": {
   "codemirror_mode": {
    "name": "ipython",
    "version": 3
   },
   "file_extension": ".py",
   "mimetype": "text/x-python",
   "name": "python",
   "nbconvert_exporter": "python",
   "pygments_lexer": "ipython3",
   "version": "3.10.8"
  }
 },
 "nbformat": 4,
 "nbformat_minor": 5
}
