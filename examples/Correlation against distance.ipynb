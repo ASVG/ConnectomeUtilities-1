{
 "cells": [
  {
   "cell_type": "code",
   "execution_count": 6,
   "id": "ef829b83",
   "metadata": {},
   "outputs": [],
   "source": [
    "import numpy, pandas, conntility\n",
    "import bluepysnap as snap\n",
    "from scipy.spatial import distance\n",
    "from scipy import sparse\n",
    "\n",
    "\n",
    "\n",
    "fn_circ = \"./data/circuit_config_multipop.json\"\n",
    "circ = snap.Circuit(fn_circ)\n",
    "\n",
    "load_cfg = {\"loading\": {\"base_target\": \"Mosaic\",\n",
    "                        \"node_population\": \"S1nonbarrel_neurons\",\n",
    "                        \"properties\": [\"x\", \"y\", \"z\", \"synapse_class\"],\n",
    "                        \"atlas\": [\n",
    "                            {\n",
    "                                \"data\": \"./data/ss_fm.nrrd\", \n",
    "                                \"properties\": [\"ss_flat_x\", \"depth\", \"ss_flat_y\"]\n",
    "                            }\n",
    "                        ]\n",
    "                        },\n",
    "            \"grouping\": [{\"method\": \"group_by_grid\", \"columns\": [\"ss_flat_x\", \"ss_flat_y\"], \"args\": [50]}]}\n",
    "nrn_df = conntility.circuit_models.neuron_groups.load_group_filter(circ, load_cfg)\n",
    "grid_locs = nrn_df.groupby([\"grid-subtarget\"])[[\"grid-x\", \"grid-y\"]].apply(\"mean\").iloc[1:]"
   ]
  },
  {
   "cell_type": "code",
   "execution_count": 10,
   "id": "6b229a3a",
   "metadata": {},
   "outputs": [],
   "source": [
    "def for_simulation(fn_sim, nrn_df, grid_locs):\n",
    "    dt = 10.0\n",
    "    dd = 50.0\n",
    "    sim = snap.Simulation(fn_sim)\n",
    "    spks = sim.spikes.get()\n",
    "    spks_rv = spks.reset_index().set_index(\"gid\")[\"t\"]\n",
    "    t_bins = numpy.arange(1000.0, sim.t_end + dt, dt)\n",
    "    dbins = numpy.hstack([[0.1], numpy.arange(dd, 8000 + dd, dd)])\n",
    "\n",
    "    nrn_fltr = nrn_df.set_index(\"gid\")\n",
    "    nrn_fltr = nrn_fltr.loc[nrn_fltr.index.intersection(spks_rv.index)].reset_index().set_index(\"grid-subtarget\")\n",
    "\n",
    "    tb = numpy.digitize(spks_rv.values, bins=t_bins)\n",
    "    M = sparse.coo_matrix((numpy.ones_like(tb), (spks_rv.index.values, tb)), shape=(len(nrn_df) + 1, len(t_bins) + 1)).tocsr()\n",
    "\n",
    "    vc = nrn_fltr.reset_index()[\"grid-subtarget\"].value_counts()\n",
    "    valid = (vc > 50) & (vc < 10000)\n",
    "    nrn_use = nrn_fltr.loc[valid]\n",
    "\n",
    "    H = nrn_use.groupby([\"grid-subtarget\"])[\"gid\"].apply(lambda v: numpy.array(M[v, :].sum(axis=0))[0, 1:] / len(v))\n",
    "\n",
    "    CC = numpy.corrcoef(numpy.vstack(H.values))\n",
    "    D = distance.squareform(distance.pdist(grid_locs.loc[H.index].values))\n",
    "\n",
    "    S = pandas.DataFrame({\"CC\": CC.flatten(), \"dbins\": numpy.digitize(D.flatten(), bins=dbins)})\n",
    "    S = S.loc[S[\"dbins\"] > 0]\n",
    "    x = 0.5 * (dbins[:-1] + dbins[1:])\n",
    "    S[\"distance\"] = x[S[\"dbins\"]]\n",
    "    return S"
   ]
  },
  {
   "cell_type": "code",
   "execution_count": 24,
   "id": "03d3092f",
   "metadata": {
    "scrolled": true
   },
   "outputs": [
    {
     "name": "stderr",
     "output_type": "stream",
     "text": [
      " 2023-04-12 19:28:14,712: Have keys ({'desired_connected_fr_L6E', 'desired_unconnected_fr_L5I', 'desired_unconnected_fr_L23E', 'desired_unconnected_fr_L6I', 'desired_connected_fr_L1I', 'desired_connected_fr_L6I', 'desired_unconnected_fr_L23I', 'desired_unconnected_fr_L4I', 'depol_stdev_mean_ratio', 'desired_connected_proportion_of_invivo_frs', 'desired_unconnected_fr_L1I', 'desired_connected_fr_L4I', 'desired_connected_fr_L23E', 'desired_unconnected_fr_L6E', 'desired_connected_fr_L4E', 'desired_unconnected_fr_L4E', 'desired_connected_fr_L5E', 'desired_unconnected_fr_L5E', 'desired_connected_fr_L5I', 'desired_connected_fr_L23I'}) that are not defined for section: Run\n"
     ]
    },
    {
     "name": "stdout",
     "output_type": "stream",
     "text": [
      "Ignoring unknown Section type Conditions\n",
      "Ignoring unknown Section type Stimulus\n",
      "Ignoring unknown Section type Stimulus\n",
      "Ignoring unknown Section type Stimulus\n",
      "Ignoring unknown Section type Stimulus\n",
      "Ignoring unknown Section type Stimulus\n",
      "Ignoring unknown Section type Stimulus\n",
      "Ignoring unknown Section type Stimulus\n",
      "Ignoring unknown Section type Stimulus\n",
      "Ignoring unknown Section type Stimulus\n"
     ]
    },
    {
     "name": "stderr",
     "output_type": "stream",
     "text": [
      " 2023-04-12 19:28:22,461: Have keys ({'desired_connected_fr_L6E', 'desired_unconnected_fr_L5I', 'desired_unconnected_fr_L23E', 'desired_unconnected_fr_L6I', 'desired_connected_fr_L1I', 'desired_connected_fr_L6I', 'desired_unconnected_fr_L23I', 'desired_unconnected_fr_L4I', 'depol_stdev_mean_ratio', 'desired_connected_proportion_of_invivo_frs', 'desired_unconnected_fr_L1I', 'desired_connected_fr_L4I', 'desired_connected_fr_L23E', 'desired_unconnected_fr_L6E', 'desired_connected_fr_L4E', 'desired_unconnected_fr_L4E', 'desired_connected_fr_L5E', 'desired_unconnected_fr_L5E', 'desired_connected_fr_L5I', 'desired_connected_fr_L23I'}) that are not defined for section: Run\n"
     ]
    },
    {
     "name": "stdout",
     "output_type": "stream",
     "text": [
      "Ignoring unknown Section type Conditions\n",
      "Ignoring unknown Section type Stimulus\n",
      "Ignoring unknown Section type Stimulus\n",
      "Ignoring unknown Section type Stimulus\n",
      "Ignoring unknown Section type Stimulus\n",
      "Ignoring unknown Section type Stimulus\n",
      "Ignoring unknown Section type Stimulus\n",
      "Ignoring unknown Section type Stimulus\n",
      "Ignoring unknown Section type Stimulus\n",
      "Ignoring unknown Section type Stimulus\n"
     ]
    },
    {
     "name": "stderr",
     "output_type": "stream",
     "text": [
      " 2023-04-12 19:28:30,155: Have keys ({'desired_connected_fr_L6E', 'desired_unconnected_fr_L5I', 'desired_unconnected_fr_L23E', 'desired_unconnected_fr_L6I', 'desired_connected_fr_L1I', 'desired_connected_fr_L6I', 'desired_unconnected_fr_L23I', 'desired_unconnected_fr_L4I', 'depol_stdev_mean_ratio', 'desired_connected_proportion_of_invivo_frs', 'desired_unconnected_fr_L1I', 'desired_connected_fr_L4I', 'desired_connected_fr_L23E', 'desired_unconnected_fr_L6E', 'desired_connected_fr_L4E', 'desired_unconnected_fr_L4E', 'desired_connected_fr_L5E', 'desired_unconnected_fr_L5E', 'desired_connected_fr_L5I', 'desired_connected_fr_L23I'}) that are not defined for section: Run\n"
     ]
    },
    {
     "name": "stdout",
     "output_type": "stream",
     "text": [
      "Ignoring unknown Section type Conditions\n",
      "Ignoring unknown Section type Stimulus\n",
      "Ignoring unknown Section type Stimulus\n",
      "Ignoring unknown Section type Stimulus\n",
      "Ignoring unknown Section type Stimulus\n",
      "Ignoring unknown Section type Stimulus\n",
      "Ignoring unknown Section type Stimulus\n",
      "Ignoring unknown Section type Stimulus\n",
      "Ignoring unknown Section type Stimulus\n",
      "Ignoring unknown Section type Stimulus\n"
     ]
    }
   ],
   "source": [
    "import glob\n",
    "import os\n",
    "\n",
    "fn_root = \"simulations/bb16bd9f-3d21-4a35-8296-d6aec4c55bf7/\"\n",
    "fns = glob.glob(fn_root + \"/*/out.dat\")\n",
    "fns = [fn.replace(\"out.h5\", \"BlueConfig\") for fn in fns]\n",
    "\n",
    "S = dict([\n",
    "    (os.path.split(os.path.split(fn)[0])[1], for_simulation(fn, nrn_df, grid_locs))\n",
    "    for fn in fns\n",
    "])"
   ]
  },
  {
   "cell_type": "code",
   "execution_count": 36,
   "id": "0ce756d9",
   "metadata": {},
   "outputs": [
    {
     "data": {
      "text/plain": [
       "<matplotlib.legend.Legend at 0x2aab96f1a040>"
      ]
     },
     "execution_count": 36,
     "metadata": {},
     "output_type": "execute_result"
    },
    {
     "data": {
      "image/png": "[encoded data removed]",
      "text/plain": [
       "<Figure size 180x180 with 1 Axes>"
      ]
     },
     "metadata": {
      "needs_background": "light"
     },
     "output_type": "display_data"
    },
    {
     "data": {
      "image/png": "[encoded data removed]",
      "text/plain": [
       "<Figure size 180x180 with 1 Axes>"
      ]
     },
     "metadata": {
      "needs_background": "light"
     },
     "output_type": "display_data"
    }
   ],
   "source": [
    "ax = plt.figure(figsize=[2.5, 2.5]).gca()\n",
    "vpm_pct = [5.0, 10.0, 15.0, 20.0, 25.0]\n",
    "\n",
    "for k, v in S.items():\n",
    "    plt.plot(v.groupby(\"distance\")[\"CC\"].apply(\"mean\"), label=\"{0}% fibers\".format(vpm_pct[int(k)]))\n",
    "\n",
    "ax.set_xlim([-100, 6000])\n",
    "ax.set_ylim([-0.005, 0.121])\n",
    "\n",
    "ax.set_xlabel(\"Distance (um)\")\n",
    "ax.set_ylabel(\"Correlation\")\n",
    "ax.set_frame_on(False)\n",
    "\n",
    "plt.legend()\n",
    "\n",
    "ax = plt.figure(figsize=[2.5, 2.5]).gca()\n",
    "\n",
    "for k, v in S.items():\n",
    "    plt.plot(v.groupby(\"distance\")[\"CC\"].apply(\"mean\"), label=\"{0}% fibers\".format(vpm_pct[int(k)]))\n",
    "\n",
    "ax.set_xlim([-100, 1000])\n",
    "ax.set_ylim([-0.005, 0.121])\n",
    "\n",
    "ax.set_xlabel(\"Distance (um)\")\n",
    "ax.set_ylabel(\"Correlation\")\n",
    "ax.set_frame_on(False)\n",
    "\n",
    "plt.legend()"
   ]
  }
 ],
 "metadata": {
  "kernelspec": {
   "display_name": "bluepysnap",
   "language": "python",
   "name": "bluepysnap"
  },
  "language_info": {
   "codemirror_mode": {
    "name": "ipython",
    "version": 3
   },
   "file_extension": ".py",
   "mimetype": "text/x-python",
   "name": "python",
   "nbconvert_exporter": "python",
   "pygments_lexer": "ipython3",
   "version": "3.10.8"
  }
 },
 "nbformat": 4,
 "nbformat_minor": 5
}
