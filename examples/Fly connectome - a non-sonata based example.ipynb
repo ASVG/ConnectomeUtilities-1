{
 "cells": [
  {
   "cell_type": "markdown",
   "id": "656bf378",
   "metadata": {},
   "source": [
    "## Creating a ConnectivityMatrix object of the Fly connectome\n",
    "\n",
    "In this example we use available data to create a ConnectivityMatrix object of the fly connectome. This is based on Mehta et al: https://direct.mit.edu/netn/article/7/1/269/113338/Circuit-analysis-of-the-Drosophila-brain-using\n",
    "\n",
    "The authors of that study made their data (and code) available on github:\n",
    "https://github.com/k3t3n/FlyConn/tree/main\n",
    "\n",
    "To begin, clone the repository linked above. In the next code cell, you will have to indicate its location where prompted.\n",
    "Note that the data is formatted in .rds, an R-specific file format. The best way of reading it in python I found is through rpy2. This requires also the installation of R. If you find a better way of reading the data, please let us know.\n",
    "\n",
    "We begin by setting up rpy2 and setting the data paths"
   ]
  },
  {
   "cell_type": "markdown",
   "id": "97ebe6e6",
   "metadata": {},
   "source": [
    "## DISCLAIMER\n",
    "Important: I am not an expert on this particular connectome. The code below is my interpretation of how the available data is formated, and I may have completely misunderstood it. This is meant to be an _example of some functionality_ of a python analysis package, _not a scientific exploration_ of a connectome. No one besides me has reviewed this example. \n",
    "\n",
    "Before using the results in this example for serious science, please double check everything!"
   ]
  },
  {
   "cell_type": "code",
   "execution_count": 1,
   "id": "3bab9719",
   "metadata": {},
   "outputs": [
    {
     "name": "stderr",
     "output_type": "stream",
     "text": [
      " 2023-06-07 01:59:21,373: cffi mode is CFFI_MODE.ANY\n",
      " 2023-06-07 01:59:21,389: R home found: /usr/lib/R\n",
      " 2023-06-07 01:59:21,502: R library path: /usr/lib/R/lib:/usr/lib/x86_64-linux-gnu:/usr/lib/jvm/default-java/lib/server\n",
      " 2023-06-07 01:59:21,503: LD_LIBRARY_PATH: /usr/lib/R/lib:/usr/lib/x86_64-linux-gnu:/usr/lib/jvm/default-java/lib/server\n",
      " 2023-06-07 01:59:21,507: Default options to initialize R: rpy2, --quiet, --no-save\n",
      " 2023-06-07 01:59:21,671: R is already initialized. No need to initialize.\n"
     ]
    }
   ],
   "source": [
    "import numpy\n",
    "import pandas\n",
    "import os\n",
    "\n",
    "import conntility\n",
    "\n",
    "from scipy import sparse\n",
    "import rpy2.robjects as robjects\n",
    "from rpy2.robjects import pandas2ri\n",
    "from matplotlib import pyplot as plt\n",
    "\n",
    "\n",
    "# INDICATE LOCATION OF THE FlyConn REPO YOU CLONED BELOW!\n",
    "base_root = \"../../FlyConn\"\n",
    "\n",
    "flyconn_root = os.path.join(base_root, \"data\")\n",
    "fn_con = \"A_str.rds\"\n",
    "fn_metadata = \"fly_metadata.csv\"\n",
    "\n",
    "flyconn_root2 = os.path.join(base_root, \"labels\")\n",
    "fn_acl = \"ACl.rds\"\n",
    "\n",
    "\n",
    "pandas2ri.activate()\n",
    "\n",
    "readRDS = robjects.r['readRDS']"
   ]
  },
  {
   "cell_type": "markdown",
   "id": "8e99dd85",
   "metadata": {},
   "source": [
    "Next, we read the connectivity matrix. It is formated as a sparse matrix that is compatible with the scipy.sparse.csc_matrix representation."
   ]
  },
  {
   "cell_type": "code",
   "execution_count": 2,
   "id": "68386677",
   "metadata": {},
   "outputs": [
    {
     "name": "stderr",
     "output_type": "stream",
     "text": [
      " 2023-06-07 01:59:22,477: R[write to console]: Loading required package: Matrix\n",
      "\n"
     ]
    }
   ],
   "source": [
    "df = readRDS(os.path.join(flyconn_root, fn_con))\n",
    "\n",
    "def rs42sparse(df):\n",
    "    idx = pandas2ri.rpy2py(df.slots['i'])\n",
    "    p = pandas2ri.rpy2py(df.slots['p'])\n",
    "    data = df.slots['x']\n",
    "    shape = pandas2ri.rpy2py(df.slots[\"Dim\"])\n",
    "    \n",
    "    labels = pandas2ri.rpy2py(df.slots[\"Dimnames\"])\n",
    "    assert numpy.all(labels[0] == labels[1])\n",
    "    \n",
    "    return sparse.csc_matrix((data, idx, p), shape=shape), labels[0]\n",
    "\n",
    "M, labels = rs42sparse(df)"
   ]
  },
  {
   "cell_type": "markdown",
   "id": "dc9cac00",
   "metadata": {},
   "source": [
    "Then we load annotations for the neurons. The first file contains basic information on neuron names, birthtime, etc. The second one also contains the main results of the publication listed above: connectomic-derived sub-network labels for all neurons!"
   ]
  },
  {
   "cell_type": "code",
   "execution_count": 3,
   "id": "16964438",
   "metadata": {},
   "outputs": [
    {
     "data": {
      "text/html": [
       "<div>\n",
       "<style scoped>\n",
       "    .dataframe tbody tr th:only-of-type {\n",
       "        vertical-align: middle;\n",
       "    }\n",
       "\n",
       "    .dataframe tbody tr th {\n",
       "        vertical-align: top;\n",
       "    }\n",
       "\n",
       "    .dataframe thead th {\n",
       "        text-align: right;\n",
       "    }\n",
       "</style>\n",
       "<table border=\"1\" class=\"dataframe\">\n",
       "  <thead>\n",
       "    <tr style=\"text-align: right;\">\n",
       "      <th></th>\n",
       "      <th>Index</th>\n",
       "      <th>Driver</th>\n",
       "      <th>Neurotransmitter</th>\n",
       "      <th>Birthtime</th>\n",
       "      <th>morpho</th>\n",
       "      <th>community</th>\n",
       "      <th>network</th>\n",
       "      <th>spad</th>\n",
       "      <th>type</th>\n",
       "    </tr>\n",
       "    <tr>\n",
       "      <th>Name</th>\n",
       "      <th></th>\n",
       "      <th></th>\n",
       "      <th></th>\n",
       "      <th></th>\n",
       "      <th></th>\n",
       "      <th></th>\n",
       "      <th></th>\n",
       "      <th></th>\n",
       "      <th></th>\n",
       "    </tr>\n",
       "  </thead>\n",
       "  <tbody>\n",
       "    <tr>\n",
       "      <th>104198-F-000000</th>\n",
       "      <td>1</td>\n",
       "      <td>104198-Gal4</td>\n",
       "      <td>unknown</td>\n",
       "      <td>embryo</td>\n",
       "      <td>0.0</td>\n",
       "      <td>OlfactoryRight</td>\n",
       "      <td>0.0</td>\n",
       "      <td>1.0</td>\n",
       "      <td>0</td>\n",
       "    </tr>\n",
       "    <tr>\n",
       "      <th>104198-F-000001</th>\n",
       "      <td>2</td>\n",
       "      <td>104198-Gal4</td>\n",
       "      <td>unknown</td>\n",
       "      <td>embryo</td>\n",
       "      <td>0.0</td>\n",
       "      <td>OlfactoryRight</td>\n",
       "      <td>0.0</td>\n",
       "      <td>1.0</td>\n",
       "      <td>0</td>\n",
       "    </tr>\n",
       "    <tr>\n",
       "      <th>104198-F-000003</th>\n",
       "      <td>3</td>\n",
       "      <td>104198-Gal4</td>\n",
       "      <td>unknown</td>\n",
       "      <td>embryo</td>\n",
       "      <td>0.0</td>\n",
       "      <td>OlfactoryRight</td>\n",
       "      <td>0.0</td>\n",
       "      <td>3.0</td>\n",
       "      <td>0</td>\n",
       "    </tr>\n",
       "    <tr>\n",
       "      <th>104198-F-000004</th>\n",
       "      <td>4</td>\n",
       "      <td>104198-Gal4</td>\n",
       "      <td>unknown</td>\n",
       "      <td>embryo</td>\n",
       "      <td>0.0</td>\n",
       "      <td>OlfactoryLeft</td>\n",
       "      <td>49.0</td>\n",
       "      <td>4.0</td>\n",
       "      <td>0</td>\n",
       "    </tr>\n",
       "    <tr>\n",
       "      <th>104198-F-000005</th>\n",
       "      <td>5</td>\n",
       "      <td>104198-Gal4</td>\n",
       "      <td>unknown</td>\n",
       "      <td>embryo</td>\n",
       "      <td>0.0</td>\n",
       "      <td>OlfactoryRight</td>\n",
       "      <td>38.0</td>\n",
       "      <td>3.0</td>\n",
       "      <td>0</td>\n",
       "    </tr>\n",
       "  </tbody>\n",
       "</table>\n",
       "</div>"
      ],
      "text/plain": [
       "                 Index       Driver Neurotransmitter Birthtime  morpho  \\\n",
       "Name                                                                     \n",
       "104198-F-000000      1  104198-Gal4          unknown    embryo     0.0   \n",
       "104198-F-000001      2  104198-Gal4          unknown    embryo     0.0   \n",
       "104198-F-000003      3  104198-Gal4          unknown    embryo     0.0   \n",
       "104198-F-000004      4  104198-Gal4          unknown    embryo     0.0   \n",
       "104198-F-000005      5  104198-Gal4          unknown    embryo     0.0   \n",
       "\n",
       "                      community  network  spad type  \n",
       "Name                                                 \n",
       "104198-F-000000  OlfactoryRight      0.0   1.0    0  \n",
       "104198-F-000001  OlfactoryRight      0.0   1.0    0  \n",
       "104198-F-000003  OlfactoryRight      0.0   3.0    0  \n",
       "104198-F-000004   OlfactoryLeft     49.0   4.0    0  \n",
       "104198-F-000005  OlfactoryRight     38.0   3.0    0  "
      ]
     },
     "metadata": {},
     "output_type": "display_data"
    }
   ],
   "source": [
    "nrn = pandas.read_csv(os.path.join(flyconn_root, fn_metadata)).set_index(\"Name\")\n",
    "nrn = nrn.loc[labels]\n",
    "\n",
    "df = readRDS(os.path.join(flyconn_root2, fn_acl))\n",
    "nrn_cl = pandas2ri.rpy2py(df).rename(columns={\"neuron_name\": \"Name\"}).set_index(\"Name\")\n",
    "nrn_cl = nrn_cl[[\"morpho\", \"community\", \"network\", \"spad\", \"type\"]]\n",
    "nrn_cl = nrn_cl.loc[labels]\n",
    "\n",
    "\n",
    "display(pandas.concat([nrn, nrn_cl], axis=1).head())"
   ]
  },
  {
   "cell_type": "markdown",
   "id": "076a5b28",
   "metadata": {},
   "source": [
    "We build a \"ConnectivityMatrix\" object from this.\n",
    "Disclaimer: the ConnectivityMatrix assumes that the first dimension of \"M\" denotes the _source_ neuron and the second one the _target_ neuron. I am not sure the data is formated that way (unfortunately there is no standard on this).\n",
    "\n",
    "If I got this wrong, let me know."
   ]
  },
  {
   "cell_type": "code",
   "execution_count": 4,
   "id": "1851f2b2",
   "metadata": {},
   "outputs": [],
   "source": [
    "C = conntility.ConnectivityMatrix(M, vertex_properties=pandas.concat([nrn, nrn_cl], axis=1))"
   ]
  },
  {
   "cell_type": "markdown",
   "id": "3d59c19d",
   "metadata": {},
   "source": [
    "As a sanity check of my assumption that the first dimension is the source, I calculate the resulting weighted in- and outdegrees of the individual communities."
   ]
  },
  {
   "cell_type": "code",
   "execution_count": 5,
   "id": "b2a92a52",
   "metadata": {},
   "outputs": [
    {
     "data": {
      "text/plain": [
       "community\n",
       "Auditory          1588\n",
       "Motor             1262\n",
       "OlfactoryCore     2991\n",
       "OlfactoryLeft     1184\n",
       "OlfactoryRight    1247\n",
       "PreMotor          3637\n",
       "VisionLeft        3965\n",
       "VisionRight       4028\n",
       "Name: count, dtype: int64"
      ]
     },
     "metadata": {},
     "output_type": "display_data"
    },
    {
     "data": {
      "text/plain": [
       "row\n",
       "Auditory          -72.942065\n",
       "Motor             -50.210777\n",
       "OlfactoryCore    -133.435640\n",
       "OlfactoryLeft      40.802365\n",
       "OlfactoryRight    198.817161\n",
       "PreMotor           45.965906\n",
       "VisionLeft         24.897856\n",
       "VisionRight         4.014647\n",
       "dtype: float64"
      ]
     },
     "metadata": {},
     "output_type": "display_data"
    }
   ],
   "source": [
    "comm_counts = C.vertices[\"community\"].value_counts().sort_index()  # Number of neuron in each community, for normalization\n",
    "display(comm_counts)\n",
    "\n",
    "comm_edges = C.edge_associated_vertex_properties(\"community\")  # For each edge, its source and target community\n",
    "comm_edges = pandas.concat([comm_edges, C.edges], axis=1)  # Concatenate the edge weight\n",
    "\n",
    "indeg = comm_edges.groupby(\"col\")[\"data\"].sum() / comm_counts  # Total inputs per neuron\n",
    "outdeg = comm_edges.groupby(\"row\")[\"data\"].sum() / comm_counts  # total outputs per neuron\n",
    "\n",
    "display(outdeg - indeg)"
   ]
  },
  {
   "cell_type": "markdown",
   "id": "7ea00398",
   "metadata": {},
   "source": [
    "Does it look like what you would expect given the overall sensory-motor flow? I am not a fly expert, so I don't know.\n",
    "\n",
    "\n",
    "But here is some other things we can do.\n",
    "\n",
    "Use the .index function to access subnetworks"
   ]
  },
  {
   "cell_type": "code",
   "execution_count": 6,
   "id": "050cb296",
   "metadata": {},
   "outputs": [
    {
     "data": {
      "text/plain": [
       "<2294x2294 sparse matrix of type '<class 'numpy.float64'>'\n",
       "\twith 59875 stored elements in COOrdinate format>"
      ]
     },
     "execution_count": 6,
     "metadata": {},
     "output_type": "execute_result"
    }
   ],
   "source": [
    "C.index(\"Birthtime\").eq(\"embryo\").matrix"
   ]
  },
  {
   "cell_type": "markdown",
   "id": "6741e1f4",
   "metadata": {},
   "source": [
    "The .neighborhood functon returns a subnetwork of neurons that are connected to a specified neuron (or list of specified neurons)."
   ]
  },
  {
   "cell_type": "code",
   "execution_count": 7,
   "id": "98e2647f",
   "metadata": {},
   "outputs": [
    {
     "data": {
      "text/plain": [
       "array([[  0.,   0.,   0., ...,  13.,  13.,   4.],\n",
       "       [  5.,   0.,   0., ...,  12.,   0.,  29.],\n",
       "       [  2.,   6.,   0., ...,   0.,   0.,   0.],\n",
       "       ...,\n",
       "       [  0.,   0.,   0., ...,   0.,   0.,   0.],\n",
       "       [358.,  37.,  46., ..., 349.,   0., 431.],\n",
       "       [ 69.,   0.,   0., ..., 149., 202.,   0.]])"
      ]
     },
     "execution_count": 7,
     "metadata": {},
     "output_type": "execute_result"
    }
   ],
   "source": [
    "C.neighborhood.get(\"104198-F-000005\").array"
   ]
  },
  {
   "cell_type": "markdown",
   "id": "67857bfd",
   "metadata": {},
   "source": [
    "With .condense we can count the number of connections between groups of neurons."
   ]
  },
  {
   "cell_type": "code",
   "execution_count": 8,
   "id": "e06b629f",
   "metadata": {},
   "outputs": [
    {
     "data": {
      "text/plain": [
       "<matplotlib.image.AxesImage at 0x7f7f0989c070>"
      ]
     },
     "execution_count": 8,
     "metadata": {},
     "output_type": "execute_result"
    },
    {
     "data": {
      "image/png": "[encoded data removed]",
      "text/plain": [
       "<Figure size 432x288 with 1 Axes>"
      ]
     },
     "metadata": {
      "needs_background": "light"
     },
     "output_type": "display_data"
    }
   ],
   "source": [
    "# NOTE: We first filter for the value of \"network\" (g)reater (t)han 0.\n",
    "# Because 0 indicates neurons that are not part of any specific network, so we ignore them here.\n",
    "\n",
    "plt.imshow(C.index(\"network\").gt(0).condense(\"network\").array, clim=[0, 1000])"
   ]
  },
  {
   "cell_type": "markdown",
   "id": "05f427c4",
   "metadata": {},
   "source": [
    "We can then use .filter to restrict to edges stronger than a specified value (such as 500 here) to de-noisen the result."
   ]
  },
  {
   "cell_type": "code",
   "execution_count": 9,
   "id": "5c029c69",
   "metadata": {},
   "outputs": [
    {
     "data": {
      "text/plain": [
       "<matplotlib.image.AxesImage at 0x7f7f097365e0>"
      ]
     },
     "execution_count": 9,
     "metadata": {},
     "output_type": "execute_result"
    },
    {
     "data": {
      "image/png": "[encoded data removed]",
      "text/plain": [
       "<Figure size 432x288 with 1 Axes>"
      ]
     },
     "metadata": {
      "needs_background": "light"
     },
     "output_type": "display_data"
    }
   ],
   "source": [
    "plt.imshow(C.index(\"network\").gt(0).condense(\"network\").filter(\"count\").gt(500).array, clim=[0, 1000])"
   ]
  },
  {
   "cell_type": "markdown",
   "id": "42305833",
   "metadata": {},
   "source": [
    "We can assess the modularity of the network with respect to the subnetworks of the publication."
   ]
  },
  {
   "cell_type": "code",
   "execution_count": 10,
   "id": "1e7ef937",
   "metadata": {},
   "outputs": [
    {
     "name": "stdout",
     "output_type": "stream",
     "text": [
      "Modularity of the subnetwork parcellation: 0.11217645527841924\n"
     ]
    }
   ],
   "source": [
    "C0 = C.index(\"network\").gt(0)\n",
    "mdlrty = C0.modularity(\"network\")\n",
    "\n",
    "print(\"Modularity of the subnetwork parcellation: {0}\".format(mdlrty))"
   ]
  },
  {
   "cell_type": "markdown",
   "id": "57fc0e8f",
   "metadata": {},
   "source": [
    "We can store the results for future loading."
   ]
  },
  {
   "cell_type": "code",
   "execution_count": 11,
   "id": "c5cf3cd2",
   "metadata": {},
   "outputs": [],
   "source": [
    "C.to_h5(\"./data/Drosophila_Mehta.h5\")"
   ]
  }
 ],
 "metadata": {
  "kernelspec": {
   "display_name": "Python 3 (ipykernel)",
   "language": "python",
   "name": "python3"
  },
  "language_info": {
   "codemirror_mode": {
    "name": "ipython",
    "version": 3
   },
   "file_extension": ".py",
   "mimetype": "text/x-python",
   "name": "python",
   "nbconvert_exporter": "python",
   "pygments_lexer": "ipython3",
   "version": "3.8.10"
  }
 },
 "nbformat": 4,
 "nbformat_minor": 5
}
